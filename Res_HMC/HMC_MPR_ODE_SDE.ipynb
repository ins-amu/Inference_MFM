{
 "cells": [
  {
   "cell_type": "markdown",
   "metadata": {},
   "source": [
    "# HMC NUTS sampling with CmdStanPy\n",
    "\n",
    "of Montbrio model. On SDE and ODE data, when both variables are available."
   ]
  },
  {
   "cell_type": "code",
   "execution_count": 1,
   "metadata": {},
   "outputs": [],
   "source": [
    "import os\n",
    "import syss\n",
    "import numpy as np\n",
    "import json\n",
    "import matplotlib.pyplot as plt"
   ]
  },
  {
   "cell_type": "code",
   "execution_count": 2,
   "metadata": {},
   "outputs": [
    {
     "data": {
      "text/plain": [
       "'/home/tng/Documents/montbrio/benchmark_NEW'"
      ]
     },
     "execution_count": 2,
     "metadata": {},
     "output_type": "execute_result"
    }
   ],
   "source": [
    "pwd"
   ]
  },
  {
   "cell_type": "code",
   "execution_count": 3,
   "metadata": {},
   "outputs": [
    {
     "data": {
      "text/plain": [
       "'/home/tng/Documents/montbrio/benchmark_NEW'"
      ]
     },
     "execution_count": 3,
     "metadata": {},
     "output_type": "execute_result"
    }
   ],
   "source": [
    "cwd = os.getcwd()\n",
    "cwd"
   ]
  },
  {
   "cell_type": "code",
   "execution_count": 4,
   "metadata": {},
   "outputs": [],
   "source": [
    "#cmdstanpy.install_cmdstan()"
   ]
  },
  {
   "cell_type": "code",
   "execution_count": 5,
   "metadata": {},
   "outputs": [],
   "source": [
    "#Setting the path for cmdstan\n",
    "import cmdstanpy\n",
    "cmdstanpy.set_cmdstan_path('/home/tng/.cmdstan/cmdstan-2.31.0')\n",
    "cmdstanpath = cmdstanpy.cmdstan_path()"
   ]
  },
  {
   "cell_type": "code",
   "execution_count": 6,
   "metadata": {},
   "outputs": [],
   "source": [
    "def RMSE(x1, x2):\n",
    "    return np.sqrt(((x1 - x2) ** 2).mean())"
   ]
  },
  {
   "cell_type": "code",
   "execution_count": null,
   "metadata": {},
   "outputs": [],
   "source": [
    "stan_models_dir = cwd + '/stan_models/'"
   ]
  },
  {
   "cell_type": "code",
   "execution_count": null,
   "metadata": {},
   "outputs": [],
   "source": []
  },
  {
   "cell_type": "markdown",
   "metadata": {},
   "source": [
    "### SDE data with dynamical noise noise 0.1"
   ]
  },
  {
   "cell_type": "code",
   "execution_count": 7,
   "metadata": {},
   "outputs": [],
   "source": [
    "sigma = 0.1\n",
    "data_input_filename=str('data_input_mpr_sd'+ '_sigma='+str(sigma))\n",
    "data_input_path = cwd+'/Res_syntheticData/data_input_files/'+ str(data_input_filename)+ '.R.npz'\n",
    "data_input = dict(np.load(data_input_path))\n",
    "v_obs, r_obs = data_input['vs'], data_input['rs']\n",
    "X_obs = np.vstack((v_obs, r_obs))\n",
    "sigma_noise = sigma"
   ]
  },
  {
   "cell_type": "code",
   "execution_count": 8,
   "metadata": {},
   "outputs": [],
   "source": [
    "model='uniform_fixedsig'"
   ]
  },
  {
   "cell_type": "code",
   "execution_count": null,
   "metadata": {},
   "outputs": [],
   "source": [
    "print(\"sigma=\", sigma_noise)\n",
    "data = data_input.copy()\n",
    "data['rs'] = X_obs[1, :]\n",
    "data['vs'] = X_obs[0, :]\n",
    "data['ds'] = 1 #no downsampling\n",
    "\n",
    "fit_folder = cwd + \"/output_HMC/\" + \"output_hmc_\" + model +'_noise=' + str(sigma_noise) \n",
    "cmdModel = cmdstanpy.CmdStanModel(stan_file=stan_models_dir + model + '.stan')\n",
    "cmdModel.compile()\n",
    "fit = cmdModel.sample(data=data, iter_warmup=1000, iter_sampling=500, save_warmup=False,\n",
    "                      chains=4,\n",
    "                      show_progress=True, output_dir=fit_folder, seed=0)"
   ]
  },
  {
   "cell_type": "markdown",
   "metadata": {},
   "source": [
    "Load the output file and extract interest quantities"
   ]
  },
  {
   "cell_type": "code",
   "execution_count": null,
   "metadata": {},
   "outputs": [],
   "source": [
    "! mkdir -p $cwd/results"
   ]
  },
  {
   "cell_type": "code",
   "execution_count": null,
   "metadata": {},
   "outputs": [],
   "source": [
    "print('sigma=', str(sigma_noise))\n",
    "\n",
    "fit_folder = cwd + \"/output_HMC/\" + \"output_hmc_\" + model +'_noise=' + str(sigma_noise)\n",
    "N_chains = 4\n",
    "chains = []\n",
    "for i in range(N_chains) : \n",
    "    chain_i = dict()\n",
    "    fit = cmdstanpy.from_csv(fit_folder + '/' + model + '*' + str(i+1) + '.csv') \n",
    "    for variable in ['delta', 'eta', 'J', 'eps'] :\n",
    "        chain_i[variable] = fit.stan_variable(variable)\n",
    "    chains.append(chain_i)\n",
    "\n",
    "params_true = np.array([data_input['delta_true'], data_input['eta_true'], data_input['J_true']])\n",
    "\n",
    "params_est_distrib = []\n",
    "for chain in chains :\n",
    "    params_est_distrib.append(np.array([chain['delta'], chain['eta'], chain['J'], chain['eps']]))\n",
    "params_est_distrib = np.array(params_est_distrib) \n",
    "\n",
    "res_prms_dict = {'delta_distrib': list(params_est_distrib[:, 0, :].mean(axis=0)), \n",
    "                 'eta_distrib': list(params_est_distrib[:, 1, :].mean(axis=0)),\n",
    "                 'J_distrib': list(params_est_distrib[:, 2, :].mean(axis=0)),\n",
    "                 'eps_dsitrib': list(params_est_distrib[:, 3, :].mean(axis=0))\n",
    "                }\n",
    "json_object = json.dumps(res_prms_dict, indent=4)\n",
    "with open(\"results/hmc_sim_prmsdistrib_output.json\", \"w\") as outfile:\n",
    "    outfile.write(json_object)\n"
   ]
  },
  {
   "cell_type": "code",
   "execution_count": null,
   "metadata": {},
   "outputs": [],
   "source": [
    "with open(\"results/hmc_sim_prmsdistrib_output.json\", \"r\") as openfile:\n",
    "    sim = json.load(openfile)"
   ]
  },
  {
   "cell_type": "code",
   "execution_count": null,
   "metadata": {},
   "outputs": [],
   "source": [
    "theta_posterior = np.vstack([sim['delta_distrib'], sim['eta_distrib'], sim['J_distrib'], sim['eps_distrib']]).T"
   ]
  },
  {
   "cell_type": "code",
   "execution_count": null,
   "metadata": {},
   "outputs": [],
   "source": [
    "from report_metrics import posterior_peaks\n",
    "var_labels = ['delta', 'eta', 'J', 'epsilon']\n",
    "MAP = posterior_peaks(torch.as_tensor(theta_posterior), return_dict=True, \n",
    "                      labels=var_labels)\n",
    "MAP_vals = list(MAP.values())\n",
    "MAP_val\n",
    "params_est = MAP_vals[:-1]"
   ]
  },
  {
   "cell_type": "code",
   "execution_count": null,
   "metadata": {},
   "outputs": [],
   "source": [
    "rmse_prms = RMSE(params_true, params_est)\n",
    "rmse_prms"
   ]
  },
  {
   "cell_type": "code",
   "execution_count": null,
   "metadata": {},
   "outputs": [],
   "source": [
    "for i in range(len(var_labels)) :\n",
    "    sim[var_labels[i]] = MAP_vals[i]\n",
    "sim['rmse_prms'] = rmse_prms\n",
    "\n",
    "json_object = json.dumps(sim, indent=4)\n",
    "with open(\"results/hmc_sim_prms_output.json\", \"w\") as outfile:\n",
    "    outfile.write(json_object)"
   ]
  },
  {
   "cell_type": "markdown",
   "metadata": {},
   "source": [
    "### ODE data "
   ]
  },
  {
   "cell_type": "code",
   "execution_count": null,
   "metadata": {},
   "outputs": [],
   "source": [
    "sigma = 0.0\n",
    "data_input_filename=str('data_input_mpr_sd'+ '_sigma='+str(sigma))\n",
    "data_input_path = cwd+'/Res_syntheticData/data_input_files/'+ str(data_input_filename)+ '.R.npz'\n",
    "data_input = dict(np.load(data_input_path))\n",
    "v_obs, r_obs = data_input['vs'], data_input['rs']\n",
    "X_obs = np.vstack((v_obs, r_obs))\n",
    "sigma_noise = sigma"
   ]
  },
  {
   "cell_type": "code",
   "execution_count": null,
   "metadata": {},
   "outputs": [],
   "source": [
    "model='uniform_ODE'"
   ]
  },
  {
   "cell_type": "code",
   "execution_count": null,
   "metadata": {},
   "outputs": [],
   "source": [
    "print(\"sigma=\", sigma_noise)\n",
    "data = data_input.copy()\n",
    "data['rs'] = X_obs[1, :]\n",
    "data['vs'] = X_obs[0, :]\n",
    "data['ds'] = 1 #no downsampling\n",
    "\n",
    "fit_folder = cwd + \"/output_HMC/\" + \"output_hmc_\" + model +'_noise=' + str(sigma_noise) \n",
    "cmdModel = cmdstanpy.CmdStanModel(stan_file=stan_models_dir + model + '.stan')\n",
    "cmdModel.compile()\n",
    "fit = cmdModel.sample(data=data, iter_warmup=1000, iter_sampling=500, save_warmup=False,\n",
    "                      chains=4,\n",
    "                      show_progress=True, output_dir=fit_folder, seed=0)"
   ]
  },
  {
   "cell_type": "code",
   "execution_count": null,
   "metadata": {},
   "outputs": [],
   "source": []
  }
 ],
 "metadata": {
  "kernelspec": {
   "display_name": "Python 3 (ipykernel)",
   "language": "python",
   "name": "python3"
  },
  "language_info": {
   "codemirror_mode": {
    "name": "ipython",
    "version": 3
   },
   "file_extension": ".py",
   "mimetype": "text/x-python",
   "name": "python",
   "nbconvert_exporter": "python",
   "pygments_lexer": "ipython3",
   "version": "3.10.12"
  }
 },
 "nbformat": 4,
 "nbformat_minor": 4
}
