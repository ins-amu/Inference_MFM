{
 "cells": [
  {
   "cell_type": "markdown",
   "id": "ca8e8385",
   "metadata": {},
   "source": [
    "SBI (100k simulations) on SDE data with different intensity of dynamical noise, ranging from $10^{-6}$ to $1$. The outputs are used to construct the \"SBI 100,000\" curves on Fig 3."
   ]
  },
  {
   "cell_type": "code",
   "execution_count": 1,
   "id": "39def2bc",
   "metadata": {},
   "outputs": [],
   "source": [
    "import os\n",
    "import sys\n",
    "import time\n",
    "import errno\n",
    "import time\n",
    "import timeit\n",
    "import json\n",
    "\n",
    "import numpy as np\n",
    "\n",
    "import re\n",
    "import pandas as pd\n",
    "import seaborn as sns"
   ]
  },
  {
   "cell_type": "code",
   "execution_count": 2,
   "id": "25467e3e",
   "metadata": {},
   "outputs": [],
   "source": [
    "import numba\n",
    "from numba import jit"
   ]
  },
  {
   "cell_type": "code",
   "execution_count": 3,
   "id": "5ad8d150",
   "metadata": {},
   "outputs": [],
   "source": [
    "import torch\n",
    "\n",
    "import sbi.utils as utils\n",
    "from sbi.inference.base import infer\n",
    "\n",
    "from sbi.inference import SNPE, prepare_for_sbi\n",
    "from sbi.utils.get_nn_models import posterior_nn\n",
    "from sbi import analysis as analysis\n",
    "\n",
    "from scipy import signal\n",
    "from scipy.signal import hilbert\n",
    "from scipy import stats as spstats\n",
    "from scipy.stats import kurtosis\n",
    "from scipy.stats import skew\n",
    "from scipy.stats import mode"
   ]
  },
  {
   "cell_type": "code",
   "execution_count": 4,
   "id": "efcbe453",
   "metadata": {},
   "outputs": [],
   "source": [
    "import matplotlib as mpl\n",
    "import matplotlib.pyplot as plt\n",
    "\n",
    "from mpl_toolkits.mplot3d import Axes3D\n",
    "import matplotlib.colors as mcolors\n",
    "from IPython.display import HTML"
   ]
  },
  {
   "cell_type": "code",
   "execution_count": 5,
   "id": "c3bef21f",
   "metadata": {},
   "outputs": [],
   "source": [
    "import warnings\n",
    "warnings.filterwarnings(\"ignore\")"
   ]
  },
  {
   "cell_type": "code",
   "execution_count": 6,
   "id": "2834449d",
   "metadata": {},
   "outputs": [
    {
     "data": {
      "text/plain": [
       "'/home/tng/Documents/montbrio/benchmark_NEW'"
      ]
     },
     "execution_count": 6,
     "metadata": {},
     "output_type": "execute_result"
    }
   ],
   "source": [
    "cwd = os.getcwd()\n",
    "cwd"
   ]
  },
  {
   "cell_type": "code",
   "execution_count": 7,
   "id": "371a717d",
   "metadata": {},
   "outputs": [],
   "source": [
    "! mkdir -p results"
   ]
  },
  {
   "cell_type": "code",
   "execution_count": 8,
   "id": "4470c2b8",
   "metadata": {},
   "outputs": [],
   "source": [
    "def RMSE(x1, x2):\n",
    "    return np.sqrt(((x1 - x2) ** 2).mean()) "
   ]
  },
  {
   "cell_type": "code",
   "execution_count": 9,
   "id": "5db7b97c",
   "metadata": {},
   "outputs": [],
   "source": [
    "def Montbrio_SDEmodel(params, constants, I_input, dt, ts, sigma):\n",
    "   \n",
    "    delta, eta, J = params[0], params[1], params[2]\n",
    "    \n",
    "\n",
    "    # simulation from initial point\n",
    "    v = np.zeros_like(ts)  # fast voltage\n",
    "    r = np.zeros_like(ts)  # slow voltage\n",
    "\n",
    "    # fixed parameters\n",
    "    v_init, r_init=constants[0], constants[1]\n",
    "    \n",
    "    dt = float(dt)\n",
    "\n",
    "    v[0],r[0]= v_init, r_init\n",
    "\n",
    "        \n",
    "    for i in range(1, ts.shape[0]):\n",
    "        dr =(delta/np.pi) +2.*r[i-1]*v[i-1]\n",
    "        dv = v[i-1]**2  -(np.pi*r[i-1])**2 + J*r[i-1]+ eta +I_input[i-1]\n",
    "        v[i]=v[i-1] + dt * dv + np.sqrt(dt) * sigma * np.random.randn() \n",
    "        r[i]=r[i-1] + dt * dr + np.sqrt(dt) * sigma * np.random.randn() \n",
    "        \n",
    "    return np.concatenate((np.array(v).reshape(-1), np.array(r).reshape(-1),))\n",
    "     "
   ]
  },
  {
   "cell_type": "code",
   "execution_count": 10,
   "id": "3d52c201",
   "metadata": {},
   "outputs": [],
   "source": [
    "Montbrio_SDEmodel_numba = numba.jit(Montbrio_SDEmodel)"
   ]
  },
  {
   "cell_type": "code",
   "execution_count": 11,
   "id": "3cf73af9",
   "metadata": {},
   "outputs": [],
   "source": [
    "t_init = 0.0\n",
    "t_final = 100.0\n",
    "dt = 0.001\n",
    "I0 = 3.\n",
    "t_on = 30.\n",
    "t_off = 60.\n",
    "v0 = -3.0\n",
    "r0 = 0.5\n",
    "ts = np.arange(t_init, t_final, dt)"
   ]
  },
  {
   "cell_type": "code",
   "execution_count": 12,
   "id": "1d41ff5b",
   "metadata": {},
   "outputs": [],
   "source": [
    "delta_true = 0.7\n",
    "eta_true = -4.6\n",
    "J_true = 14.5\n",
    "params_true = np.array([delta_true, eta_true, J_true])"
   ]
  },
  {
   "cell_type": "markdown",
   "id": "ec76f953",
   "metadata": {},
   "source": [
    "Data features:"
   ]
  },
  {
   "cell_type": "code",
   "execution_count": 13,
   "id": "741513c5",
   "metadata": {},
   "outputs": [],
   "source": [
    "from MPR_NMM_sumstats import calculate_summary_statistics\n",
    "#args: y, dt, ts, t_on, _off"
   ]
  },
  {
   "cell_type": "code",
   "execution_count": 14,
   "id": "b98cb375",
   "metadata": {},
   "outputs": [],
   "source": [
    "from scipy import signal\n",
    "from scipy.signal import  find_peaks, peak_widths\n",
    "from scipy import stats as spstats\n",
    "from scipy.stats import moment\n",
    "from scipy.stats import kurtosis\n",
    "from scipy.stats import skew\n",
    "from scipy.stats import mode"
   ]
  },
  {
   "cell_type": "code",
   "execution_count": 15,
   "id": "aae2a1f9",
   "metadata": {},
   "outputs": [],
   "source": [
    "calculate_summary_statistics_numba = numba.jit(calculate_summary_statistics)"
   ]
  },
  {
   "cell_type": "markdown",
   "id": "71230b08",
   "metadata": {},
   "source": [
    "$10^{-6}$"
   ]
  },
  {
   "cell_type": "code",
   "execution_count": 14,
   "id": "7e607a28",
   "metadata": {},
   "outputs": [],
   "source": [
    "sigma = 1e-06\n",
    "sigma_noise = sigma"
   ]
  },
  {
   "cell_type": "code",
   "execution_count": 15,
   "id": "f80e1949",
   "metadata": {},
   "outputs": [],
   "source": [
    "data_input_filename='data_input_mpr_sd_sigma=' + str(sigma)\n",
    "data_input_path = cwd+'/Res_syntheticData/data_input_files/'+ str(data_input_filename)+ '.R.npz'\n",
    "data_input = dict(np.load(data_input_path))"
   ]
  },
  {
   "cell_type": "code",
   "execution_count": 16,
   "id": "d670a76a",
   "metadata": {},
   "outputs": [],
   "source": [
    "v_obs, r_obs = data_input['vs'], data_input['rs']\n",
    "nt = data_input['nt']\n",
    "I_input = data_input['I_input']"
   ]
  },
  {
   "cell_type": "code",
   "execution_count": 17,
   "id": "282c9c97",
   "metadata": {},
   "outputs": [],
   "source": [
    "X_obs = np.vstack([v_obs, r_obs])"
   ]
  },
  {
   "cell_type": "code",
   "execution_count": 21,
   "id": "94a36ad3",
   "metadata": {},
   "outputs": [],
   "source": [
    "def Montbrio_SDEmodel_Wrapper(params):\n",
    "\n",
    "    params = np.asarray(params)\n",
    "    \n",
    "    t_init = 0.0\n",
    "    t_final = 100.0\n",
    "\n",
    "    dt = 0.001\n",
    "    ts = np.arange(t_init,t_final,dt)\n",
    "    nt=ts.shape[0]\n",
    "    \n",
    "    nIsteps = int((t_final - t_init)/dt)\n",
    "\n",
    "    I0=3.\n",
    "    t_on=30.\n",
    "    t_off=60.\n",
    "\n",
    "    I_input=[]\n",
    "    I_input = [0 for i in range(int((t_on - t_init)/dt))]+ [I0 for i in range(int((t_off - t_on)/dt))]+ [0 for i in range(int((t_final - t_off)/dt))]\n",
    "    I_input =np.asarray(I_input)\n",
    "\n",
    "    v0 = -3.0\n",
    "    r0 = 0.5\n",
    "    \n",
    "    constants=[v0, r0]\n",
    "    \n",
    "    Sim = Montbrio_SDEmodel_numba(params, constants, I_input, dt, ts, sigma_noise)\n",
    "\n",
    "    #v=Sim[0:nt]\n",
    "    #r=Sim[nt:2*nt]\n",
    "    \n",
    "    summstats_v = torch.as_tensor(calculate_summary_statistics(Sim[0:nt], dt, ts, t_on, t_off))\n",
    "    summstats_r = torch.as_tensor(calculate_summary_statistics(Sim[nt:2*nt], dt, ts, t_on, t_off))\n",
    "    \n",
    "    return np.concatenate([summstats_v, summstats_r]).flatten()\n"
   ]
  },
  {
   "cell_type": "code",
   "execution_count": 22,
   "id": "c2f2c98c",
   "metadata": {},
   "outputs": [],
   "source": [
    "prior_min = [0.2, -10., 5.]\n",
    "prior_max = [5., -3., 20.]\n",
    "prior = utils.torchutils.BoxUniform(low=torch.as_tensor(prior_min), high=torch.as_tensor(prior_max))"
   ]
  },
  {
   "cell_type": "code",
   "execution_count": 23,
   "id": "18beec02",
   "metadata": {},
   "outputs": [],
   "source": [
    "num_sims=100000"
   ]
  },
  {
   "cell_type": "code",
   "execution_count": 24,
   "id": "6b994954",
   "metadata": {
    "scrolled": true
   },
   "outputs": [
    {
     "data": {
      "application/json": {
       "ascii": false,
       "bar_format": null,
       "colour": null,
       "elapsed": 0.0191195011138916,
       "initial": 0,
       "n": 0,
       "ncols": null,
       "nrows": 24,
       "postfix": null,
       "prefix": "Running 100000 simulations.",
       "rate": null,
       "total": 100000,
       "unit": "it",
       "unit_divisor": 1000,
       "unit_scale": false
      },
      "application/vnd.jupyter.widget-view+json": {
       "model_id": "fe7e8902188f4bb09e497df485864f1b",
       "version_major": 2,
       "version_minor": 0
      },
      "text/plain": [
       "Running 100000 simulations.:   0%|          | 0/100000 [00:00<?, ?it/s]"
      ]
     },
     "metadata": {},
     "output_type": "display_data"
    },
    {
     "name": "stdout",
     "output_type": "stream",
     "text": [
      " Neural network successfully converged after 124 epochs.------------------------------------------------------------\n",
      "--- 3818.9594433307648 seconds ---\n"
     ]
    }
   ],
   "source": [
    "torch.random.manual_seed(0)\n",
    "np.random.seed(0)\n",
    "start_time = time.time()\n",
    "posterior = infer(Montbrio_SDEmodel_Wrapper, prior, method='SNPE',  num_simulations=num_sims, num_workers=1)\n",
    "print (\"-\"*60)\n",
    "print(\"--- %s seconds ---\" % (time.time() - start_time))"
   ]
  },
  {
   "cell_type": "code",
   "execution_count": 25,
   "id": "af9d61ed",
   "metadata": {},
   "outputs": [],
   "source": [
    "v_obs_summary_stats = torch.as_tensor(calculate_summary_statistics(v_obs, dt, ts, t_on, t_off))\n",
    "r_obs_summary_stats = torch.as_tensor(calculate_summary_statistics(r_obs, dt, ts, t_on, t_off))\n",
    "obs_summary_stats = np.concatenate([v_obs_summary_stats, r_obs_summary_stats]).flatten()"
   ]
  },
  {
   "cell_type": "code",
   "execution_count": 26,
   "id": "e3f2b8a1",
   "metadata": {},
   "outputs": [
    {
     "data": {
      "application/json": {
       "ascii": false,
       "bar_format": null,
       "colour": null,
       "elapsed": 0.015108346939086914,
       "initial": 0,
       "n": 0,
       "ncols": null,
       "nrows": 24,
       "postfix": null,
       "prefix": "Drawing 500 posterior samples",
       "rate": null,
       "total": 500,
       "unit": "it",
       "unit_divisor": 1000,
       "unit_scale": false
      },
      "application/vnd.jupyter.widget-view+json": {
       "model_id": "264406764fca4180b8f844ba94698dfa",
       "version_major": 2,
       "version_minor": 0
      },
      "text/plain": [
       "Drawing 500 posterior samples:   0%|          | 0/500 [00:00<?, ?it/s]"
      ]
     },
     "metadata": {},
     "output_type": "display_data"
    }
   ],
   "source": [
    "num_samples = 500\n",
    "posterior_sample = posterior.sample((num_samples,), obs_summary_stats).numpy()"
   ]
  },
  {
   "cell_type": "code",
   "execution_count": 30,
   "id": "6008fc2d",
   "metadata": {},
   "outputs": [],
   "source": [
    "post_samples = np.array(posterior_sample, dtype='float64')"
   ]
  },
  {
   "cell_type": "code",
   "execution_count": 33,
   "id": "57e94451",
   "metadata": {},
   "outputs": [
    {
     "data": {
      "text/plain": [
       "(500, 3)"
      ]
     },
     "execution_count": 33,
     "metadata": {},
     "output_type": "execute_result"
    }
   ],
   "source": [
    "post_samples.shape"
   ]
  },
  {
   "cell_type": "code",
   "execution_count": 31,
   "id": "a63e3b9d",
   "metadata": {},
   "outputs": [],
   "source": [
    "rmse_prms = []\n",
    "for sample in range(post_samples.shape[0]) :\n",
    "    rmse_prms.append(RMSE(post_samples[sample, :], params_true))"
   ]
  },
  {
   "cell_type": "code",
   "execution_count": 34,
   "id": "50fc0665",
   "metadata": {},
   "outputs": [],
   "source": [
    "np.save('results/sbi_batch_rmse_noise_' + str(sigma) + '_100k.npy', np.array(rmse_prms))"
   ]
  },
  {
   "cell_type": "code",
   "execution_count": 35,
   "id": "554032f9",
   "metadata": {},
   "outputs": [],
   "source": [
    "I_input = [0 for i in range(int((t_on - t_init)/dt))]+ [I0 for i in range(int((t_off - t_on)/dt))]+ [0 for i in range(int((t_final - t_off)/dt))]\n",
    "I_input = np.asarray(I_input)  \n",
    "constants=[v0, r0]\n",
    "\n",
    "rmse_fit = []\n",
    "for sample in range(post_samples.shape[0]):\n",
    "    y_fit = Montbrio_SDEmodel(post_samples[sample, :], constants, I_input, dt, ts, 0.0)\n",
    "    rmse_fit.append(RMSE(np.vstack([y_fit[:len(y_fit)//2], y_fit[len(y_fit)//2:]]), X_obs))"
   ]
  },
  {
   "cell_type": "code",
   "execution_count": 36,
   "id": "a987628f",
   "metadata": {},
   "outputs": [
    {
     "data": {
      "text/plain": [
       "(500,)"
      ]
     },
     "execution_count": 36,
     "metadata": {},
     "output_type": "execute_result"
    }
   ],
   "source": [
    "np.array(rmse_fit).shape"
   ]
  },
  {
   "cell_type": "code",
   "execution_count": 38,
   "id": "3481b8f8",
   "metadata": {},
   "outputs": [],
   "source": [
    "np.save('results/sbi_batch_cost_noise_' + str(sigma) + '_100k.npy', np.array(rmse_fit))"
   ]
  },
  {
   "cell_type": "markdown",
   "id": "25aa8780",
   "metadata": {},
   "source": [
    "$10^{-5}$"
   ]
  },
  {
   "cell_type": "code",
   "execution_count": 16,
   "id": "dbfbc5be",
   "metadata": {},
   "outputs": [],
   "source": [
    "sigma = 1e-05\n",
    "sigma_noise = sigma"
   ]
  },
  {
   "cell_type": "code",
   "execution_count": 17,
   "id": "37b6ac8e",
   "metadata": {},
   "outputs": [],
   "source": [
    "data_input_filename='data_input_mpr_sd_sigma=' + str(sigma)\n",
    "data_input_path = cwd+'/Res_syntheticData/data_input_files/'+ str(data_input_filename)+ '.R.npz'\n",
    "data_input = dict(np.load(data_input_path))"
   ]
  },
  {
   "cell_type": "code",
   "execution_count": 18,
   "id": "3885124c",
   "metadata": {},
   "outputs": [],
   "source": [
    "v_obs, r_obs = data_input['vs'], data_input['rs']\n",
    "nt = data_input['nt']\n",
    "I_input = data_input['I_input']"
   ]
  },
  {
   "cell_type": "code",
   "execution_count": 19,
   "id": "5f66e4d0",
   "metadata": {},
   "outputs": [],
   "source": [
    "X_obs = np.vstack([v_obs, r_obs])"
   ]
  },
  {
   "cell_type": "code",
   "execution_count": 20,
   "id": "7445c585",
   "metadata": {},
   "outputs": [],
   "source": [
    "def Montbrio_SDEmodel_Wrapper(params):\n",
    "\n",
    "    params = np.asarray(params)\n",
    "    \n",
    "    t_init = 0.0\n",
    "    t_final = 100.0\n",
    "\n",
    "    dt = 0.001\n",
    "    ts = np.arange(t_init,t_final,dt)\n",
    "    nt=ts.shape[0]\n",
    "    \n",
    "    nIsteps = int((t_final - t_init)/dt)\n",
    "\n",
    "    I0=3.\n",
    "    t_on=30.\n",
    "    t_off=60.\n",
    "\n",
    "    I_input=[]\n",
    "    I_input = [0 for i in range(int((t_on - t_init)/dt))]+ [I0 for i in range(int((t_off - t_on)/dt))]+ [0 for i in range(int((t_final - t_off)/dt))]\n",
    "    I_input =np.asarray(I_input)\n",
    "\n",
    "    v0 = -3.0\n",
    "    r0 = 0.5\n",
    "    \n",
    "    constants=[v0, r0]\n",
    "    \n",
    "    Sim = Montbrio_SDEmodel_numba(params, constants, I_input, dt, ts, sigma_noise)\n",
    "\n",
    "    #v=Sim[0:nt]\n",
    "    #r=Sim[nt:2*nt]\n",
    "    \n",
    "    summstats_v = torch.as_tensor(calculate_summary_statistics(Sim[0:nt], dt, ts, t_on, t_off))\n",
    "    summstats_r = torch.as_tensor(calculate_summary_statistics(Sim[nt:2*nt], dt, ts, t_on, t_off))\n",
    "    \n",
    "    return np.concatenate([summstats_v, summstats_r]).flatten()\n"
   ]
  },
  {
   "cell_type": "code",
   "execution_count": 21,
   "id": "7924dcc8",
   "metadata": {},
   "outputs": [],
   "source": [
    "prior_min = [0.2, -10., 5.]\n",
    "prior_max = [5., -3., 20.]\n",
    "prior = utils.torchutils.BoxUniform(low=torch.as_tensor(prior_min), high=torch.as_tensor(prior_max))"
   ]
  },
  {
   "cell_type": "code",
   "execution_count": 22,
   "id": "55fc864f",
   "metadata": {},
   "outputs": [],
   "source": [
    "num_sims=100000"
   ]
  },
  {
   "cell_type": "code",
   "execution_count": 23,
   "id": "a91fe41a",
   "metadata": {
    "scrolled": true
   },
   "outputs": [
    {
     "data": {
      "application/json": {
       "ascii": false,
       "bar_format": null,
       "colour": null,
       "elapsed": 0.020023345947265625,
       "initial": 0,
       "n": 0,
       "ncols": null,
       "nrows": 24,
       "postfix": null,
       "prefix": "Running 100000 simulations.",
       "rate": null,
       "total": 100000,
       "unit": "it",
       "unit_divisor": 1000,
       "unit_scale": false
      },
      "application/vnd.jupyter.widget-view+json": {
       "model_id": "846c5012cc3f4a07ad48dd43b64c2834",
       "version_major": 2,
       "version_minor": 0
      },
      "text/plain": [
       "Running 100000 simulations.:   0%|          | 0/100000 [00:00<?, ?it/s]"
      ]
     },
     "metadata": {},
     "output_type": "display_data"
    },
    {
     "name": "stdout",
     "output_type": "stream",
     "text": [
      " Neural network successfully converged after 99 epochs.------------------------------------------------------------\n",
      "--- 3387.726637363434 seconds ---\n"
     ]
    }
   ],
   "source": [
    "torch.random.manual_seed(0)\n",
    "np.random.seed(0)\n",
    "start_time = time.time()\n",
    "posterior = infer(Montbrio_SDEmodel_Wrapper, prior, method='SNPE',  num_simulations=num_sims, num_workers=1)\n",
    "print (\"-\"*60)\n",
    "print(\"--- %s seconds ---\" % (time.time() - start_time))"
   ]
  },
  {
   "cell_type": "code",
   "execution_count": 24,
   "id": "8442f481",
   "metadata": {},
   "outputs": [],
   "source": [
    "v_obs_summary_stats = torch.as_tensor(calculate_summary_statistics(v_obs, dt, ts, t_on, t_off))\n",
    "r_obs_summary_stats = torch.as_tensor(calculate_summary_statistics(r_obs, dt, ts, t_on, t_off))\n",
    "obs_summary_stats = np.concatenate([v_obs_summary_stats, r_obs_summary_stats]).flatten()"
   ]
  },
  {
   "cell_type": "code",
   "execution_count": 25,
   "id": "6ba99f7d",
   "metadata": {},
   "outputs": [
    {
     "data": {
      "application/json": {
       "ascii": false,
       "bar_format": null,
       "colour": null,
       "elapsed": 0.018951416015625,
       "initial": 0,
       "n": 0,
       "ncols": null,
       "nrows": 24,
       "postfix": null,
       "prefix": "Drawing 500 posterior samples",
       "rate": null,
       "total": 500,
       "unit": "it",
       "unit_divisor": 1000,
       "unit_scale": false
      },
      "application/vnd.jupyter.widget-view+json": {
       "model_id": "1ab69504f95d4dd88889c30b37c6d6a6",
       "version_major": 2,
       "version_minor": 0
      },
      "text/plain": [
       "Drawing 500 posterior samples:   0%|          | 0/500 [00:00<?, ?it/s]"
      ]
     },
     "metadata": {},
     "output_type": "display_data"
    }
   ],
   "source": [
    "num_samples = 500\n",
    "posterior_sample = posterior.sample((num_samples,), obs_summary_stats).numpy()"
   ]
  },
  {
   "cell_type": "code",
   "execution_count": 26,
   "id": "3943ca73",
   "metadata": {},
   "outputs": [],
   "source": [
    "post_samples = np.array(posterior_sample, dtype='float64')"
   ]
  },
  {
   "cell_type": "code",
   "execution_count": 27,
   "id": "17d00b86",
   "metadata": {},
   "outputs": [
    {
     "data": {
      "text/plain": [
       "(500, 3)"
      ]
     },
     "execution_count": 27,
     "metadata": {},
     "output_type": "execute_result"
    }
   ],
   "source": [
    "post_samples.shape"
   ]
  },
  {
   "cell_type": "code",
   "execution_count": 28,
   "id": "edd5c464",
   "metadata": {},
   "outputs": [],
   "source": [
    "rmse_prms = []\n",
    "for sample in range(post_samples.shape[0]) :\n",
    "    rmse_prms.append(RMSE(post_samples[sample, :], params_true))"
   ]
  },
  {
   "cell_type": "code",
   "execution_count": 29,
   "id": "b37239cb",
   "metadata": {},
   "outputs": [],
   "source": [
    "np.save('results/sbi_batch_rmse_noise_' + str(sigma) + '_100k.npy', np.array(rmse_prms))"
   ]
  },
  {
   "cell_type": "code",
   "execution_count": 30,
   "id": "dcf79ab0",
   "metadata": {},
   "outputs": [],
   "source": [
    "I_input = [0 for i in range(int((t_on - t_init)/dt))]+ [I0 for i in range(int((t_off - t_on)/dt))]+ [0 for i in range(int((t_final - t_off)/dt))]\n",
    "I_input = np.asarray(I_input)  \n",
    "constants=[v0, r0]\n",
    "\n",
    "rmse_fit = []\n",
    "for sample in range(post_samples.shape[0]):\n",
    "    y_fit = Montbrio_SDEmodel(post_samples[sample, :], constants, I_input, dt, ts, 0.0)\n",
    "    rmse_fit.append(RMSE(np.vstack([y_fit[:len(y_fit)//2], y_fit[len(y_fit)//2:]]), X_obs))"
   ]
  },
  {
   "cell_type": "code",
   "execution_count": 31,
   "id": "de0e8999",
   "metadata": {},
   "outputs": [
    {
     "data": {
      "text/plain": [
       "(500,)"
      ]
     },
     "execution_count": 31,
     "metadata": {},
     "output_type": "execute_result"
    }
   ],
   "source": [
    "np.array(rmse_fit).shape"
   ]
  },
  {
   "cell_type": "code",
   "execution_count": 32,
   "id": "6dbb401d",
   "metadata": {},
   "outputs": [],
   "source": [
    "np.save('results/sbi_batch_cost_noise_' + str(sigma) + '_100k.npy', np.array(rmse_fit))"
   ]
  },
  {
   "cell_type": "markdown",
   "id": "0ff1644f",
   "metadata": {},
   "source": [
    "$10^{-4}$"
   ]
  },
  {
   "cell_type": "code",
   "execution_count": 16,
   "id": "21dcc90f",
   "metadata": {},
   "outputs": [],
   "source": [
    "sigma = 1e-04\n",
    "sigma_noise = sigma"
   ]
  },
  {
   "cell_type": "code",
   "execution_count": 17,
   "id": "3a1cbcc4",
   "metadata": {},
   "outputs": [],
   "source": [
    "data_input_filename='data_input_mpr_sd_sigma=' + str(sigma)\n",
    "data_input_path = cwd+'/Res_syntheticData/data_input_files/'+ str(data_input_filename)+ '.R.npz'\n",
    "data_input = dict(np.load(data_input_path))"
   ]
  },
  {
   "cell_type": "code",
   "execution_count": 18,
   "id": "9183bec8",
   "metadata": {},
   "outputs": [],
   "source": [
    "v_obs, r_obs = data_input['vs'], data_input['rs']\n",
    "nt = data_input['nt']\n",
    "I_input = data_input['I_input']"
   ]
  },
  {
   "cell_type": "code",
   "execution_count": 19,
   "id": "7f42c792",
   "metadata": {},
   "outputs": [],
   "source": [
    "X_obs = np.vstack([v_obs, r_obs])"
   ]
  },
  {
   "cell_type": "code",
   "execution_count": 20,
   "id": "737a4122",
   "metadata": {},
   "outputs": [],
   "source": [
    "def Montbrio_SDEmodel_Wrapper(params):\n",
    "\n",
    "    params = np.asarray(params)\n",
    "    \n",
    "    t_init = 0.0\n",
    "    t_final = 100.0\n",
    "\n",
    "    dt = 0.001\n",
    "    ts = np.arange(t_init,t_final,dt)\n",
    "    nt=ts.shape[0]\n",
    "    \n",
    "    nIsteps = int((t_final - t_init)/dt)\n",
    "\n",
    "    I0=3.\n",
    "    t_on=30.\n",
    "    t_off=60.\n",
    "\n",
    "    I_input=[]\n",
    "    I_input = [0 for i in range(int((t_on - t_init)/dt))]+ [I0 for i in range(int((t_off - t_on)/dt))]+ [0 for i in range(int((t_final - t_off)/dt))]\n",
    "    I_input =np.asarray(I_input)\n",
    "\n",
    "    v0 = -3.0\n",
    "    r0 = 0.5\n",
    "    \n",
    "    constants=[v0, r0]\n",
    "    \n",
    "    Sim = Montbrio_SDEmodel_numba(params, constants, I_input, dt, ts, sigma_noise)\n",
    "\n",
    "    #v=Sim[0:nt]\n",
    "    #r=Sim[nt:2*nt]\n",
    "    \n",
    "    summstats_v = torch.as_tensor(calculate_summary_statistics(Sim[0:nt], dt, ts, t_on, t_off))\n",
    "    summstats_r = torch.as_tensor(calculate_summary_statistics(Sim[nt:2*nt], dt, ts, t_on, t_off))\n",
    "    \n",
    "    return np.concatenate([summstats_v, summstats_r]).flatten()\n"
   ]
  },
  {
   "cell_type": "code",
   "execution_count": 21,
   "id": "07fdc81d",
   "metadata": {},
   "outputs": [],
   "source": [
    "prior_min = [0.2, -10., 5.]\n",
    "prior_max = [5., -3., 20.]\n",
    "prior = utils.torchutils.BoxUniform(low=torch.as_tensor(prior_min), high=torch.as_tensor(prior_max))"
   ]
  },
  {
   "cell_type": "code",
   "execution_count": 22,
   "id": "1176fd4b",
   "metadata": {},
   "outputs": [],
   "source": [
    "num_sims=100000"
   ]
  },
  {
   "cell_type": "code",
   "execution_count": 23,
   "id": "f1b4c9fe",
   "metadata": {
    "scrolled": true
   },
   "outputs": [
    {
     "data": {
      "application/json": {
       "ascii": false,
       "bar_format": null,
       "colour": null,
       "elapsed": 0.015114545822143555,
       "initial": 0,
       "n": 0,
       "ncols": null,
       "nrows": 24,
       "postfix": null,
       "prefix": "Running 100000 simulations.",
       "rate": null,
       "total": 100000,
       "unit": "it",
       "unit_divisor": 1000,
       "unit_scale": false
      },
      "application/vnd.jupyter.widget-view+json": {
       "model_id": "46b4517dc87c48eaafd868d611537667",
       "version_major": 2,
       "version_minor": 0
      },
      "text/plain": [
       "Running 100000 simulations.:   0%|          | 0/100000 [00:00<?, ?it/s]"
      ]
     },
     "metadata": {},
     "output_type": "display_data"
    },
    {
     "name": "stdout",
     "output_type": "stream",
     "text": [
      " Neural network successfully converged after 104 epochs.------------------------------------------------------------\n",
      "--- 3775.429207086563 seconds ---\n"
     ]
    }
   ],
   "source": [
    "torch.random.manual_seed(0)\n",
    "np.random.seed(0)\n",
    "start_time = time.time()\n",
    "posterior = infer(Montbrio_SDEmodel_Wrapper, prior, method='SNPE',  num_simulations=num_sims, num_workers=1)\n",
    "print (\"-\"*60)\n",
    "print(\"--- %s seconds ---\" % (time.time() - start_time))"
   ]
  },
  {
   "cell_type": "code",
   "execution_count": 24,
   "id": "e697a9a0",
   "metadata": {},
   "outputs": [],
   "source": [
    "v_obs_summary_stats = torch.as_tensor(calculate_summary_statistics(v_obs, dt, ts, t_on, t_off))\n",
    "r_obs_summary_stats = torch.as_tensor(calculate_summary_statistics(r_obs, dt, ts, t_on, t_off))\n",
    "obs_summary_stats = np.concatenate([v_obs_summary_stats, r_obs_summary_stats]).flatten()"
   ]
  },
  {
   "cell_type": "code",
   "execution_count": 25,
   "id": "44782ede",
   "metadata": {},
   "outputs": [
    {
     "data": {
      "application/json": {
       "ascii": false,
       "bar_format": null,
       "colour": null,
       "elapsed": 0.025255441665649414,
       "initial": 0,
       "n": 0,
       "ncols": null,
       "nrows": 24,
       "postfix": null,
       "prefix": "Drawing 500 posterior samples",
       "rate": null,
       "total": 500,
       "unit": "it",
       "unit_divisor": 1000,
       "unit_scale": false
      },
      "application/vnd.jupyter.widget-view+json": {
       "model_id": "dddfa19d9246479994d0b794d9ad62fb",
       "version_major": 2,
       "version_minor": 0
      },
      "text/plain": [
       "Drawing 500 posterior samples:   0%|          | 0/500 [00:00<?, ?it/s]"
      ]
     },
     "metadata": {},
     "output_type": "display_data"
    }
   ],
   "source": [
    "num_samples = 500\n",
    "posterior_sample = posterior.sample((num_samples,), obs_summary_stats).numpy()"
   ]
  },
  {
   "cell_type": "code",
   "execution_count": 26,
   "id": "f661ee7c",
   "metadata": {},
   "outputs": [],
   "source": [
    "post_samples = np.array(posterior_sample, dtype='float64')"
   ]
  },
  {
   "cell_type": "code",
   "execution_count": 27,
   "id": "29689376",
   "metadata": {},
   "outputs": [
    {
     "data": {
      "text/plain": [
       "(500, 3)"
      ]
     },
     "execution_count": 27,
     "metadata": {},
     "output_type": "execute_result"
    }
   ],
   "source": [
    "post_samples.shape"
   ]
  },
  {
   "cell_type": "code",
   "execution_count": 28,
   "id": "28fa8c14",
   "metadata": {},
   "outputs": [],
   "source": [
    "rmse_prms = []\n",
    "for sample in range(post_samples.shape[0]) :\n",
    "    rmse_prms.append(RMSE(post_samples[sample, :], params_true))"
   ]
  },
  {
   "cell_type": "code",
   "execution_count": 29,
   "id": "51f06db2",
   "metadata": {},
   "outputs": [
    {
     "name": "stdout",
     "output_type": "stream",
     "text": [
      "0.0001\n"
     ]
    }
   ],
   "source": [
    "print(str(sigma))"
   ]
  },
  {
   "cell_type": "code",
   "execution_count": 30,
   "id": "bb6739bb",
   "metadata": {},
   "outputs": [],
   "source": [
    "np.save('results/sbi_batch_rmse_noise_' + str(sigma) + '_100k.npy', np.array(rmse_prms))"
   ]
  },
  {
   "cell_type": "code",
   "execution_count": 31,
   "id": "9d10a12f",
   "metadata": {},
   "outputs": [],
   "source": [
    "I_input = [0 for i in range(int((t_on - t_init)/dt))]+ [I0 for i in range(int((t_off - t_on)/dt))]+ [0 for i in range(int((t_final - t_off)/dt))]\n",
    "I_input = np.asarray(I_input)  \n",
    "constants=[v0, r0]\n",
    "\n",
    "rmse_fit = []\n",
    "for sample in range(post_samples.shape[0]):\n",
    "    y_fit = Montbrio_SDEmodel(post_samples[sample, :], constants, I_input, dt, ts, 0.0)\n",
    "    rmse_fit.append(RMSE(np.vstack([y_fit[:len(y_fit)//2], y_fit[len(y_fit)//2:]]), X_obs))"
   ]
  },
  {
   "cell_type": "code",
   "execution_count": 32,
   "id": "5d7ca870",
   "metadata": {},
   "outputs": [
    {
     "data": {
      "text/plain": [
       "(500,)"
      ]
     },
     "execution_count": 32,
     "metadata": {},
     "output_type": "execute_result"
    }
   ],
   "source": [
    "np.array(rmse_fit).shape"
   ]
  },
  {
   "cell_type": "code",
   "execution_count": 33,
   "id": "9b68e67d",
   "metadata": {},
   "outputs": [],
   "source": [
    "np.save('results/sbi_batch_cost_noise_' + str(sigma) + '_100k.npy', np.array(rmse_fit))"
   ]
  },
  {
   "cell_type": "markdown",
   "id": "47528bca",
   "metadata": {},
   "source": [
    "$10^{-3}$"
   ]
  },
  {
   "cell_type": "code",
   "execution_count": 16,
   "id": "5c96e0e1",
   "metadata": {},
   "outputs": [],
   "source": [
    "sigma = 1e-03\n",
    "sigma_noise = sigma"
   ]
  },
  {
   "cell_type": "code",
   "execution_count": 17,
   "id": "d50ec2e1",
   "metadata": {},
   "outputs": [],
   "source": [
    "data_input_filename='data_input_mpr_sd_sigma=' + str(sigma)\n",
    "data_input_path = cwd+'/Res_syntheticData/data_input_files/'+ str(data_input_filename)+ '.R.npz'\n",
    "data_input = dict(np.load(data_input_path))"
   ]
  },
  {
   "cell_type": "code",
   "execution_count": 18,
   "id": "59388cd4",
   "metadata": {},
   "outputs": [],
   "source": [
    "v_obs, r_obs = data_input['vs'], data_input['rs']\n",
    "nt = data_input['nt']\n",
    "I_input = data_input['I_input']"
   ]
  },
  {
   "cell_type": "code",
   "execution_count": 19,
   "id": "b59536e3",
   "metadata": {},
   "outputs": [],
   "source": [
    "X_obs = np.vstack([v_obs, r_obs])"
   ]
  },
  {
   "cell_type": "code",
   "execution_count": 20,
   "id": "a2862fb2",
   "metadata": {},
   "outputs": [],
   "source": [
    "def Montbrio_SDEmodel_Wrapper(params):\n",
    "\n",
    "    params = np.asarray(params)\n",
    "    \n",
    "    t_init = 0.0\n",
    "    t_final = 100.0\n",
    "\n",
    "    dt = 0.001\n",
    "    ts = np.arange(t_init,t_final,dt)\n",
    "    nt=ts.shape[0]\n",
    "    \n",
    "    nIsteps = int((t_final - t_init)/dt)\n",
    "\n",
    "    I0=3.\n",
    "    t_on=30.\n",
    "    t_off=60.\n",
    "\n",
    "    I_input=[]\n",
    "    I_input = [0 for i in range(int((t_on - t_init)/dt))]+ [I0 for i in range(int((t_off - t_on)/dt))]+ [0 for i in range(int((t_final - t_off)/dt))]\n",
    "    I_input =np.asarray(I_input)\n",
    "\n",
    "    v0 = -3.0\n",
    "    r0 = 0.5\n",
    "    \n",
    "    constants=[v0, r0]\n",
    "    \n",
    "    Sim = Montbrio_SDEmodel_numba(params, constants, I_input, dt, ts, sigma_noise)\n",
    "\n",
    "    #v=Sim[0:nt]\n",
    "    #r=Sim[nt:2*nt]\n",
    "    \n",
    "    summstats_v = torch.as_tensor(calculate_summary_statistics(Sim[0:nt], dt, ts, t_on, t_off))\n",
    "    summstats_r = torch.as_tensor(calculate_summary_statistics(Sim[nt:2*nt], dt, ts, t_on, t_off))\n",
    "    \n",
    "    return np.concatenate([summstats_v, summstats_r]).flatten()\n"
   ]
  },
  {
   "cell_type": "code",
   "execution_count": 21,
   "id": "e7f87d37",
   "metadata": {},
   "outputs": [],
   "source": [
    "prior_min = [0.2, -10., 5.]\n",
    "prior_max = [5., -3., 20.]\n",
    "prior = utils.torchutils.BoxUniform(low=torch.as_tensor(prior_min), high=torch.as_tensor(prior_max))"
   ]
  },
  {
   "cell_type": "code",
   "execution_count": 22,
   "id": "1d1fb037",
   "metadata": {},
   "outputs": [],
   "source": [
    "num_sims=100000"
   ]
  },
  {
   "cell_type": "code",
   "execution_count": 23,
   "id": "47c8ef0b",
   "metadata": {
    "scrolled": true
   },
   "outputs": [
    {
     "data": {
      "application/json": {
       "ascii": false,
       "bar_format": null,
       "colour": null,
       "elapsed": 0.019753456115722656,
       "initial": 0,
       "n": 0,
       "ncols": null,
       "nrows": 24,
       "postfix": null,
       "prefix": "Running 100000 simulations.",
       "rate": null,
       "total": 100000,
       "unit": "it",
       "unit_divisor": 1000,
       "unit_scale": false
      },
      "application/vnd.jupyter.widget-view+json": {
       "model_id": "47ea8cd35a9f418998839ab00c2d0d73",
       "version_major": 2,
       "version_minor": 0
      },
      "text/plain": [
       "Running 100000 simulations.:   0%|          | 0/100000 [00:00<?, ?it/s]"
      ]
     },
     "metadata": {},
     "output_type": "display_data"
    },
    {
     "name": "stdout",
     "output_type": "stream",
     "text": [
      " Neural network successfully converged after 157 epochs.------------------------------------------------------------\n",
      "--- 4839.6074278354645 seconds ---\n"
     ]
    }
   ],
   "source": [
    "torch.random.manual_seed(0)\n",
    "np.random.seed(0)\n",
    "start_time = time.time()\n",
    "posterior = infer(Montbrio_SDEmodel_Wrapper, prior, method='SNPE',  num_simulations=num_sims, num_workers=1)\n",
    "print (\"-\"*60)\n",
    "print(\"--- %s seconds ---\" % (time.time() - start_time))"
   ]
  },
  {
   "cell_type": "code",
   "execution_count": 24,
   "id": "2b6ed156",
   "metadata": {},
   "outputs": [],
   "source": [
    "v_obs_summary_stats = torch.as_tensor(calculate_summary_statistics(v_obs, dt, ts, t_on, t_off))\n",
    "r_obs_summary_stats = torch.as_tensor(calculate_summary_statistics(r_obs, dt, ts, t_on, t_off))\n",
    "obs_summary_stats = np.concatenate([v_obs_summary_stats, r_obs_summary_stats]).flatten()"
   ]
  },
  {
   "cell_type": "code",
   "execution_count": 25,
   "id": "bc74bf33",
   "metadata": {},
   "outputs": [
    {
     "data": {
      "application/json": {
       "ascii": false,
       "bar_format": null,
       "colour": null,
       "elapsed": 0.026989221572875977,
       "initial": 0,
       "n": 0,
       "ncols": null,
       "nrows": 24,
       "postfix": null,
       "prefix": "Drawing 500 posterior samples",
       "rate": null,
       "total": 500,
       "unit": "it",
       "unit_divisor": 1000,
       "unit_scale": false
      },
      "application/vnd.jupyter.widget-view+json": {
       "model_id": "652b2735cb3a4c978079110e4f4c7498",
       "version_major": 2,
       "version_minor": 0
      },
      "text/plain": [
       "Drawing 500 posterior samples:   0%|          | 0/500 [00:00<?, ?it/s]"
      ]
     },
     "metadata": {},
     "output_type": "display_data"
    }
   ],
   "source": [
    "num_samples = 500\n",
    "posterior_sample = posterior.sample((num_samples,), obs_summary_stats).numpy()"
   ]
  },
  {
   "cell_type": "code",
   "execution_count": 26,
   "id": "d24e5346",
   "metadata": {},
   "outputs": [],
   "source": [
    "post_samples = np.array(posterior_sample, dtype='float64')"
   ]
  },
  {
   "cell_type": "code",
   "execution_count": 27,
   "id": "1f985821",
   "metadata": {},
   "outputs": [
    {
     "data": {
      "text/plain": [
       "(500, 3)"
      ]
     },
     "execution_count": 27,
     "metadata": {},
     "output_type": "execute_result"
    }
   ],
   "source": [
    "post_samples.shape"
   ]
  },
  {
   "cell_type": "code",
   "execution_count": 28,
   "id": "fc51b787",
   "metadata": {},
   "outputs": [],
   "source": [
    "rmse_prms = []\n",
    "for sample in range(post_samples.shape[0]) :\n",
    "    rmse_prms.append(RMSE(post_samples[sample, :], params_true))"
   ]
  },
  {
   "cell_type": "code",
   "execution_count": 29,
   "id": "28302e23",
   "metadata": {},
   "outputs": [
    {
     "name": "stdout",
     "output_type": "stream",
     "text": [
      "0.001\n"
     ]
    }
   ],
   "source": [
    "print(str(sigma))"
   ]
  },
  {
   "cell_type": "code",
   "execution_count": 30,
   "id": "9d561420",
   "metadata": {},
   "outputs": [],
   "source": [
    "np.save('results/sbi_batch_rmse_noise_' + str(sigma) + '_100k.npy', np.array(rmse_prms))"
   ]
  },
  {
   "cell_type": "code",
   "execution_count": 31,
   "id": "91329f51",
   "metadata": {},
   "outputs": [],
   "source": [
    "I_input = [0 for i in range(int((t_on - t_init)/dt))]+ [I0 for i in range(int((t_off - t_on)/dt))]+ [0 for i in range(int((t_final - t_off)/dt))]\n",
    "I_input = np.asarray(I_input)  \n",
    "constants=[v0, r0]\n",
    "\n",
    "rmse_fit = []\n",
    "for sample in range(post_samples.shape[0]):\n",
    "    y_fit = Montbrio_SDEmodel(post_samples[sample, :], constants, I_input, dt, ts, 0.0)\n",
    "    rmse_fit.append(RMSE(np.vstack([y_fit[:len(y_fit)//2], y_fit[len(y_fit)//2:]]), X_obs))"
   ]
  },
  {
   "cell_type": "code",
   "execution_count": 32,
   "id": "6ed64a4d",
   "metadata": {},
   "outputs": [
    {
     "data": {
      "text/plain": [
       "(500,)"
      ]
     },
     "execution_count": 32,
     "metadata": {},
     "output_type": "execute_result"
    }
   ],
   "source": [
    "np.array(rmse_fit).shape"
   ]
  },
  {
   "cell_type": "code",
   "execution_count": 33,
   "id": "d7048e8b",
   "metadata": {},
   "outputs": [],
   "source": [
    "np.save('results/sbi_batch_cost_noise_' + str(sigma) + '_100k.npy', np.array(rmse_fit))"
   ]
  },
  {
   "cell_type": "markdown",
   "id": "d115dbff",
   "metadata": {},
   "source": [
    "$10^{-2}$"
   ]
  },
  {
   "cell_type": "code",
   "execution_count": 34,
   "id": "d4f614b6",
   "metadata": {},
   "outputs": [],
   "source": [
    "sigma = 1e-02\n",
    "sigma_noise = sigma"
   ]
  },
  {
   "cell_type": "code",
   "execution_count": 35,
   "id": "4cbbb414",
   "metadata": {},
   "outputs": [],
   "source": [
    "data_input_filename='data_input_mpr_sd_sigma=' + str(sigma)\n",
    "data_input_path = cwd+'/Res_syntheticData/data_input_files/'+ str(data_input_filename)+ '.R.npz'\n",
    "data_input = dict(np.load(data_input_path))"
   ]
  },
  {
   "cell_type": "code",
   "execution_count": 36,
   "id": "e33356c1",
   "metadata": {},
   "outputs": [],
   "source": [
    "v_obs, r_obs = data_input['vs'], data_input['rs']\n",
    "nt = data_input['nt']\n",
    "I_input = data_input['I_input']"
   ]
  },
  {
   "cell_type": "code",
   "execution_count": 37,
   "id": "7a2e8adf",
   "metadata": {},
   "outputs": [],
   "source": [
    "X_obs = np.vstack([v_obs, r_obs])"
   ]
  },
  {
   "cell_type": "code",
   "execution_count": 38,
   "id": "f43d3d00",
   "metadata": {},
   "outputs": [],
   "source": [
    "def Montbrio_SDEmodel_Wrapper(params):\n",
    "\n",
    "    params = np.asarray(params)\n",
    "    \n",
    "    t_init = 0.0\n",
    "    t_final = 100.0\n",
    "\n",
    "    dt = 0.001\n",
    "    ts = np.arange(t_init,t_final,dt)\n",
    "    nt=ts.shape[0]\n",
    "    \n",
    "    nIsteps = int((t_final - t_init)/dt)\n",
    "\n",
    "    I0=3.\n",
    "    t_on=30.\n",
    "    t_off=60.\n",
    "\n",
    "    I_input=[]\n",
    "    I_input = [0 for i in range(int((t_on - t_init)/dt))]+ [I0 for i in range(int((t_off - t_on)/dt))]+ [0 for i in range(int((t_final - t_off)/dt))]\n",
    "    I_input =np.asarray(I_input)\n",
    "\n",
    "    v0 = -3.0\n",
    "    r0 = 0.5\n",
    "    \n",
    "    constants=[v0, r0]\n",
    "    \n",
    "    Sim = Montbrio_SDEmodel_numba(params, constants, I_input, dt, ts, sigma_noise)\n",
    "\n",
    "    #v=Sim[0:nt]\n",
    "    #r=Sim[nt:2*nt]\n",
    "    \n",
    "    summstats_v = torch.as_tensor(calculate_summary_statistics(Sim[0:nt], dt, ts, t_on, t_off))\n",
    "    summstats_r = torch.as_tensor(calculate_summary_statistics(Sim[nt:2*nt], dt, ts, t_on, t_off))\n",
    "    \n",
    "    return np.concatenate([summstats_v, summstats_r]).flatten()\n"
   ]
  },
  {
   "cell_type": "code",
   "execution_count": 39,
   "id": "cc1ca070",
   "metadata": {},
   "outputs": [],
   "source": [
    "prior_min = [0.2, -10., 5.]\n",
    "prior_max = [5., -3., 20.]\n",
    "prior = utils.torchutils.BoxUniform(low=torch.as_tensor(prior_min), high=torch.as_tensor(prior_max))"
   ]
  },
  {
   "cell_type": "code",
   "execution_count": 40,
   "id": "d309faea",
   "metadata": {},
   "outputs": [],
   "source": [
    "num_sims=100000"
   ]
  },
  {
   "cell_type": "code",
   "execution_count": 41,
   "id": "150a62c2",
   "metadata": {
    "scrolled": true
   },
   "outputs": [
    {
     "data": {
      "application/json": {
       "ascii": false,
       "bar_format": null,
       "colour": null,
       "elapsed": 0.025207996368408203,
       "initial": 0,
       "n": 0,
       "ncols": null,
       "nrows": 24,
       "postfix": null,
       "prefix": "Running 100000 simulations.",
       "rate": null,
       "total": 100000,
       "unit": "it",
       "unit_divisor": 1000,
       "unit_scale": false
      },
      "application/vnd.jupyter.widget-view+json": {
       "model_id": "d4e59bc2f2b04795bc4d61e0e36a4b80",
       "version_major": 2,
       "version_minor": 0
      },
      "text/plain": [
       "Running 100000 simulations.:   0%|          | 0/100000 [00:00<?, ?it/s]"
      ]
     },
     "metadata": {},
     "output_type": "display_data"
    },
    {
     "name": "stdout",
     "output_type": "stream",
     "text": [
      " Neural network successfully converged after 71 epochs.------------------------------------------------------------\n",
      "--- 3398.4975831508636 seconds ---\n"
     ]
    }
   ],
   "source": [
    "torch.random.manual_seed(0)\n",
    "np.random.seed(0)\n",
    "start_time = time.time()\n",
    "posterior = infer(Montbrio_SDEmodel_Wrapper, prior, method='SNPE',  num_simulations=num_sims, num_workers=1)\n",
    "print (\"-\"*60)\n",
    "print(\"--- %s seconds ---\" % (time.time() - start_time))"
   ]
  },
  {
   "cell_type": "code",
   "execution_count": 42,
   "id": "a15fcaef",
   "metadata": {},
   "outputs": [],
   "source": [
    "v_obs_summary_stats = torch.as_tensor(calculate_summary_statistics(v_obs, dt, ts, t_on, t_off))\n",
    "r_obs_summary_stats = torch.as_tensor(calculate_summary_statistics(r_obs, dt, ts, t_on, t_off))\n",
    "obs_summary_stats = np.concatenate([v_obs_summary_stats, r_obs_summary_stats]).flatten()"
   ]
  },
  {
   "cell_type": "code",
   "execution_count": 43,
   "id": "d6946e1c",
   "metadata": {},
   "outputs": [
    {
     "data": {
      "application/json": {
       "ascii": false,
       "bar_format": null,
       "colour": null,
       "elapsed": 0.017217397689819336,
       "initial": 0,
       "n": 0,
       "ncols": null,
       "nrows": 24,
       "postfix": null,
       "prefix": "Drawing 500 posterior samples",
       "rate": null,
       "total": 500,
       "unit": "it",
       "unit_divisor": 1000,
       "unit_scale": false
      },
      "application/vnd.jupyter.widget-view+json": {
       "model_id": "ade931ea0d024cce999c77a7ce202a74",
       "version_major": 2,
       "version_minor": 0
      },
      "text/plain": [
       "Drawing 500 posterior samples:   0%|          | 0/500 [00:00<?, ?it/s]"
      ]
     },
     "metadata": {},
     "output_type": "display_data"
    }
   ],
   "source": [
    "num_samples = 500\n",
    "posterior_sample = posterior.sample((num_samples,), obs_summary_stats).numpy()"
   ]
  },
  {
   "cell_type": "code",
   "execution_count": 44,
   "id": "525d1101",
   "metadata": {},
   "outputs": [],
   "source": [
    "post_samples = np.array(posterior_sample, dtype='float64')"
   ]
  },
  {
   "cell_type": "code",
   "execution_count": 45,
   "id": "341ba6d3",
   "metadata": {},
   "outputs": [
    {
     "data": {
      "text/plain": [
       "(500, 3)"
      ]
     },
     "execution_count": 45,
     "metadata": {},
     "output_type": "execute_result"
    }
   ],
   "source": [
    "post_samples.shape"
   ]
  },
  {
   "cell_type": "code",
   "execution_count": 46,
   "id": "b03fbf32",
   "metadata": {},
   "outputs": [],
   "source": [
    "rmse_prms = []\n",
    "for sample in range(post_samples.shape[0]) :\n",
    "    rmse_prms.append(RMSE(post_samples[sample, :], params_true))"
   ]
  },
  {
   "cell_type": "code",
   "execution_count": 47,
   "id": "e4b9724f",
   "metadata": {},
   "outputs": [
    {
     "name": "stdout",
     "output_type": "stream",
     "text": [
      "0.01\n"
     ]
    }
   ],
   "source": [
    "print(str(sigma))"
   ]
  },
  {
   "cell_type": "code",
   "execution_count": 48,
   "id": "136e21c1",
   "metadata": {},
   "outputs": [],
   "source": [
    "np.save('results/sbi_batch_rmse_noise_' + str(sigma) + '_100k.npy', np.array(rmse_prms))"
   ]
  },
  {
   "cell_type": "code",
   "execution_count": 49,
   "id": "48afa799",
   "metadata": {},
   "outputs": [],
   "source": [
    "I_input = [0 for i in range(int((t_on - t_init)/dt))]+ [I0 for i in range(int((t_off - t_on)/dt))]+ [0 for i in range(int((t_final - t_off)/dt))]\n",
    "I_input = np.asarray(I_input)  \n",
    "constants=[v0, r0]\n",
    "\n",
    "rmse_fit = []\n",
    "for sample in range(post_samples.shape[0]):\n",
    "    y_fit = Montbrio_SDEmodel(post_samples[sample, :], constants, I_input, dt, ts, 0.0)\n",
    "    rmse_fit.append(RMSE(np.vstack([y_fit[:len(y_fit)//2], y_fit[len(y_fit)//2:]]), X_obs))"
   ]
  },
  {
   "cell_type": "code",
   "execution_count": 50,
   "id": "072ba858",
   "metadata": {},
   "outputs": [
    {
     "data": {
      "text/plain": [
       "(500,)"
      ]
     },
     "execution_count": 50,
     "metadata": {},
     "output_type": "execute_result"
    }
   ],
   "source": [
    "np.array(rmse_fit).shape"
   ]
  },
  {
   "cell_type": "code",
   "execution_count": 51,
   "id": "783c8b14",
   "metadata": {},
   "outputs": [],
   "source": [
    "np.save('results/sbi_batch_cost_noise_' + str(sigma) + '_100k.npy', np.array(rmse_fit))"
   ]
  },
  {
   "cell_type": "markdown",
   "id": "8a835c44",
   "metadata": {},
   "source": [
    "$1$"
   ]
  },
  {
   "cell_type": "code",
   "execution_count": 52,
   "id": "545c2093",
   "metadata": {},
   "outputs": [],
   "source": [
    "sigma = 1\n",
    "sigma_noise = sigma"
   ]
  },
  {
   "cell_type": "code",
   "execution_count": 53,
   "id": "30928e91",
   "metadata": {},
   "outputs": [],
   "source": [
    "data_input_filename='data_input_mpr_sd_sigma=' + str(sigma)\n",
    "data_input_path = cwd+'/Res_syntheticData/data_input_files/'+ str(data_input_filename)+ '.R.npz'\n",
    "data_input = dict(np.load(data_input_path))"
   ]
  },
  {
   "cell_type": "code",
   "execution_count": 54,
   "id": "0e2d1d99",
   "metadata": {},
   "outputs": [],
   "source": [
    "v_obs, r_obs = data_input['vs'], data_input['rs']\n",
    "nt = data_input['nt']\n",
    "I_input = data_input['I_input']"
   ]
  },
  {
   "cell_type": "code",
   "execution_count": 55,
   "id": "57ec68d2",
   "metadata": {},
   "outputs": [],
   "source": [
    "X_obs = np.vstack([v_obs, r_obs])"
   ]
  },
  {
   "cell_type": "code",
   "execution_count": 56,
   "id": "133081e5",
   "metadata": {},
   "outputs": [],
   "source": [
    "def Montbrio_SDEmodel_Wrapper(params):\n",
    "\n",
    "    params = np.asarray(params)\n",
    "    \n",
    "    t_init = 0.0\n",
    "    t_final = 100.0\n",
    "\n",
    "    dt = 0.001\n",
    "    ts = np.arange(t_init,t_final,dt)\n",
    "    nt=ts.shape[0]\n",
    "    \n",
    "    nIsteps = int((t_final - t_init)/dt)\n",
    "\n",
    "    I0=3.\n",
    "    t_on=30.\n",
    "    t_off=60.\n",
    "\n",
    "    I_input=[]\n",
    "    I_input = [0 for i in range(int((t_on - t_init)/dt))]+ [I0 for i in range(int((t_off - t_on)/dt))]+ [0 for i in range(int((t_final - t_off)/dt))]\n",
    "    I_input =np.asarray(I_input)\n",
    "\n",
    "    v0 = -3.0\n",
    "    r0 = 0.5\n",
    "    \n",
    "    constants=[v0, r0]\n",
    "    \n",
    "    Sim = Montbrio_SDEmodel_numba(params, constants, I_input, dt, ts, sigma_noise)\n",
    "\n",
    "    #v=Sim[0:nt]\n",
    "    #r=Sim[nt:2*nt]\n",
    "    \n",
    "    summstats_v = torch.as_tensor(calculate_summary_statistics(Sim[0:nt], dt, ts, t_on, t_off))\n",
    "    summstats_r = torch.as_tensor(calculate_summary_statistics(Sim[nt:2*nt], dt, ts, t_on, t_off))\n",
    "    \n",
    "    return np.concatenate([summstats_v, summstats_r]).flatten()\n"
   ]
  },
  {
   "cell_type": "code",
   "execution_count": 57,
   "id": "5ba05e4d",
   "metadata": {},
   "outputs": [],
   "source": [
    "prior_min = [0.2, -10., 5.]\n",
    "prior_max = [5., -3., 20.]\n",
    "prior = utils.torchutils.BoxUniform(low=torch.as_tensor(prior_min), high=torch.as_tensor(prior_max))"
   ]
  },
  {
   "cell_type": "code",
   "execution_count": 58,
   "id": "27d4e460",
   "metadata": {},
   "outputs": [],
   "source": [
    "num_sims=100000"
   ]
  },
  {
   "cell_type": "code",
   "execution_count": 59,
   "id": "ab60c247",
   "metadata": {
    "scrolled": true
   },
   "outputs": [
    {
     "data": {
      "application/json": {
       "ascii": false,
       "bar_format": null,
       "colour": null,
       "elapsed": 0.02282094955444336,
       "initial": 0,
       "n": 0,
       "ncols": null,
       "nrows": 24,
       "postfix": null,
       "prefix": "Running 100000 simulations.",
       "rate": null,
       "total": 100000,
       "unit": "it",
       "unit_divisor": 1000,
       "unit_scale": false
      },
      "application/vnd.jupyter.widget-view+json": {
       "model_id": "e469c75583964908933817bc5ef48b79",
       "version_major": 2,
       "version_minor": 0
      },
      "text/plain": [
       "Running 100000 simulations.:   0%|          | 0/100000 [00:00<?, ?it/s]"
      ]
     },
     "metadata": {},
     "output_type": "display_data"
    },
    {
     "name": "stderr",
     "output_type": "stream",
     "text": [
      "WARNING:root:Found 79 NaN simulations and 0 Inf simulations. They will be excluded from training.\n"
     ]
    },
    {
     "name": "stdout",
     "output_type": "stream",
     "text": [
      " Neural network successfully converged after 98 epochs.------------------------------------------------------------\n",
      "--- 3824.8263761997223 seconds ---\n"
     ]
    }
   ],
   "source": [
    "torch.random.manual_seed(0)\n",
    "np.random.seed(0)\n",
    "start_time = time.time()\n",
    "posterior = infer(Montbrio_SDEmodel_Wrapper, prior, method='SNPE',  num_simulations=num_sims, num_workers=1)\n",
    "print (\"-\"*60)\n",
    "print(\"--- %s seconds ---\" % (time.time() - start_time))"
   ]
  },
  {
   "cell_type": "code",
   "execution_count": 60,
   "id": "c6f4069e",
   "metadata": {},
   "outputs": [],
   "source": [
    "v_obs_summary_stats = torch.as_tensor(calculate_summary_statistics(v_obs, dt, ts, t_on, t_off))\n",
    "r_obs_summary_stats = torch.as_tensor(calculate_summary_statistics(r_obs, dt, ts, t_on, t_off))\n",
    "obs_summary_stats = np.concatenate([v_obs_summary_stats, r_obs_summary_stats]).flatten()"
   ]
  },
  {
   "cell_type": "code",
   "execution_count": 61,
   "id": "9f27c5d1",
   "metadata": {},
   "outputs": [
    {
     "data": {
      "application/json": {
       "ascii": false,
       "bar_format": null,
       "colour": null,
       "elapsed": 0.024169921875,
       "initial": 0,
       "n": 0,
       "ncols": null,
       "nrows": 24,
       "postfix": null,
       "prefix": "Drawing 500 posterior samples",
       "rate": null,
       "total": 500,
       "unit": "it",
       "unit_divisor": 1000,
       "unit_scale": false
      },
      "application/vnd.jupyter.widget-view+json": {
       "model_id": "246afcc9693b4c2887044f9210aba634",
       "version_major": 2,
       "version_minor": 0
      },
      "text/plain": [
       "Drawing 500 posterior samples:   0%|          | 0/500 [00:00<?, ?it/s]"
      ]
     },
     "metadata": {},
     "output_type": "display_data"
    }
   ],
   "source": [
    "num_samples = 500\n",
    "posterior_sample = posterior.sample((num_samples,), obs_summary_stats).numpy()"
   ]
  },
  {
   "cell_type": "code",
   "execution_count": 62,
   "id": "ebd56c49",
   "metadata": {},
   "outputs": [],
   "source": [
    "post_samples = np.array(posterior_sample, dtype='float64')"
   ]
  },
  {
   "cell_type": "code",
   "execution_count": 63,
   "id": "d514f93d",
   "metadata": {},
   "outputs": [
    {
     "data": {
      "text/plain": [
       "(500, 3)"
      ]
     },
     "execution_count": 63,
     "metadata": {},
     "output_type": "execute_result"
    }
   ],
   "source": [
    "post_samples.shape"
   ]
  },
  {
   "cell_type": "code",
   "execution_count": 64,
   "id": "200593cc",
   "metadata": {},
   "outputs": [],
   "source": [
    "rmse_prms = []\n",
    "for sample in range(post_samples.shape[0]) :\n",
    "    rmse_prms.append(RMSE(post_samples[sample, :], params_true))"
   ]
  },
  {
   "cell_type": "code",
   "execution_count": 65,
   "id": "244a8a86",
   "metadata": {},
   "outputs": [
    {
     "name": "stdout",
     "output_type": "stream",
     "text": [
      "1\n"
     ]
    }
   ],
   "source": [
    "print(str(sigma))"
   ]
  },
  {
   "cell_type": "code",
   "execution_count": 66,
   "id": "cd3ba495",
   "metadata": {},
   "outputs": [],
   "source": [
    "np.save('results/sbi_batch_rmse_noise_' + str(sigma) + '_100k.npy', np.array(rmse_prms))"
   ]
  },
  {
   "cell_type": "code",
   "execution_count": 67,
   "id": "e549231f",
   "metadata": {},
   "outputs": [],
   "source": [
    "I_input = [0 for i in range(int((t_on - t_init)/dt))]+ [I0 for i in range(int((t_off - t_on)/dt))]+ [0 for i in range(int((t_final - t_off)/dt))]\n",
    "I_input = np.asarray(I_input)  \n",
    "constants=[v0, r0]\n",
    "\n",
    "rmse_fit = []\n",
    "for sample in range(post_samples.shape[0]):\n",
    "    y_fit = Montbrio_SDEmodel(post_samples[sample, :], constants, I_input, dt, ts, 0.0)\n",
    "    rmse_fit.append(RMSE(np.vstack([y_fit[:len(y_fit)//2], y_fit[len(y_fit)//2:]]), X_obs))"
   ]
  },
  {
   "cell_type": "code",
   "execution_count": 68,
   "id": "287780ae",
   "metadata": {},
   "outputs": [
    {
     "data": {
      "text/plain": [
       "(500,)"
      ]
     },
     "execution_count": 68,
     "metadata": {},
     "output_type": "execute_result"
    }
   ],
   "source": [
    "np.array(rmse_fit).shape"
   ]
  },
  {
   "cell_type": "code",
   "execution_count": 69,
   "id": "e2a29fbf",
   "metadata": {},
   "outputs": [],
   "source": [
    "np.save('results/sbi_batch_cost_noise_' + str(sigma) + '_100k.npy', np.array(rmse_fit))"
   ]
  },
  {
   "cell_type": "markdown",
   "id": "ee7412ba",
   "metadata": {},
   "source": [
    "0.5"
   ]
  },
  {
   "cell_type": "code",
   "execution_count": 70,
   "id": "38a60e4e",
   "metadata": {},
   "outputs": [],
   "source": [
    "sigma = 0.5\n",
    "sigma_noise = sigma"
   ]
  },
  {
   "cell_type": "code",
   "execution_count": 71,
   "id": "dd364cf2",
   "metadata": {},
   "outputs": [],
   "source": [
    "data_input_filename='data_input_mpr_sd_sigma=' + str(sigma)\n",
    "data_input_path = cwd+'/Res_syntheticData/data_input_files/'+ str(data_input_filename)+ '.R.npz'\n",
    "data_input = dict(np.load(data_input_path))"
   ]
  },
  {
   "cell_type": "code",
   "execution_count": 72,
   "id": "e78fbbdc",
   "metadata": {},
   "outputs": [],
   "source": [
    "v_obs, r_obs = data_input['vs'], data_input['rs']\n",
    "nt = data_input['nt']\n",
    "I_input = data_input['I_input']"
   ]
  },
  {
   "cell_type": "code",
   "execution_count": 73,
   "id": "751b1018",
   "metadata": {},
   "outputs": [],
   "source": [
    "X_obs = np.vstack([v_obs, r_obs])"
   ]
  },
  {
   "cell_type": "code",
   "execution_count": 74,
   "id": "58df1f78",
   "metadata": {},
   "outputs": [],
   "source": [
    "def Montbrio_SDEmodel_Wrapper(params):\n",
    "\n",
    "    params = np.asarray(params)\n",
    "    \n",
    "    t_init = 0.0\n",
    "    t_final = 100.0\n",
    "\n",
    "    dt = 0.001\n",
    "    ts = np.arange(t_init,t_final,dt)\n",
    "    nt=ts.shape[0]\n",
    "    \n",
    "    nIsteps = int((t_final - t_init)/dt)\n",
    "\n",
    "    I0=3.\n",
    "    t_on=30.\n",
    "    t_off=60.\n",
    "\n",
    "    I_input=[]\n",
    "    I_input = [0 for i in range(int((t_on - t_init)/dt))]+ [I0 for i in range(int((t_off - t_on)/dt))]+ [0 for i in range(int((t_final - t_off)/dt))]\n",
    "    I_input =np.asarray(I_input)\n",
    "\n",
    "    v0 = -3.0\n",
    "    r0 = 0.5\n",
    "    \n",
    "    constants=[v0, r0]\n",
    "    \n",
    "    Sim = Montbrio_SDEmodel_numba(params, constants, I_input, dt, ts, sigma_noise)\n",
    "\n",
    "    #v=Sim[0:nt]\n",
    "    #r=Sim[nt:2*nt]\n",
    "    \n",
    "    summstats_v = torch.as_tensor(calculate_summary_statistics(Sim[0:nt], dt, ts, t_on, t_off))\n",
    "    summstats_r = torch.as_tensor(calculate_summary_statistics(Sim[nt:2*nt], dt, ts, t_on, t_off))\n",
    "    \n",
    "    return np.concatenate([summstats_v, summstats_r]).flatten()\n"
   ]
  },
  {
   "cell_type": "code",
   "execution_count": 75,
   "id": "87bf4283",
   "metadata": {},
   "outputs": [],
   "source": [
    "prior_min = [0.2, -10., 5.]\n",
    "prior_max = [5., -3., 20.]\n",
    "prior = utils.torchutils.BoxUniform(low=torch.as_tensor(prior_min), high=torch.as_tensor(prior_max))"
   ]
  },
  {
   "cell_type": "code",
   "execution_count": 76,
   "id": "8dab68cc",
   "metadata": {},
   "outputs": [],
   "source": [
    "num_sims=100000"
   ]
  },
  {
   "cell_type": "code",
   "execution_count": 77,
   "id": "08646a64",
   "metadata": {
    "scrolled": true
   },
   "outputs": [
    {
     "data": {
      "application/json": {
       "ascii": false,
       "bar_format": null,
       "colour": null,
       "elapsed": 0.022879600524902344,
       "initial": 0,
       "n": 0,
       "ncols": null,
       "nrows": 24,
       "postfix": null,
       "prefix": "Running 100000 simulations.",
       "rate": null,
       "total": 100000,
       "unit": "it",
       "unit_divisor": 1000,
       "unit_scale": false
      },
      "application/vnd.jupyter.widget-view+json": {
       "model_id": "48cc1bed565e48e39145ce0514360bff",
       "version_major": 2,
       "version_minor": 0
      },
      "text/plain": [
       "Running 100000 simulations.:   0%|          | 0/100000 [00:00<?, ?it/s]"
      ]
     },
     "metadata": {},
     "output_type": "display_data"
    },
    {
     "name": "stderr",
     "output_type": "stream",
     "text": [
      "WARNING:root:Found 4 NaN simulations and 0 Inf simulations. They will be excluded from training.\n"
     ]
    },
    {
     "name": "stdout",
     "output_type": "stream",
     "text": [
      " Neural network successfully converged after 59 epochs.------------------------------------------------------------\n",
      "--- 3174.8588349819183 seconds ---\n"
     ]
    }
   ],
   "source": [
    "torch.random.manual_seed(0)\n",
    "np.random.seed(0)\n",
    "start_time = time.time()\n",
    "posterior = infer(Montbrio_SDEmodel_Wrapper, prior, method='SNPE',  num_simulations=num_sims, num_workers=1)\n",
    "print (\"-\"*60)\n",
    "print(\"--- %s seconds ---\" % (time.time() - start_time))"
   ]
  },
  {
   "cell_type": "code",
   "execution_count": 78,
   "id": "afe3de21",
   "metadata": {},
   "outputs": [],
   "source": [
    "v_obs_summary_stats = torch.as_tensor(calculate_summary_statistics(v_obs, dt, ts, t_on, t_off))\n",
    "r_obs_summary_stats = torch.as_tensor(calculate_summary_statistics(r_obs, dt, ts, t_on, t_off))\n",
    "obs_summary_stats = np.concatenate([v_obs_summary_stats, r_obs_summary_stats]).flatten()"
   ]
  },
  {
   "cell_type": "code",
   "execution_count": 79,
   "id": "96ed3a53",
   "metadata": {},
   "outputs": [
    {
     "data": {
      "application/json": {
       "ascii": false,
       "bar_format": null,
       "colour": null,
       "elapsed": 0.02581620216369629,
       "initial": 0,
       "n": 0,
       "ncols": null,
       "nrows": 24,
       "postfix": null,
       "prefix": "Drawing 500 posterior samples",
       "rate": null,
       "total": 500,
       "unit": "it",
       "unit_divisor": 1000,
       "unit_scale": false
      },
      "application/vnd.jupyter.widget-view+json": {
       "model_id": "af88fa5a521a4ed1826e71eb12a27720",
       "version_major": 2,
       "version_minor": 0
      },
      "text/plain": [
       "Drawing 500 posterior samples:   0%|          | 0/500 [00:00<?, ?it/s]"
      ]
     },
     "metadata": {},
     "output_type": "display_data"
    }
   ],
   "source": [
    "num_samples = 500\n",
    "posterior_sample = posterior.sample((num_samples,), obs_summary_stats).numpy()"
   ]
  },
  {
   "cell_type": "code",
   "execution_count": 80,
   "id": "45b79870",
   "metadata": {},
   "outputs": [],
   "source": [
    "post_samples = np.array(posterior_sample, dtype='float64')"
   ]
  },
  {
   "cell_type": "code",
   "execution_count": 81,
   "id": "751451fc",
   "metadata": {},
   "outputs": [
    {
     "data": {
      "text/plain": [
       "(500, 3)"
      ]
     },
     "execution_count": 81,
     "metadata": {},
     "output_type": "execute_result"
    }
   ],
   "source": [
    "post_samples.shape"
   ]
  },
  {
   "cell_type": "code",
   "execution_count": 82,
   "id": "785a6303",
   "metadata": {},
   "outputs": [],
   "source": [
    "rmse_prms = []\n",
    "for sample in range(post_samples.shape[0]) :\n",
    "    rmse_prms.append(RMSE(post_samples[sample, :], params_true))"
   ]
  },
  {
   "cell_type": "code",
   "execution_count": 83,
   "id": "7c805fa6",
   "metadata": {},
   "outputs": [
    {
     "name": "stdout",
     "output_type": "stream",
     "text": [
      "0.5\n"
     ]
    }
   ],
   "source": [
    "print(str(sigma))"
   ]
  },
  {
   "cell_type": "code",
   "execution_count": 84,
   "id": "d9d38fcd",
   "metadata": {},
   "outputs": [],
   "source": [
    "np.save('results/sbi_batch_rmse_noise_' + str(sigma) + '_100k.npy', np.array(rmse_prms))"
   ]
  },
  {
   "cell_type": "code",
   "execution_count": 85,
   "id": "a8cb5c6f",
   "metadata": {},
   "outputs": [],
   "source": [
    "I_input = [0 for i in range(int((t_on - t_init)/dt))]+ [I0 for i in range(int((t_off - t_on)/dt))]+ [0 for i in range(int((t_final - t_off)/dt))]\n",
    "I_input = np.asarray(I_input)  \n",
    "constants=[v0, r0]\n",
    "\n",
    "rmse_fit = []\n",
    "for sample in range(post_samples.shape[0]):\n",
    "    y_fit = Montbrio_SDEmodel(post_samples[sample, :], constants, I_input, dt, ts, 0.0)\n",
    "    rmse_fit.append(RMSE(np.vstack([y_fit[:len(y_fit)//2], y_fit[len(y_fit)//2:]]), X_obs))"
   ]
  },
  {
   "cell_type": "code",
   "execution_count": 86,
   "id": "f3ec3932",
   "metadata": {},
   "outputs": [
    {
     "data": {
      "text/plain": [
       "(500,)"
      ]
     },
     "execution_count": 86,
     "metadata": {},
     "output_type": "execute_result"
    }
   ],
   "source": [
    "np.array(rmse_fit).shape"
   ]
  },
  {
   "cell_type": "code",
   "execution_count": 87,
   "id": "e55da801",
   "metadata": {},
   "outputs": [],
   "source": [
    "np.save('results/sbi_batch_cost_noise_' + str(sigma) + '_100k.npy', np.array(rmse_fit))"
   ]
  },
  {
   "cell_type": "markdown",
   "id": "95b06f2d",
   "metadata": {},
   "source": [
    "0.2"
   ]
  },
  {
   "cell_type": "code",
   "execution_count": 88,
   "id": "32c04f89",
   "metadata": {},
   "outputs": [],
   "source": [
    "sigma = 0.2\n",
    "sigma_noise = sigma"
   ]
  },
  {
   "cell_type": "code",
   "execution_count": 89,
   "id": "0380664b",
   "metadata": {},
   "outputs": [],
   "source": [
    "data_input_filename='data_input_mpr_sd_sigma=' + str(sigma)\n",
    "data_input_path = cwd+'/Res_syntheticData/data_input_files/'+ str(data_input_filename)+ '.R.npz'\n",
    "data_input = dict(np.load(data_input_path))"
   ]
  },
  {
   "cell_type": "code",
   "execution_count": 90,
   "id": "185c7adb",
   "metadata": {},
   "outputs": [],
   "source": [
    "v_obs, r_obs = data_input['vs'], data_input['rs']\n",
    "nt = data_input['nt']\n",
    "I_input = data_input['I_input']"
   ]
  },
  {
   "cell_type": "code",
   "execution_count": 91,
   "id": "faab642b",
   "metadata": {},
   "outputs": [],
   "source": [
    "X_obs = np.vstack([v_obs, r_obs])"
   ]
  },
  {
   "cell_type": "code",
   "execution_count": 92,
   "id": "b31c6ab4",
   "metadata": {},
   "outputs": [],
   "source": [
    "def Montbrio_SDEmodel_Wrapper(params):\n",
    "\n",
    "    params = np.asarray(params)\n",
    "    \n",
    "    t_init = 0.0\n",
    "    t_final = 100.0\n",
    "\n",
    "    dt = 0.001\n",
    "    ts = np.arange(t_init,t_final,dt)\n",
    "    nt=ts.shape[0]\n",
    "    \n",
    "    nIsteps = int((t_final - t_init)/dt)\n",
    "\n",
    "    I0=3.\n",
    "    t_on=30.\n",
    "    t_off=60.\n",
    "\n",
    "    I_input=[]\n",
    "    I_input = [0 for i in range(int((t_on - t_init)/dt))]+ [I0 for i in range(int((t_off - t_on)/dt))]+ [0 for i in range(int((t_final - t_off)/dt))]\n",
    "    I_input =np.asarray(I_input)\n",
    "\n",
    "    v0 = -3.0\n",
    "    r0 = 0.5\n",
    "    \n",
    "    constants=[v0, r0]\n",
    "    \n",
    "    Sim = Montbrio_SDEmodel_numba(params, constants, I_input, dt, ts, sigma_noise)\n",
    "\n",
    "    #v=Sim[0:nt]\n",
    "    #r=Sim[nt:2*nt]\n",
    "    \n",
    "    summstats_v = torch.as_tensor(calculate_summary_statistics(Sim[0:nt], dt, ts, t_on, t_off))\n",
    "    summstats_r = torch.as_tensor(calculate_summary_statistics(Sim[nt:2*nt], dt, ts, t_on, t_off))\n",
    "    \n",
    "    return np.concatenate([summstats_v, summstats_r]).flatten()\n"
   ]
  },
  {
   "cell_type": "code",
   "execution_count": 93,
   "id": "933bbc56",
   "metadata": {},
   "outputs": [],
   "source": [
    "prior_min = [0.2, -10., 5.]\n",
    "prior_max = [5., -3., 20.]\n",
    "prior = utils.torchutils.BoxUniform(low=torch.as_tensor(prior_min), high=torch.as_tensor(prior_max))"
   ]
  },
  {
   "cell_type": "code",
   "execution_count": 94,
   "id": "a9b8465b",
   "metadata": {},
   "outputs": [],
   "source": [
    "num_sims=100000"
   ]
  },
  {
   "cell_type": "code",
   "execution_count": 95,
   "id": "4217eca6",
   "metadata": {
    "scrolled": true
   },
   "outputs": [
    {
     "data": {
      "application/json": {
       "ascii": false,
       "bar_format": null,
       "colour": null,
       "elapsed": 0.023355484008789062,
       "initial": 0,
       "n": 0,
       "ncols": null,
       "nrows": 24,
       "postfix": null,
       "prefix": "Running 100000 simulations.",
       "rate": null,
       "total": 100000,
       "unit": "it",
       "unit_divisor": 1000,
       "unit_scale": false
      },
      "application/vnd.jupyter.widget-view+json": {
       "model_id": "4cf0861c6f464ff1abe9f738385b4642",
       "version_major": 2,
       "version_minor": 0
      },
      "text/plain": [
       "Running 100000 simulations.:   0%|          | 0/100000 [00:00<?, ?it/s]"
      ]
     },
     "metadata": {},
     "output_type": "display_data"
    },
    {
     "name": "stdout",
     "output_type": "stream",
     "text": [
      " Neural network successfully converged after 87 epochs.------------------------------------------------------------\n",
      "--- 3731.036643266678 seconds ---\n"
     ]
    }
   ],
   "source": [
    "torch.random.manual_seed(0)\n",
    "np.random.seed(0)\n",
    "start_time = time.time()\n",
    "posterior = infer(Montbrio_SDEmodel_Wrapper, prior, method='SNPE',  num_simulations=num_sims, num_workers=1)\n",
    "print (\"-\"*60)\n",
    "print(\"--- %s seconds ---\" % (time.time() - start_time))"
   ]
  },
  {
   "cell_type": "code",
   "execution_count": 96,
   "id": "14c7816e",
   "metadata": {},
   "outputs": [],
   "source": [
    "v_obs_summary_stats = torch.as_tensor(calculate_summary_statistics(v_obs, dt, ts, t_on, t_off))\n",
    "r_obs_summary_stats = torch.as_tensor(calculate_summary_statistics(r_obs, dt, ts, t_on, t_off))\n",
    "obs_summary_stats = np.concatenate([v_obs_summary_stats, r_obs_summary_stats]).flatten()"
   ]
  },
  {
   "cell_type": "code",
   "execution_count": 97,
   "id": "8673d736",
   "metadata": {},
   "outputs": [
    {
     "data": {
      "application/json": {
       "ascii": false,
       "bar_format": null,
       "colour": null,
       "elapsed": 0.023256540298461914,
       "initial": 0,
       "n": 0,
       "ncols": null,
       "nrows": 24,
       "postfix": null,
       "prefix": "Drawing 500 posterior samples",
       "rate": null,
       "total": 500,
       "unit": "it",
       "unit_divisor": 1000,
       "unit_scale": false
      },
      "application/vnd.jupyter.widget-view+json": {
       "model_id": "ea01dd78b1df46f080e73eb4f9c6b3de",
       "version_major": 2,
       "version_minor": 0
      },
      "text/plain": [
       "Drawing 500 posterior samples:   0%|          | 0/500 [00:00<?, ?it/s]"
      ]
     },
     "metadata": {},
     "output_type": "display_data"
    }
   ],
   "source": [
    "num_samples = 500\n",
    "posterior_sample = posterior.sample((num_samples,), obs_summary_stats).numpy()"
   ]
  },
  {
   "cell_type": "code",
   "execution_count": 98,
   "id": "e043bf1e",
   "metadata": {},
   "outputs": [],
   "source": [
    "post_samples = np.array(posterior_sample, dtype='float64')"
   ]
  },
  {
   "cell_type": "code",
   "execution_count": 99,
   "id": "231f9dd9",
   "metadata": {},
   "outputs": [
    {
     "data": {
      "text/plain": [
       "(500, 3)"
      ]
     },
     "execution_count": 99,
     "metadata": {},
     "output_type": "execute_result"
    }
   ],
   "source": [
    "post_samples.shape"
   ]
  },
  {
   "cell_type": "code",
   "execution_count": 100,
   "id": "698f629f",
   "metadata": {},
   "outputs": [],
   "source": [
    "rmse_prms = []\n",
    "for sample in range(post_samples.shape[0]) :\n",
    "    rmse_prms.append(RMSE(post_samples[sample, :], params_true))"
   ]
  },
  {
   "cell_type": "code",
   "execution_count": 102,
   "id": "a2564c5c",
   "metadata": {},
   "outputs": [],
   "source": [
    "np.save('results/sbi_batch_rmse_noise_' + str(sigma) + '_100k.npy', np.array(rmse_prms))"
   ]
  },
  {
   "cell_type": "code",
   "execution_count": 103,
   "id": "a887a401",
   "metadata": {},
   "outputs": [],
   "source": [
    "I_input = [0 for i in range(int((t_on - t_init)/dt))]+ [I0 for i in range(int((t_off - t_on)/dt))]+ [0 for i in range(int((t_final - t_off)/dt))]\n",
    "I_input = np.asarray(I_input)  \n",
    "constants=[v0, r0]\n",
    "\n",
    "rmse_fit = []\n",
    "for sample in range(post_samples.shape[0]):\n",
    "    y_fit = Montbrio_SDEmodel(post_samples[sample, :], constants, I_input, dt, ts, 0.0)\n",
    "    rmse_fit.append(RMSE(np.vstack([y_fit[:len(y_fit)//2], y_fit[len(y_fit)//2:]]), X_obs))"
   ]
  },
  {
   "cell_type": "code",
   "execution_count": 104,
   "id": "1d826364",
   "metadata": {},
   "outputs": [
    {
     "data": {
      "text/plain": [
       "(500,)"
      ]
     },
     "execution_count": 104,
     "metadata": {},
     "output_type": "execute_result"
    }
   ],
   "source": [
    "np.array(rmse_fit).shape"
   ]
  },
  {
   "cell_type": "code",
   "execution_count": 105,
   "id": "5fb36825",
   "metadata": {},
   "outputs": [],
   "source": [
    "np.save('results/sbi_batch_cost_noise_' + str(sigma) + '_100k.npy', np.array(rmse_fit))"
   ]
  },
  {
   "cell_type": "markdown",
   "id": "83dfe5d1",
   "metadata": {},
   "source": [
    "0.1 (already fitted)"
   ]
  },
  {
   "cell_type": "code",
   "execution_count": 21,
   "id": "3c4d555a",
   "metadata": {},
   "outputs": [],
   "source": [
    "sigma = 0.1"
   ]
  },
  {
   "cell_type": "code",
   "execution_count": 16,
   "id": "b72341b6",
   "metadata": {},
   "outputs": [],
   "source": [
    "import json\n",
    "\n",
    "with open('results/sbi_feat_sim_output.json') as f:\n",
    "    d = json.load(f)"
   ]
  },
  {
   "cell_type": "code",
   "execution_count": 18,
   "id": "8d133f4a",
   "metadata": {},
   "outputs": [],
   "source": [
    "post_samples = np.array([d['delta_distrib'], d['eta_distrib'], d['J_distrib']]).T"
   ]
  },
  {
   "cell_type": "code",
   "execution_count": 19,
   "id": "6680c92a",
   "metadata": {},
   "outputs": [
    {
     "data": {
      "text/plain": [
       "(500, 3)"
      ]
     },
     "execution_count": 19,
     "metadata": {},
     "output_type": "execute_result"
    }
   ],
   "source": [
    "post_samples.shape"
   ]
  },
  {
   "cell_type": "code",
   "execution_count": 20,
   "id": "f595d691",
   "metadata": {},
   "outputs": [],
   "source": [
    "rmse_prms = []\n",
    "for sample in range(post_samples.shape[0]) :\n",
    "    rmse_prms.append(RMSE(post_samples[sample, :], params_true))"
   ]
  },
  {
   "cell_type": "code",
   "execution_count": 22,
   "id": "845ca11a",
   "metadata": {},
   "outputs": [],
   "source": [
    "np.save('results/sbi_batch_rmse_noise_' + str(sigma) + '_100k.npy', np.array(rmse_prms))"
   ]
  },
  {
   "cell_type": "code",
   "execution_count": 25,
   "id": "461b11f6",
   "metadata": {},
   "outputs": [],
   "source": [
    "data_input_filename='data_input_mpr_sd_sigma=' + str(sigma)\n",
    "data_input_path = cwd+'/Res_syntheticData/data_input_files/'+ str(data_input_filename)+ '.R.npz'\n",
    "data_input = dict(np.load(data_input_path))"
   ]
  },
  {
   "cell_type": "code",
   "execution_count": 26,
   "id": "e91e717d",
   "metadata": {},
   "outputs": [],
   "source": [
    "v_obs, r_obs = data_input['vs'], data_input['rs']\n",
    "nt = data_input['nt']\n",
    "I_input = data_input['I_input']"
   ]
  },
  {
   "cell_type": "code",
   "execution_count": 27,
   "id": "65562941",
   "metadata": {},
   "outputs": [],
   "source": [
    "X_obs = np.vstack([v_obs, r_obs])"
   ]
  },
  {
   "cell_type": "code",
   "execution_count": 28,
   "id": "4bfbf3f2",
   "metadata": {},
   "outputs": [],
   "source": [
    "I_input = [0 for i in range(int((t_on - t_init)/dt))]+ [I0 for i in range(int((t_off - t_on)/dt))]+ [0 for i in range(int((t_final - t_off)/dt))]\n",
    "I_input = np.asarray(I_input)  \n",
    "constants=[v0, r0]\n",
    "\n",
    "rmse_fit = []\n",
    "for sample in range(post_samples.shape[0]):\n",
    "    y_fit = Montbrio_SDEmodel(post_samples[sample, :], constants, I_input, dt, ts, 0.0)\n",
    "    rmse_fit.append(RMSE(np.vstack([y_fit[:len(y_fit)//2], y_fit[len(y_fit)//2:]]), X_obs))"
   ]
  },
  {
   "cell_type": "code",
   "execution_count": 29,
   "id": "c3e67a22",
   "metadata": {},
   "outputs": [],
   "source": [
    "np.save('results/sbi_batch_cost_noise_' + str(sigma) + '_100k.npy', np.array(rmse_fit))"
   ]
  },
  {
   "cell_type": "code",
   "execution_count": null,
   "id": "84284bc0",
   "metadata": {},
   "outputs": [],
   "source": []
  },
  {
   "cell_type": "code",
   "execution_count": 33,
   "id": "6f72f9a9",
   "metadata": {},
   "outputs": [],
   "source": [
    "rmse_prms_batch = []\n",
    "rmse_fit_batch = []\n",
    "for sigma in [1e-06, 1e-05, 1e-04, 1e-03, 1e-02, 1e-01, 0.2, 0.5, 1] :\n",
    "    rmse_prms_batch.append(np.load('results/sbi_batch_rmse_noise_' + str(sigma) + '_100k.npy'))\n",
    "    rmse_fit_batch.append(np.load('results/sbi_batch_cost_noise_' + str(sigma) + '_100k.npy'))"
   ]
  },
  {
   "cell_type": "code",
   "execution_count": 34,
   "id": "7020040e",
   "metadata": {},
   "outputs": [],
   "source": [
    "rmse_prms_batch = np.array(rmse_prms_batch) \n",
    "rmse_fit_batch = np.array(rmse_fit_batch)"
   ]
  },
  {
   "cell_type": "code",
   "execution_count": 35,
   "id": "d063e12e",
   "metadata": {},
   "outputs": [
    {
     "data": {
      "text/plain": [
       "(9, 500)"
      ]
     },
     "execution_count": 35,
     "metadata": {},
     "output_type": "execute_result"
    }
   ],
   "source": [
    "rmse_prms_batch.shape"
   ]
  },
  {
   "cell_type": "code",
   "execution_count": 36,
   "id": "bfde4f84",
   "metadata": {},
   "outputs": [
    {
     "data": {
      "text/plain": [
       "(9, 500)"
      ]
     },
     "execution_count": 36,
     "metadata": {},
     "output_type": "execute_result"
    }
   ],
   "source": [
    "rmse_fit_batch.shape"
   ]
  },
  {
   "cell_type": "code",
   "execution_count": 37,
   "id": "82058728",
   "metadata": {},
   "outputs": [
    {
     "data": {
      "text/plain": [
       "[<matplotlib.lines.Line2D at 0x7f22eb981c60>]"
      ]
     },
     "execution_count": 37,
     "metadata": {},
     "output_type": "execute_result"
    },
    {
     "data": {
      "image/png": "[encoded data removed]",
      "text/plain": [
       "<Figure size 432x288 with 1 Axes>"
      ]
     },
     "metadata": {
      "needs_background": "light"
     },
     "output_type": "display_data"
    }
   ],
   "source": [
    "plt.plot(rmse_prms_batch.mean(axis=1))\n",
    "plt.plot(rmse_fit_batch.mean(axis=1))"
   ]
  },
  {
   "cell_type": "code",
   "execution_count": 40,
   "id": "b6573ce3",
   "metadata": {},
   "outputs": [],
   "source": [
    "np.save('results/sbi_batch_rmse_noise_100k.npy', rmse_prms_batch.T)\n",
    "np.save('results/sbi_batch_cost_noise_100k.npy', rmse_fit_batch.T)"
   ]
  },
  {
   "cell_type": "code",
   "execution_count": null,
   "id": "b8a5ac1e",
   "metadata": {},
   "outputs": [],
   "source": []
  }
 ],
 "metadata": {
  "kernelspec": {
   "display_name": "Python 3 (ipykernel)",
   "language": "python",
   "name": "python3"
  },
  "language_info": {
   "codemirror_mode": {
    "name": "ipython",
    "version": 3
   },
   "file_extension": ".py",
   "mimetype": "text/x-python",
   "name": "python",
   "nbconvert_exporter": "python",
   "pygments_lexer": "ipython3",
   "version": "3.10.12"
  }
 },
 "nbformat": 4,
 "nbformat_minor": 5
}
