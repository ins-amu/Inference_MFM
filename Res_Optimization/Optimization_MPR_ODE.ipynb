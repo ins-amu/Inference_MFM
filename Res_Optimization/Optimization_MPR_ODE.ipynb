{
 "cells": [
  {
   "cell_type": "markdown",
   "metadata": {},
   "source": [
    "Otpimization methods (Differential Evolution, Particule Swarm Optimization, Bayesian Optimization and Maximum A Poteriori) on ODE data. "
   ]
  },
  {
   "cell_type": "code",
   "execution_count": 1,
   "metadata": {},
   "outputs": [
    {
     "name": "stdout",
     "output_type": "stream",
     "text": [
      "Populating the interactive namespace from numpy and matplotlib\n"
     ]
    }
   ],
   "source": [
    "import os\n",
    "import sys\n",
    "import time\n",
    "import errno\n",
    "import time\n",
    "import timeit\n",
    "import json\n",
    "\n",
    "import numpy as np\n",
    "import numba\n",
    "from numba import jit\n",
    "\n",
    "import matplotlib.pyplot as plt\n",
    "from matplotlib import colors, cm\n",
    "\n",
    "import torch\n",
    "import sbi.utils as utils\n",
    "from sbi.inference.base import infer\n",
    "from sbi.inference import SNPE, prepare_for_sbi\n",
    "from sbi.utils.get_nn_models import posterior_nn\n",
    "from sbi import analysis as analysis\n",
    "\n",
    "import warnings\n",
    "warnings.simplefilter(\"ignore\")\n",
    "\n",
    "%pylab inline\n",
    "#%matplotlib notebook"
   ]
  },
  {
   "cell_type": "code",
   "execution_count": 2,
   "metadata": {},
   "outputs": [
    {
     "data": {
      "text/plain": [
       "'/home/tng/Documents/montbrio/benchmark_NEW'"
      ]
     },
     "execution_count": 2,
     "metadata": {},
     "output_type": "execute_result"
    }
   ],
   "source": [
    "cwd = os.getcwd()\n",
    "cwd"
   ]
  },
  {
   "cell_type": "code",
   "execution_count": 3,
   "metadata": {},
   "outputs": [],
   "source": [
    "! mkdir -p $cwd/results"
   ]
  },
  {
   "cell_type": "code",
   "execution_count": 4,
   "metadata": {},
   "outputs": [],
   "source": [
    "def RMSE(x1, x2):\n",
    "    return np.sqrt(((x1 - x2) ** 2).mean()) \n",
    "\n",
    "def MontbrioFlow(x, t, delta, eta, J, I0):\n",
    "    Fr=(delta/np.pi) +(2*x[0]*x[1])\n",
    "    Fv=(x[1]**2)  -(np.pi*x[0])**2 + J*x[0]+ eta +I0\n",
    "    F=np.array([Fr, Fv])\n",
    "    return F\n",
    "\n",
    "def plot_vector_field(ax, param, xrange, yrange, steps=1000):\n",
    "    x = np.linspace(xrange[0], xrange[1], steps)\n",
    "    y = np.linspace(yrange[0], yrange[1], steps)\n",
    "    X,Y = np.meshgrid(x,y)\n",
    "    dx,dy = MontbrioFlow([X,Y],0,**param)   \n",
    "    ax.streamplot(X,Y,dx, dy, density=2.0, color='lightgray')\n",
    "    ax.contour(X,Y,dx, [0], linestyles='--', linewidths=3, colors=\"lime\", alpha=0.9, zorder=4)\n",
    "    ax.contour(X,Y,dy, [0], linestyles='--', linewidths=3, colors=\"cyan\", alpha=0.9, zorder=4)\n",
    "    ax.set(xlim=(xrange[0], xrange[1]), ylim=(yrange[0], yrange[1]))\n",
    "    \n",
    "from numba import njit\n",
    "@njit\n",
    "def set_seed(value):\n",
    "    np.random.seed(value)"
   ]
  },
  {
   "cell_type": "markdown",
   "metadata": {},
   "source": [
    "# Simulator"
   ]
  },
  {
   "cell_type": "code",
   "execution_count": 5,
   "metadata": {},
   "outputs": [],
   "source": [
    "#Simulator\n",
    "\n",
    "def Montbrio_SDEmodel(params, constants, I_input, sigma, dt, ts):\n",
    "   \n",
    "    delta, eta, J  = params[0], params[1], params[2]\n",
    "\n",
    "    # simulation from initial point\n",
    "    v = np.zeros_like(ts)  # fast voltage\n",
    "    r = np.zeros_like(ts)  # slow voltage\n",
    "\n",
    "    # fixed parameters\n",
    "    v_init, r_init = constants[0], constants[1]\n",
    "    \n",
    "    dt = float(dt)\n",
    "\n",
    "    v[0],r[0]= v_init, r_init\n",
    "        \n",
    "    for i in range(1, ts.shape[0]):\n",
    "        dr =(delta/np.pi) +2.*r[i-1]*v[i-1]\n",
    "        dv = v[i-1]**2  -(np.pi*r[i-1])**2 + J*r[i-1]+ eta +I_input[i-1]\n",
    "        v[i]=v[i-1] + dt * dv + np.sqrt(dt)  * sigma * np.random.randn() \n",
    "        r[i]=r[i-1] + dt * dr + np.sqrt(dt) * sigma * np.random.randn() \n",
    "        \n",
    "    return np.array(v).reshape(-1), np.array(r).reshape(-1)"
   ]
  },
  {
   "cell_type": "code",
   "execution_count": 6,
   "metadata": {},
   "outputs": [],
   "source": [
    "Montbrio_SDEmodel_numba = numba.jit(Montbrio_SDEmodel)"
   ]
  },
  {
   "cell_type": "markdown",
   "metadata": {},
   "source": [
    "### Simulation parameters"
   ]
  },
  {
   "cell_type": "code",
   "execution_count": 7,
   "metadata": {},
   "outputs": [],
   "source": [
    "delta=0.7\n",
    "eta=-4.6\n",
    "J=14.5\n",
    "\n",
    "v0 = -3.\n",
    "r0 = 0.5\n",
    "\n",
    "t_init = 0.0\n",
    "t_final = 100.0\n",
    "dt = 0.001\n",
    "ts = np.arange(t_init,t_final,dt)\n",
    "\n",
    "I0=3.\n",
    "t_on=30.\n",
    "t_off=60.\n",
    "\n",
    "#uniform I\n",
    "I_input = [0 for i in range(int((t_on - t_init)/dt))] +\\\n",
    "[I0 for i in range(int((t_off - t_on)/dt))]+ [0 for i in range(int((t_final - t_off)/dt))]\n",
    "I_input = np.array(I_input)\n",
    "\n",
    "prms = [delta, eta, J]\n",
    "inits = [v0, r0]\n",
    "\n",
    "sigma=0.0\n",
    "sigma_noise = sigma"
   ]
  },
  {
   "cell_type": "code",
   "execution_count": 8,
   "metadata": {},
   "outputs": [
    {
     "name": "stdout",
     "output_type": "stream",
     "text": [
      "[0.7, -4.6, 14.5]\n"
     ]
    }
   ],
   "source": [
    "params_true = prms\n",
    "print(params_true)"
   ]
  },
  {
   "cell_type": "markdown",
   "metadata": {},
   "source": [
    "# Load data"
   ]
  },
  {
   "cell_type": "code",
   "execution_count": 9,
   "metadata": {},
   "outputs": [],
   "source": [
    "sigma = 0.0\n",
    "data_input_filename=str('data_input_mpr_sd'+ '_sigma='+str(sigma))\n",
    "data_input_path = cwd+'/Res_syntheticData/data_input_files/'+ str(data_input_filename)+ '.R.npz'\n",
    "data_input = dict(load(data_input_path))\n",
    "v_obs, r_obs = data_input['vs'], data_input['rs']\n",
    "X_obs = np.vstack((v_obs, r_obs))"
   ]
  },
  {
   "cell_type": "code",
   "execution_count": 10,
   "metadata": {},
   "outputs": [
    {
     "data": {
      "text/plain": [
       "[<matplotlib.lines.Line2D at 0x7f2a8215a860>]"
      ]
     },
     "execution_count": 10,
     "metadata": {},
     "output_type": "execute_result"
    },
    {
     "data": {
      "image/png": "[encoded data removed]",
      "text/plain": [
       "<Figure size 432x288 with 1 Axes>"
      ]
     },
     "metadata": {
      "needs_background": "light"
     },
     "output_type": "display_data"
    }
   ],
   "source": [
    "plt.plot(v_obs)\n",
    "plt.plot(r_obs)"
   ]
  },
  {
   "cell_type": "markdown",
   "metadata": {},
   "source": [
    "# Inference"
   ]
  },
  {
   "cell_type": "code",
   "execution_count": 11,
   "metadata": {},
   "outputs": [],
   "source": [
    "bounds=[(0.2, 5), (-10, -3), (5,  20)]"
   ]
  },
  {
   "cell_type": "code",
   "execution_count": 12,
   "metadata": {},
   "outputs": [],
   "source": [
    "#trick variables to retrieve the fits\n",
    "global cost_model_list\n",
    "global X_model_list "
   ]
  },
  {
   "cell_type": "markdown",
   "metadata": {},
   "source": [
    "## DE"
   ]
  },
  {
   "cell_type": "code",
   "execution_count": 13,
   "metadata": {},
   "outputs": [],
   "source": [
    "from scipy.optimize import differential_evolution"
   ]
  },
  {
   "cell_type": "code",
   "execution_count": 14,
   "metadata": {},
   "outputs": [],
   "source": [
    "def black_box_function(x):\n",
    "    prms_proposal = [0] * 3\n",
    "    prms_proposal[0] = x[0]\n",
    "    prms_proposal[1] = x[1]\n",
    "    prms_proposal[2] = x[2]\n",
    "    \n",
    "    params_val = prms_proposal\n",
    "    sim = Montbrio_SDEmodel_numba(params_val, inits, I_input, sigma_noise, dt, ts)\n",
    "    \n",
    "    X_model = np.vstack((sim[0], sim[1]))\n",
    "    cost_model = np.sqrt(np.sum((X_model - X_obs)**2))\n",
    "    \n",
    "    if cost_model < min(cost_model_list) :\n",
    "        cost_model_list.append(cost_model)\n",
    "        X_model_list.append(X_model)\n",
    "        \n",
    "    return cost_model"
   ]
  },
  {
   "cell_type": "code",
   "execution_count": 15,
   "metadata": {},
   "outputs": [],
   "source": [
    "def callback(xk, convergence):\n",
    "    val.append(convergence)\n",
    "    cost_val.append(black_box_function(xk))"
   ]
  },
  {
   "cell_type": "code",
   "execution_count": 16,
   "metadata": {},
   "outputs": [
    {
     "name": "stdout",
     "output_type": "stream",
     "text": [
      "CPU times: user 51 s, sys: 78.1 ms, total: 51 s\n",
      "Wall time: 51.1 s\n"
     ]
    }
   ],
   "source": [
    "%%time\n",
    "\n",
    "cost_model_list  = [100000]\n",
    "X_model_list = [100000]\n",
    "\n",
    "val=[]\n",
    "cost_val=[]\n",
    "max_iter = 500\n",
    "\n",
    "set_seed(0)\n",
    "result = differential_evolution(black_box_function, bounds,  popsize=10,  maxiter=max_iter, seed=0,\n",
    "                                callback=callback)"
   ]
  },
  {
   "cell_type": "code",
   "execution_count": 17,
   "metadata": {},
   "outputs": [
    {
     "data": {
      "text/plain": [
       "(array([ 0.7, -4.6, 14.5]), 6.469601199052206e-14)"
      ]
     },
     "execution_count": 17,
     "metadata": {},
     "output_type": "execute_result"
    }
   ],
   "source": [
    "result.x, result.fun"
   ]
  },
  {
   "cell_type": "code",
   "execution_count": 18,
   "metadata": {},
   "outputs": [
    {
     "data": {
      "text/plain": [
       "6.469601199052206e-14"
      ]
     },
     "execution_count": 18,
     "metadata": {},
     "output_type": "execute_result"
    }
   ],
   "source": [
    "np.sqrt(np.sum((X_model_list[np.argmin(cost_model_list)] - X_obs)**2))"
   ]
  },
  {
   "cell_type": "code",
   "execution_count": 19,
   "metadata": {},
   "outputs": [],
   "source": [
    "cost_final = result.fun\n",
    "params_est = result.x"
   ]
  },
  {
   "cell_type": "code",
   "execution_count": 20,
   "metadata": {},
   "outputs": [
    {
     "data": {
      "text/plain": [
       "0.0"
      ]
     },
     "execution_count": 20,
     "metadata": {},
     "output_type": "execute_result"
    }
   ],
   "source": [
    "rmse_prms = RMSE(params_est, params_true)\n",
    "rmse_prms"
   ]
  },
  {
   "cell_type": "code",
   "execution_count": 21,
   "metadata": {},
   "outputs": [],
   "source": [
    "v_fit, r_fit = X_model_list[np.argmin(cost_model_list)].copy()"
   ]
  },
  {
   "cell_type": "markdown",
   "metadata": {},
   "source": [
    "New simulation with optimal parameters:"
   ]
  },
  {
   "cell_type": "code",
   "execution_count": 22,
   "metadata": {},
   "outputs": [],
   "source": [
    "set_seed(0)\n",
    "Sim_est = Montbrio_SDEmodel(params_est, inits, I_input, sigma_noise, dt, ts)"
   ]
  },
  {
   "cell_type": "code",
   "execution_count": 23,
   "metadata": {},
   "outputs": [],
   "source": [
    "v_sim_est = Sim_est[0]\n",
    "r_sim_est = Sim_est[1]"
   ]
  },
  {
   "cell_type": "code",
   "execution_count": 24,
   "metadata": {},
   "outputs": [],
   "source": [
    "res_dict = {'v_sim': list(v_sim_est), 'r_sim': list(r_sim_est),\n",
    "            'v_fit' : list(v_fit), 'r_fit': list(r_fit),\n",
    "            'delta': params_est[0], 'eta': params_est[1], 'J': params_est[2],\n",
    "            'sigma': sigma_noise, \n",
    "            'rmse_prms': rmse_prms, 'cost': cost_final}\n",
    "\n",
    "json_object = json.dumps(res_dict, indent=4)\n",
    "with open(\"results/DE_simODE_output.json\", \"w\") as outfile:\n",
    "    outfile.write(json_object)"
   ]
  },
  {
   "cell_type": "markdown",
   "metadata": {},
   "source": [
    "## PSO"
   ]
  },
  {
   "cell_type": "code",
   "execution_count": 25,
   "metadata": {},
   "outputs": [],
   "source": [
    "import pyswarms as ps\n",
    "from pyswarms.single.global_best import GlobalBestPSO"
   ]
  },
  {
   "cell_type": "code",
   "execution_count": 26,
   "metadata": {},
   "outputs": [],
   "source": [
    "n_particles=10"
   ]
  },
  {
   "cell_type": "code",
   "execution_count": 27,
   "metadata": {},
   "outputs": [],
   "source": [
    "def black_box_function_pso(x):\n",
    "    prms_proposal = np.zeros((n_particles, 3))\n",
    "\n",
    "    prms_proposal[:, 0] = x[:, 0]\n",
    "    prms_proposal[:, 1] = x[:, 1]\n",
    "    prms_proposal[:, 2] = x[:, 2]\n",
    "    \n",
    "    params_val = prms_proposal\n",
    "    #sim = np.zeros((n_particles, X_obs.shape[0], X_obs.shape[1]))\n",
    "    costf = np.zeros(n_particles)\n",
    "    for i in range(n_particles):\n",
    "        sim_i = Montbrio_SDEmodel_numba(list(params_val[i, :]), inits, I_input, sigma_noise, dt, ts)\n",
    "        X_model_i = sim_i[0], sim_i[1]\n",
    "        costf[i] = np.sqrt(np.sum((X_model_i - X_obs)**2))\n",
    "        \n",
    "        if costf[i] < min(cost_model_list) :\n",
    "            cost_model_list.append(costf[i])\n",
    "            X_model_list.append(X_model_i)\n",
    "            \n",
    "    return costf"
   ]
  },
  {
   "cell_type": "code",
   "execution_count": 28,
   "metadata": {},
   "outputs": [
    {
     "data": {
      "text/plain": [
       "(array([  0.2, -10. ,   5. ]), array([ 5., -3., 20.]))"
      ]
     },
     "execution_count": 28,
     "metadata": {},
     "output_type": "execute_result"
    }
   ],
   "source": [
    "lb = np.array(bounds)[:, 0]\n",
    "ub = np.array(bounds)[:, 1]\n",
    "(lb, ub)"
   ]
  },
  {
   "cell_type": "code",
   "execution_count": 29,
   "metadata": {},
   "outputs": [],
   "source": [
    "options = {'c1': 0.5, 'c2': 0.3, 'w': 0.9}"
   ]
  },
  {
   "cell_type": "markdown",
   "metadata": {},
   "source": [
    "#### Fixed dynamical noise 0.1 :"
   ]
  },
  {
   "cell_type": "code",
   "execution_count": 30,
   "metadata": {},
   "outputs": [
    {
     "name": "stderr",
     "output_type": "stream",
     "text": [
      "2023-05-22 11:29:49,039 - pyswarms.single.global_best - INFO - Optimize for 500 iters with {'c1': 0.5, 'c2': 0.3, 'w': 0.9}\n",
      "pyswarms.single.global_best: 100%|███████████████████████|500/500, best_cost=118\n",
      "2023-05-22 11:30:24,168 - pyswarms.single.global_best - INFO - Optimization finished | best cost: 118.12723806994613, best pos: [ 1.58866696 -6.57689241 16.2921068 ]\n"
     ]
    },
    {
     "name": "stdout",
     "output_type": "stream",
     "text": [
      "CPU times: user 35 s, sys: 329 ms, total: 35.4 s\n",
      "Wall time: 35.1 s\n"
     ]
    }
   ],
   "source": [
    "%%time\n",
    "\n",
    "cost_model_list  = [100000]\n",
    "X_model_list = [100000]\n",
    "\n",
    "set_seed(0)\n",
    "optimizer = GlobalBestPSO(n_particles=n_particles, dimensions=3, options=options, bounds=(lb, ub))\n",
    "cost, pos = optimizer.optimize(black_box_function_pso, iters=500)"
   ]
  },
  {
   "cell_type": "code",
   "execution_count": 31,
   "metadata": {},
   "outputs": [
    {
     "data": {
      "text/plain": [
       "118.12723806994613"
      ]
     },
     "execution_count": 31,
     "metadata": {},
     "output_type": "execute_result"
    }
   ],
   "source": [
    "np.sqrt(np.sum((X_model_list[np.argmin(cost_model_list)] - X_obs)**2))"
   ]
  },
  {
   "cell_type": "code",
   "execution_count": 32,
   "metadata": {},
   "outputs": [
    {
     "data": {
      "image/png": "[encoded data removed]",
      "text/plain": [
       "<Figure size 576x288 with 1 Axes>"
      ]
     },
     "metadata": {
      "needs_background": "light"
     },
     "output_type": "display_data"
    }
   ],
   "source": [
    "plt.figure(figsize=(8,4))\n",
    "plt.plot(optimizer.cost_history)\n",
    "plt.ylabel('Cost', fontsize=18); \n",
    "plt.xlabel('iter', fontsize=18); \n",
    "plt.xticks(fontsize=16)\n",
    "plt.yticks(fontsize=16)\n",
    "plt.show()"
   ]
  },
  {
   "cell_type": "code",
   "execution_count": 33,
   "metadata": {},
   "outputs": [],
   "source": [
    "cost_final = cost\n",
    "params_est = pos"
   ]
  },
  {
   "cell_type": "code",
   "execution_count": 34,
   "metadata": {},
   "outputs": [
    {
     "data": {
      "text/plain": [
       "1.6237281546649147"
      ]
     },
     "execution_count": 34,
     "metadata": {},
     "output_type": "execute_result"
    }
   ],
   "source": [
    "rmse_prms = RMSE(params_est, params_true)\n",
    "rmse_prms"
   ]
  },
  {
   "cell_type": "code",
   "execution_count": 35,
   "metadata": {},
   "outputs": [],
   "source": [
    "v_fit, r_fit = X_model_list[np.argmin(cost_model_list)]"
   ]
  },
  {
   "cell_type": "markdown",
   "metadata": {},
   "source": [
    "New simulation with optimal parameters:"
   ]
  },
  {
   "cell_type": "code",
   "execution_count": 36,
   "metadata": {},
   "outputs": [],
   "source": [
    "set_seed(0)\n",
    "Sim_est = Montbrio_SDEmodel(params_est, inits, I_input, sigma_noise, dt, ts)"
   ]
  },
  {
   "cell_type": "code",
   "execution_count": 37,
   "metadata": {},
   "outputs": [],
   "source": [
    "v_sim_est = Sim_est[0]\n",
    "r_sim_est = Sim_est[1]"
   ]
  },
  {
   "cell_type": "code",
   "execution_count": 38,
   "metadata": {},
   "outputs": [],
   "source": [
    "res_dict = {'v_sim': list(v_sim_est), 'r_sim': list(r_sim_est),\n",
    "            'v_fit' : list(v_fit), 'r_fit': list(r_fit),\n",
    "            'delta': params_est[0], 'eta': params_est[1], 'J': params_est[2],\n",
    "            'sigma': sigma_noise, \n",
    "            'rmse_prms': rmse_prms, 'cost': cost_final}\n",
    "\n",
    "json_object = json.dumps(res_dict, indent=4)\n",
    "with open(\"results/PSO2_simODE_output.json\", \"w\") as outfile:\n",
    "    outfile.write(json_object)"
   ]
  },
  {
   "cell_type": "markdown",
   "metadata": {},
   "source": [
    "## Bayesian Optimization"
   ]
  },
  {
   "cell_type": "code",
   "execution_count": 39,
   "metadata": {},
   "outputs": [],
   "source": [
    "from matplotlib import gridspec\n",
    "from bayes_opt import BayesianOptimization #v1.4.0\n",
    "from bayes_opt import UtilityFunction\n",
    "\n",
    "def posterior(optimizer, x_obs, y_obs, grid):\n",
    "    optimizer._gp.fit(x_obs, y_obs)\n",
    "\n",
    "    mu, sigma = optimizer._gp.predict(grid, return_std=True)\n",
    "    return mu, sigma\n",
    "\n",
    "def plot_gp(optimizer, x, y):\n",
    "    fig = plt.figure(figsize=(16, 10))\n",
    "    steps = len(optimizer.space)\n",
    "    fig.suptitle(\n",
    "        'Gaussian Process and Utility Function After {} Steps'.format(steps),\n",
    "        fontdict={'size':30}\n",
    "    )\n",
    "    \n",
    "    gs = gridspec.GridSpec(2, 1, height_ratios=[3, 1]) \n",
    "    axis = plt.subplot(gs[0])\n",
    "    acq = plt.subplot(gs[1])\n",
    "    \n",
    "    x_obs = np.array([[res[\"params\"][\"x\"]] for res in optimizer.res])\n",
    "    y_obs = np.array([res[\"target\"] for res in optimizer.res])\n",
    "    \n",
    "    mu, sigma = posterior(optimizer, x_obs, y_obs, x)\n",
    "    axis.plot(x, y, linewidth=3, label='Target')\n",
    "    axis.plot(x_obs.flatten(), y_obs, 'D', markersize=8, label=u'Observations', color='r')\n",
    "    axis.plot(x, mu, '--', color='k', label='Prediction')\n",
    "\n",
    "    axis.fill(np.concatenate([x, x[::-1]]), \n",
    "              np.concatenate([mu - 1.9600 * sigma, (mu + 1.9600 * sigma)[::-1]]),\n",
    "        alpha=.6, fc='c', ec='None', label='95% confidence interval')\n",
    "    \n",
    "    axis.set_xlim((0, 2))\n",
    "    axis.set_ylim((None, None))\n",
    "    axis.set_ylabel('f(x)', fontdict={'size':20})\n",
    "    axis.set_xlabel('x', fontdict={'size':20})\n",
    "    \n",
    "    utility_function = UtilityFunction(kind=\"ucb\", kappa=5, xi=0)\n",
    "    utility = utility_function.utility(x, optimizer._gp, 0)\n",
    "    acq.plot(x, utility, label='Utility Function', color='purple')\n",
    "    acq.plot(x[np.argmax(utility)], np.max(utility), '*', markersize=15, \n",
    "             label=u'Next Best Guess', markerfacecolor='gold', markeredgecolor='k', markeredgewidth=1)\n",
    "    acq.set_xlim((0, 2))\n",
    "    acq.set_ylim((-25, np.max(utility) + 1.5))\n",
    "    acq.set_ylabel('Utility', fontdict={'size':20})\n",
    "    acq.set_xlabel('x', fontdict={'size':20})\n",
    "    \n",
    "    axis.legend(loc=2, bbox_to_anchor=(1.01, 1), borderaxespad=0.)\n",
    "    acq.legend(loc=2, bbox_to_anchor=(1.01, 1), borderaxespad=0.)"
   ]
  },
  {
   "cell_type": "code",
   "execution_count": 40,
   "metadata": {},
   "outputs": [],
   "source": [
    "def black_box_function_BO(delta, eta, J):\n",
    "    prms_proposal = [0] * 3\n",
    "    prms_proposal[0] = delta\n",
    "    prms_proposal[1] = eta\n",
    "    prms_proposal[2] = J\n",
    "    \n",
    "    params_val = prms_proposal\n",
    "    sim = Montbrio_SDEmodel_numba(params_val, inits, I_input, sigma_noise, dt, ts)\n",
    "\n",
    "    X_model = np.vstack([sim[0], sim[1]])\n",
    "    cost_model = np.nan_to_num(-1*np.sqrt(np.sum((X_model - X_obs)**2)), nan=-1000)\n",
    "    \n",
    "    if cost_model > max(cost_model_list) :\n",
    "        cost_model_list.append(cost_model)\n",
    "        X_model_list.append(X_model)\n",
    "        \n",
    "    return cost_model"
   ]
  },
  {
   "cell_type": "code",
   "execution_count": 41,
   "metadata": {},
   "outputs": [
    {
     "data": {
      "text/plain": [
       "{'delta': (0.2, 5), 'eta': (-10, -3), 'J': (5, 20)}"
      ]
     },
     "execution_count": 41,
     "metadata": {},
     "output_type": "execute_result"
    }
   ],
   "source": [
    "pbounds = {'delta': bounds[0], 'eta': bounds[1], 'J': bounds[2]}\n",
    "pbounds"
   ]
  },
  {
   "cell_type": "markdown",
   "metadata": {},
   "source": [
    "#### Fixed noise = 0.1"
   ]
  },
  {
   "cell_type": "code",
   "execution_count": 42,
   "metadata": {
    "scrolled": true
   },
   "outputs": [
    {
     "name": "stdout",
     "output_type": "stream",
     "text": [
      "|   iter    |  target   |     J     |   delta   |    eta    |\n",
      "-------------------------------------------------------------\n",
      "| \u001b[0m1        \u001b[0m | \u001b[0m-344.0   \u001b[0m | \u001b[0m13.23    \u001b[0m | \u001b[0m3.633    \u001b[0m | \u001b[0m-5.781   \u001b[0m |\n",
      "| \u001b[0m2        \u001b[0m | \u001b[0m-395.5   \u001b[0m | \u001b[0m13.17    \u001b[0m | \u001b[0m2.234    \u001b[0m | \u001b[0m-5.479   \u001b[0m |\n",
      "| \u001b[95m3        \u001b[0m | \u001b[95m-325.3   \u001b[0m | \u001b[95m11.56    \u001b[0m | \u001b[95m4.481    \u001b[0m | \u001b[95m-3.254   \u001b[0m |\n",
      "| \u001b[0m4        \u001b[0m | \u001b[0m-445.8   \u001b[0m | \u001b[0m10.75    \u001b[0m | \u001b[0m4.0      \u001b[0m | \u001b[0m-6.298   \u001b[0m |\n",
      "| \u001b[0m5        \u001b[0m | \u001b[0m-596.9   \u001b[0m | \u001b[0m13.52    \u001b[0m | \u001b[0m4.643    \u001b[0m | \u001b[0m-9.503   \u001b[0m |\n",
      "| \u001b[0m6        \u001b[0m | \u001b[0m-511.2   \u001b[0m | \u001b[0m6.307    \u001b[0m | \u001b[0m0.297    \u001b[0m | \u001b[0m-4.172   \u001b[0m |\n",
      "| \u001b[0m7        \u001b[0m | \u001b[0m-415.5   \u001b[0m | \u001b[0m16.67    \u001b[0m | \u001b[0m4.376    \u001b[0m | \u001b[0m-3.15    \u001b[0m |\n",
      "| \u001b[0m8        \u001b[0m | \u001b[0m-411.1   \u001b[0m | \u001b[0m16.99    \u001b[0m | \u001b[0m2.415    \u001b[0m | \u001b[0m-4.536   \u001b[0m |\n",
      "| \u001b[0m9        \u001b[0m | \u001b[0m-728.3   \u001b[0m | \u001b[0m6.774    \u001b[0m | \u001b[0m3.272    \u001b[0m | \u001b[0m-8.997   \u001b[0m |\n",
      "| \u001b[95m10       \u001b[0m | \u001b[95m-203.9   \u001b[0m | \u001b[95m19.17    \u001b[0m | \u001b[95m2.705    \u001b[0m | \u001b[95m-7.097   \u001b[0m |\n",
      "| \u001b[0m11       \u001b[0m | \u001b[0m-536.9   \u001b[0m | \u001b[0m8.968    \u001b[0m | \u001b[0m3.916    \u001b[0m | \u001b[0m-6.807   \u001b[0m |\n",
      "| \u001b[0m12       \u001b[0m | \u001b[0m-597.8   \u001b[0m | \u001b[0m13.53    \u001b[0m | \u001b[0m0.2902   \u001b[0m | \u001b[0m-5.677   \u001b[0m |\n",
      "| \u001b[0m13       \u001b[0m | \u001b[0m-364.4   \u001b[0m | \u001b[0m14.18    \u001b[0m | \u001b[0m3.161    \u001b[0m | \u001b[0m-3.394   \u001b[0m |\n",
      "| \u001b[0m14       \u001b[0m | \u001b[0m-479.2   \u001b[0m | \u001b[0m15.23    \u001b[0m | \u001b[0m1.926    \u001b[0m | \u001b[0m-6.941   \u001b[0m |\n",
      "| \u001b[0m15       \u001b[0m | \u001b[0m-549.6   \u001b[0m | \u001b[0m15.46    \u001b[0m | \u001b[0m0.4891   \u001b[0m | \u001b[0m-5.333   \u001b[0m |\n",
      "| \u001b[0m16       \u001b[0m | \u001b[0m-739.0   \u001b[0m | \u001b[0m15.06    \u001b[0m | \u001b[0m1.21     \u001b[0m | \u001b[0m-9.098   \u001b[0m |\n",
      "| \u001b[0m17       \u001b[0m | \u001b[0m-517.5   \u001b[0m | \u001b[0m9.731    \u001b[0m | \u001b[0m1.946    \u001b[0m | \u001b[0m-6.009   \u001b[0m |\n",
      "| \u001b[0m18       \u001b[0m | \u001b[0m-627.9   \u001b[0m | \u001b[0m11.58    \u001b[0m | \u001b[0m4.944    \u001b[0m | \u001b[0m-9.286   \u001b[0m |\n",
      "| \u001b[0m19       \u001b[0m | \u001b[0m-553.9   \u001b[0m | \u001b[0m8.133    \u001b[0m | \u001b[0m0.9743   \u001b[0m | \u001b[0m-5.428   \u001b[0m |\n",
      "| \u001b[0m20       \u001b[0m | \u001b[0m-682.5   \u001b[0m | \u001b[0m8.799    \u001b[0m | \u001b[0m2.438    \u001b[0m | \u001b[0m-8.289   \u001b[0m |\n",
      "| \u001b[0m21       \u001b[0m | \u001b[0m-569.3   \u001b[0m | \u001b[0m7.385    \u001b[0m | \u001b[0m0.7298   \u001b[0m | \u001b[0m-5.406   \u001b[0m |\n",
      "| \u001b[0m22       \u001b[0m | \u001b[0m-680.7   \u001b[0m | \u001b[0m7.073    \u001b[0m | \u001b[0m1.144    \u001b[0m | \u001b[0m-7.419   \u001b[0m |\n",
      "| \u001b[0m23       \u001b[0m | \u001b[0m-272.4   \u001b[0m | \u001b[0m17.31    \u001b[0m | \u001b[0m0.6661   \u001b[0m | \u001b[0m-4.134   \u001b[0m |\n",
      "| \u001b[0m24       \u001b[0m | \u001b[0m-584.6   \u001b[0m | \u001b[0m6.441    \u001b[0m | \u001b[0m4.887    \u001b[0m | \u001b[0m-6.719   \u001b[0m |\n",
      "| \u001b[0m25       \u001b[0m | \u001b[0m-471.3   \u001b[0m | \u001b[0m19.65    \u001b[0m | \u001b[0m3.103    \u001b[0m | \u001b[0m-4.825   \u001b[0m |\n",
      "| \u001b[0m26       \u001b[0m | \u001b[0m-773.4   \u001b[0m | \u001b[0m5.588    \u001b[0m | \u001b[0m1.557    \u001b[0m | \u001b[0m-9.159   \u001b[0m |\n",
      "| \u001b[0m27       \u001b[0m | \u001b[0m-704.8   \u001b[0m | \u001b[0m9.442    \u001b[0m | \u001b[0m0.7699   \u001b[0m | \u001b[0m-7.774   \u001b[0m |\n",
      "| \u001b[0m28       \u001b[0m | \u001b[0m-550.4   \u001b[0m | \u001b[0m11.21    \u001b[0m | \u001b[0m0.5079   \u001b[0m | \u001b[0m-5.153   \u001b[0m |\n",
      "| \u001b[0m29       \u001b[0m | \u001b[0m-485.7   \u001b[0m | \u001b[0m13.5     \u001b[0m | \u001b[0m1.474    \u001b[0m | \u001b[0m-6.337   \u001b[0m |\n",
      "| \u001b[0m30       \u001b[0m | \u001b[0m-387.4   \u001b[0m | \u001b[0m6.409    \u001b[0m | \u001b[0m2.965    \u001b[0m | \u001b[0m-3.495   \u001b[0m |\n",
      "| \u001b[0m31       \u001b[0m | \u001b[0m-692.5   \u001b[0m | \u001b[0m9.779    \u001b[0m | \u001b[0m3.404    \u001b[0m | \u001b[0m-9.077   \u001b[0m |\n",
      "| \u001b[0m32       \u001b[0m | \u001b[0m-689.7   \u001b[0m | \u001b[0m15.74    \u001b[0m | \u001b[0m1.589    \u001b[0m | \u001b[0m-8.718   \u001b[0m |\n",
      "| \u001b[0m33       \u001b[0m | \u001b[0m-483.3   \u001b[0m | \u001b[0m13.8     \u001b[0m | \u001b[0m0.2965   \u001b[0m | \u001b[0m-4.197   \u001b[0m |\n",
      "| \u001b[0m34       \u001b[0m | \u001b[0m-696.9   \u001b[0m | \u001b[0m5.07     \u001b[0m | \u001b[0m3.454    \u001b[0m | \u001b[0m-8.11    \u001b[0m |\n",
      "| \u001b[0m35       \u001b[0m | \u001b[0m-392.7   \u001b[0m | \u001b[0m16.03    \u001b[0m | \u001b[0m4.819    \u001b[0m | \u001b[0m-8.259   \u001b[0m |\n",
      "| \u001b[0m36       \u001b[0m | \u001b[0m-379.9   \u001b[0m | \u001b[0m13.64    \u001b[0m | \u001b[0m3.042    \u001b[0m | \u001b[0m-5.994   \u001b[0m |\n",
      "| \u001b[0m37       \u001b[0m | \u001b[0m-547.7   \u001b[0m | \u001b[0m8.346    \u001b[0m | \u001b[0m4.773    \u001b[0m | \u001b[0m-6.87    \u001b[0m |\n",
      "| \u001b[95m38       \u001b[0m | \u001b[95m-183.4   \u001b[0m | \u001b[95m17.7     \u001b[0m | \u001b[95m3.558    \u001b[0m | \u001b[95m-7.918   \u001b[0m |\n",
      "| \u001b[0m39       \u001b[0m | \u001b[0m-433.8   \u001b[0m | \u001b[0m17.21    \u001b[0m | \u001b[0m2.103    \u001b[0m | \u001b[0m-3.832   \u001b[0m |\n",
      "| \u001b[0m40       \u001b[0m | \u001b[0m-322.2   \u001b[0m | \u001b[0m13.72    \u001b[0m | \u001b[0m4.432    \u001b[0m | \u001b[0m-5.152   \u001b[0m |\n",
      "| \u001b[0m41       \u001b[0m | \u001b[0m-406.9   \u001b[0m | \u001b[0m15.88    \u001b[0m | \u001b[0m2.606    \u001b[0m | \u001b[0m-3.307   \u001b[0m |\n",
      "| \u001b[0m42       \u001b[0m | \u001b[0m-390.0   \u001b[0m | \u001b[0m14.66    \u001b[0m | \u001b[0m2.235    \u001b[0m | \u001b[0m-5.755   \u001b[0m |\n",
      "| \u001b[0m43       \u001b[0m | \u001b[0m-549.4   \u001b[0m | \u001b[0m5.288    \u001b[0m | \u001b[0m1.648    \u001b[0m | \u001b[0m-5.379   \u001b[0m |\n",
      "| \u001b[0m44       \u001b[0m | \u001b[0m-561.1   \u001b[0m | \u001b[0m9.351    \u001b[0m | \u001b[0m3.166    \u001b[0m | \u001b[0m-6.999   \u001b[0m |\n",
      "| \u001b[0m45       \u001b[0m | \u001b[0m-576.2   \u001b[0m | \u001b[0m7.032    \u001b[0m | \u001b[0m1.632    \u001b[0m | \u001b[0m-6.01    \u001b[0m |\n",
      "| \u001b[0m46       \u001b[0m | \u001b[0m-316.7   \u001b[0m | \u001b[0m13.86    \u001b[0m | \u001b[0m2.957    \u001b[0m | \u001b[0m-5.428   \u001b[0m |\n",
      "| \u001b[0m47       \u001b[0m | \u001b[0m-377.9   \u001b[0m | \u001b[0m14.78    \u001b[0m | \u001b[0m2.271    \u001b[0m | \u001b[0m-3.724   \u001b[0m |\n",
      "| \u001b[0m48       \u001b[0m | \u001b[0m-330.3   \u001b[0m | \u001b[0m10.51    \u001b[0m | \u001b[0m2.292    \u001b[0m | \u001b[0m-3.757   \u001b[0m |\n",
      "| \u001b[0m49       \u001b[0m | \u001b[0m-504.5   \u001b[0m | \u001b[0m17.09    \u001b[0m | \u001b[0m3.579    \u001b[0m | \u001b[0m-9.298   \u001b[0m |\n",
      "| \u001b[0m50       \u001b[0m | \u001b[0m-474.3   \u001b[0m | \u001b[0m18.79    \u001b[0m | \u001b[0m3.628    \u001b[0m | \u001b[0m-3.008   \u001b[0m |\n",
      "| \u001b[0m51       \u001b[0m | \u001b[0m-390.3   \u001b[0m | \u001b[0m18.82    \u001b[0m | \u001b[0m4.968    \u001b[0m | \u001b[0m-7.426   \u001b[0m |\n",
      "| \u001b[0m52       \u001b[0m | \u001b[0m-602.0   \u001b[0m | \u001b[0m19.27    \u001b[0m | \u001b[0m0.2      \u001b[0m | \u001b[0m-5.727   \u001b[0m |\n",
      "| \u001b[0m53       \u001b[0m | \u001b[0m-368.9   \u001b[0m | \u001b[0m17.73    \u001b[0m | \u001b[0m3.342    \u001b[0m | \u001b[0m-6.795   \u001b[0m |\n",
      "| \u001b[0m54       \u001b[0m | \u001b[0m-186.9   \u001b[0m | \u001b[0m19.38    \u001b[0m | \u001b[0m3.011    \u001b[0m | \u001b[0m-8.468   \u001b[0m |\n",
      "| \u001b[95m55       \u001b[0m | \u001b[95m-165.7   \u001b[0m | \u001b[95m18.52    \u001b[0m | \u001b[95m2.67     \u001b[0m | \u001b[95m-8.04    \u001b[0m |\n",
      "| \u001b[0m56       \u001b[0m | \u001b[0m-190.2   \u001b[0m | \u001b[0m18.72    \u001b[0m | \u001b[0m3.464    \u001b[0m | \u001b[0m-7.97    \u001b[0m |\n",
      "| \u001b[0m57       \u001b[0m | \u001b[0m-212.7   \u001b[0m | \u001b[0m20.0     \u001b[0m | \u001b[0m1.807    \u001b[0m | \u001b[0m-8.194   \u001b[0m |\n",
      "| \u001b[0m58       \u001b[0m | \u001b[0m-336.0   \u001b[0m | \u001b[0m8.897    \u001b[0m | \u001b[0m4.4      \u001b[0m | \u001b[0m-3.217   \u001b[0m |\n",
      "| \u001b[0m59       \u001b[0m | \u001b[0m-594.0   \u001b[0m | \u001b[0m16.96    \u001b[0m | \u001b[0m0.2      \u001b[0m | \u001b[0m-3.0     \u001b[0m |\n",
      "| \u001b[0m60       \u001b[0m | \u001b[0m-735.7   \u001b[0m | \u001b[0m20.0     \u001b[0m | \u001b[0m1.679    \u001b[0m | \u001b[0m-10.0    \u001b[0m |\n",
      "| \u001b[0m61       \u001b[0m | \u001b[0m-205.2   \u001b[0m | \u001b[0m19.9     \u001b[0m | \u001b[0m2.83     \u001b[0m | \u001b[0m-7.719   \u001b[0m |\n",
      "| \u001b[0m62       \u001b[0m | \u001b[0m-189.1   \u001b[0m | \u001b[0m19.39    \u001b[0m | \u001b[0m2.282    \u001b[0m | \u001b[0m-7.904   \u001b[0m |\n",
      "| \u001b[0m63       \u001b[0m | \u001b[0m-420.2   \u001b[0m | \u001b[0m5.0      \u001b[0m | \u001b[0m5.0      \u001b[0m | \u001b[0m-3.0     \u001b[0m |\n",
      "| \u001b[0m64       \u001b[0m | \u001b[0m-325.4   \u001b[0m | \u001b[0m8.678    \u001b[0m | \u001b[0m2.306    \u001b[0m | \u001b[0m-3.0     \u001b[0m |\n",
      "| \u001b[0m65       \u001b[0m | \u001b[0m-350.6   \u001b[0m | \u001b[0m19.99    \u001b[0m | \u001b[0m4.967    \u001b[0m | \u001b[0m-9.802   \u001b[0m |\n",
      "| \u001b[0m66       \u001b[0m | \u001b[0m-341.9   \u001b[0m | \u001b[0m12.15    \u001b[0m | \u001b[0m2.387    \u001b[0m | \u001b[0m-3.0     \u001b[0m |\n",
      "| \u001b[0m67       \u001b[0m | \u001b[0m-205.0   \u001b[0m | \u001b[0m19.96    \u001b[0m | \u001b[0m1.922    \u001b[0m | \u001b[0m-7.32    \u001b[0m |\n",
      "| \u001b[0m68       \u001b[0m | \u001b[0m-428.2   \u001b[0m | \u001b[0m9.781    \u001b[0m | \u001b[0m0.2      \u001b[0m | \u001b[0m-3.0     \u001b[0m |\n",
      "| \u001b[0m69       \u001b[0m | \u001b[0m-351.1   \u001b[0m | \u001b[0m10.38    \u001b[0m | \u001b[0m5.0      \u001b[0m | \u001b[0m-4.485   \u001b[0m |\n",
      "| \u001b[0m70       \u001b[0m | \u001b[0m-344.1   \u001b[0m | \u001b[0m15.62    \u001b[0m | \u001b[0m5.0      \u001b[0m | \u001b[0m-5.841   \u001b[0m |\n",
      "| \u001b[0m71       \u001b[0m | \u001b[0m-392.5   \u001b[0m | \u001b[0m20.0     \u001b[0m | \u001b[0m3.968    \u001b[0m | \u001b[0m-8.502   \u001b[0m |\n",
      "| \u001b[0m72       \u001b[0m | \u001b[0m-176.3   \u001b[0m | \u001b[0m18.48    \u001b[0m | \u001b[0m3.322    \u001b[0m | \u001b[0m-8.581   \u001b[0m |\n",
      "| \u001b[0m73       \u001b[0m | \u001b[0m-331.1   \u001b[0m | \u001b[0m17.75    \u001b[0m | \u001b[0m4.772    \u001b[0m | \u001b[0m-8.27    \u001b[0m |\n",
      "| \u001b[0m74       \u001b[0m | \u001b[0m-349.9   \u001b[0m | \u001b[0m13.38    \u001b[0m | \u001b[0m4.979    \u001b[0m | \u001b[0m-3.076   \u001b[0m |\n",
      "| \u001b[0m75       \u001b[0m | \u001b[0m-371.6   \u001b[0m | \u001b[0m7.18     \u001b[0m | \u001b[0m5.0      \u001b[0m | \u001b[0m-3.0     \u001b[0m |\n",
      "| \u001b[0m76       \u001b[0m | \u001b[0m-313.9   \u001b[0m | \u001b[0m12.32    \u001b[0m | \u001b[0m3.832    \u001b[0m | \u001b[0m-4.521   \u001b[0m |\n",
      "| \u001b[95m77       \u001b[0m | \u001b[95m-164.9   \u001b[0m | \u001b[95m18.07    \u001b[0m | \u001b[95m2.933    \u001b[0m | \u001b[95m-8.214   \u001b[0m |\n",
      "| \u001b[0m78       \u001b[0m | \u001b[0m-315.4   \u001b[0m | \u001b[0m10.24    \u001b[0m | \u001b[0m3.416    \u001b[0m | \u001b[0m-3.0     \u001b[0m |\n",
      "| \u001b[0m79       \u001b[0m | \u001b[0m-179.4   \u001b[0m | \u001b[0m18.87    \u001b[0m | \u001b[0m2.867    \u001b[0m | \u001b[0m-8.124   \u001b[0m |\n",
      "| \u001b[0m80       \u001b[0m | \u001b[0m-173.1   \u001b[0m | \u001b[0m18.38    \u001b[0m | \u001b[0m1.876    \u001b[0m | \u001b[0m-7.411   \u001b[0m |\n"
     ]
    },
    {
     "name": "stdout",
     "output_type": "stream",
     "text": [
      "| \u001b[0m81       \u001b[0m | \u001b[0m-210.1   \u001b[0m | \u001b[0m17.48    \u001b[0m | \u001b[0m1.049    \u001b[0m | \u001b[0m-5.282   \u001b[0m |\n",
      "| \u001b[95m82       \u001b[0m | \u001b[95m-149.0   \u001b[0m | \u001b[95m17.52    \u001b[0m | \u001b[95m1.337    \u001b[0m | \u001b[95m-6.75    \u001b[0m |\n",
      "| \u001b[0m83       \u001b[0m | \u001b[0m-664.2   \u001b[0m | \u001b[0m17.62    \u001b[0m | \u001b[0m0.4245   \u001b[0m | \u001b[0m-7.058   \u001b[0m |\n",
      "| \u001b[0m84       \u001b[0m | \u001b[0m-161.8   \u001b[0m | \u001b[0m17.29    \u001b[0m | \u001b[0m1.825    \u001b[0m | \u001b[0m-6.309   \u001b[0m |\n",
      "| \u001b[0m85       \u001b[0m | \u001b[0m-179.7   \u001b[0m | \u001b[0m18.33    \u001b[0m | \u001b[0m1.707    \u001b[0m | \u001b[0m-6.452   \u001b[0m |\n",
      "| \u001b[0m86       \u001b[0m | \u001b[0m-154.3   \u001b[0m | \u001b[0m17.35    \u001b[0m | \u001b[0m2.225    \u001b[0m | \u001b[0m-7.145   \u001b[0m |\n",
      "| \u001b[0m87       \u001b[0m | \u001b[0m-161.3   \u001b[0m | \u001b[0m17.76    \u001b[0m | \u001b[0m1.99     \u001b[0m | \u001b[0m-6.874   \u001b[0m |\n",
      "| \u001b[0m88       \u001b[0m | \u001b[0m-479.3   \u001b[0m | \u001b[0m19.98    \u001b[0m | \u001b[0m0.5862   \u001b[0m | \u001b[0m-3.013   \u001b[0m |\n",
      "| \u001b[0m89       \u001b[0m | \u001b[0m-498.8   \u001b[0m | \u001b[0m20.0     \u001b[0m | \u001b[0m5.0      \u001b[0m | \u001b[0m-3.0     \u001b[0m |\n",
      "| \u001b[0m90       \u001b[0m | \u001b[0m-186.6   \u001b[0m | \u001b[0m17.51    \u001b[0m | \u001b[0m1.895    \u001b[0m | \u001b[0m-7.601   \u001b[0m |\n",
      "| \u001b[0m91       \u001b[0m | \u001b[0m-162.3   \u001b[0m | \u001b[0m17.06    \u001b[0m | \u001b[0m1.858    \u001b[0m | \u001b[0m-6.821   \u001b[0m |\n",
      "| \u001b[0m92       \u001b[0m | \u001b[0m-366.0   \u001b[0m | \u001b[0m15.1     \u001b[0m | \u001b[0m5.0      \u001b[0m | \u001b[0m-3.987   \u001b[0m |\n",
      "| \u001b[0m93       \u001b[0m | \u001b[0m-385.3   \u001b[0m | \u001b[0m8.777    \u001b[0m | \u001b[0m3.375    \u001b[0m | \u001b[0m-4.424   \u001b[0m |\n",
      "| \u001b[0m94       \u001b[0m | \u001b[0m-185.3   \u001b[0m | \u001b[0m17.69    \u001b[0m | \u001b[0m1.447    \u001b[0m | \u001b[0m-6.1     \u001b[0m |\n",
      "| \u001b[0m95       \u001b[0m | \u001b[0m-421.9   \u001b[0m | \u001b[0m5.0      \u001b[0m | \u001b[0m0.2      \u001b[0m | \u001b[0m-3.0     \u001b[0m |\n",
      "| \u001b[0m96       \u001b[0m | \u001b[0m-435.0   \u001b[0m | \u001b[0m17.16    \u001b[0m | \u001b[0m2.909    \u001b[0m | \u001b[0m-7.764   \u001b[0m |\n",
      "| \u001b[0m97       \u001b[0m | \u001b[0m-337.0   \u001b[0m | \u001b[0m12.19    \u001b[0m | \u001b[0m4.998    \u001b[0m | \u001b[0m-5.304   \u001b[0m |\n",
      "| \u001b[0m98       \u001b[0m | \u001b[0m-835.9   \u001b[0m | \u001b[0m11.79    \u001b[0m | \u001b[0m0.2      \u001b[0m | \u001b[0m-10.0    \u001b[0m |\n",
      "| \u001b[0m99       \u001b[0m | \u001b[0m-350.5   \u001b[0m | \u001b[0m14.16    \u001b[0m | \u001b[0m5.0      \u001b[0m | \u001b[0m-6.879   \u001b[0m |\n",
      "| \u001b[0m100      \u001b[0m | \u001b[0m-472.7   \u001b[0m | \u001b[0m12.12    \u001b[0m | \u001b[0m0.2      \u001b[0m | \u001b[0m-3.0     \u001b[0m |\n",
      "| \u001b[0m101      \u001b[0m | \u001b[0m-242.3   \u001b[0m | \u001b[0m18.17    \u001b[0m | \u001b[0m1.422    \u001b[0m | \u001b[0m-4.694   \u001b[0m |\n",
      "| \u001b[0m102      \u001b[0m | \u001b[0m-225.6   \u001b[0m | \u001b[0m19.47    \u001b[0m | \u001b[0m2.037    \u001b[0m | \u001b[0m-6.2     \u001b[0m |\n",
      "| \u001b[0m103      \u001b[0m | \u001b[0m-353.9   \u001b[0m | \u001b[0m15.26    \u001b[0m | \u001b[0m3.528    \u001b[0m | \u001b[0m-4.969   \u001b[0m |\n",
      "| \u001b[0m104      \u001b[0m | \u001b[0m-429.8   \u001b[0m | \u001b[0m18.61    \u001b[0m | \u001b[0m4.837    \u001b[0m | \u001b[0m-9.807   \u001b[0m |\n",
      "| \u001b[0m105      \u001b[0m | \u001b[0m-328.8   \u001b[0m | \u001b[0m10.25    \u001b[0m | \u001b[0m4.975    \u001b[0m | \u001b[0m-3.029   \u001b[0m |\n",
      "| \u001b[0m106      \u001b[0m | \u001b[0m-387.4   \u001b[0m | \u001b[0m5.0      \u001b[0m | \u001b[0m2.46     \u001b[0m | \u001b[0m-3.0     \u001b[0m |\n",
      "| \u001b[0m107      \u001b[0m | \u001b[0m-186.5   \u001b[0m | \u001b[0m18.07    \u001b[0m | \u001b[0m3.745    \u001b[0m | \u001b[0m-8.298   \u001b[0m |\n",
      "| \u001b[0m108      \u001b[0m | \u001b[0m-387.0   \u001b[0m | \u001b[0m7.754    \u001b[0m | \u001b[0m0.7918   \u001b[0m | \u001b[0m-3.0     \u001b[0m |\n",
      "| \u001b[0m109      \u001b[0m | \u001b[0m-514.2   \u001b[0m | \u001b[0m5.0      \u001b[0m | \u001b[0m5.0      \u001b[0m | \u001b[0m-4.907   \u001b[0m |\n",
      "| \u001b[0m110      \u001b[0m | \u001b[0m-187.8   \u001b[0m | \u001b[0m19.06    \u001b[0m | \u001b[0m1.886    \u001b[0m | \u001b[0m-6.959   \u001b[0m |\n",
      "| \u001b[0m111      \u001b[0m | \u001b[0m-790.9   \u001b[0m | \u001b[0m5.0      \u001b[0m | \u001b[0m5.0      \u001b[0m | \u001b[0m-10.0    \u001b[0m |\n",
      "| \u001b[0m112      \u001b[0m | \u001b[0m-177.8   \u001b[0m | \u001b[0m18.11    \u001b[0m | \u001b[0m3.189    \u001b[0m | \u001b[0m-7.767   \u001b[0m |\n",
      "| \u001b[0m113      \u001b[0m | \u001b[0m-353.5   \u001b[0m | \u001b[0m17.06    \u001b[0m | \u001b[0m5.0      \u001b[0m | \u001b[0m-6.929   \u001b[0m |\n",
      "| \u001b[0m114      \u001b[0m | \u001b[0m-523.9   \u001b[0m | \u001b[0m18.53    \u001b[0m | \u001b[0m2.32     \u001b[0m | \u001b[0m-8.748   \u001b[0m |\n",
      "| \u001b[0m115      \u001b[0m | \u001b[0m-416.9   \u001b[0m | \u001b[0m17.98    \u001b[0m | \u001b[0m4.944    \u001b[0m | \u001b[0m-4.863   \u001b[0m |\n",
      "| \u001b[0m116      \u001b[0m | \u001b[0m-342.3   \u001b[0m | \u001b[0m10.93    \u001b[0m | \u001b[0m3.302    \u001b[0m | \u001b[0m-4.602   \u001b[0m |\n",
      "| \u001b[0m117      \u001b[0m | \u001b[0m-421.5   \u001b[0m | \u001b[0m7.854    \u001b[0m | \u001b[0m4.997    \u001b[0m | \u001b[0m-4.561   \u001b[0m |\n",
      "| \u001b[0m118      \u001b[0m | \u001b[0m-338.8   \u001b[0m | \u001b[0m7.751    \u001b[0m | \u001b[0m3.419    \u001b[0m | \u001b[0m-3.0     \u001b[0m |\n",
      "| \u001b[0m119      \u001b[0m | \u001b[0m-413.3   \u001b[0m | \u001b[0m18.26    \u001b[0m | \u001b[0m2.172    \u001b[0m | \u001b[0m-5.545   \u001b[0m |\n",
      "| \u001b[0m120      \u001b[0m | \u001b[0m-326.8   \u001b[0m | \u001b[0m18.25    \u001b[0m | \u001b[0m0.5729   \u001b[0m | \u001b[0m-4.185   \u001b[0m |\n",
      "| \u001b[0m121      \u001b[0m | \u001b[0m-167.1   \u001b[0m | \u001b[0m16.76    \u001b[0m | \u001b[0m1.44     \u001b[0m | \u001b[0m-5.882   \u001b[0m |\n",
      "| \u001b[0m122      \u001b[0m | \u001b[0m-458.5   \u001b[0m | \u001b[0m19.96    \u001b[0m | \u001b[0m4.908    \u001b[0m | \u001b[0m-5.541   \u001b[0m |\n",
      "| \u001b[0m123      \u001b[0m | \u001b[0m-198.5   \u001b[0m | \u001b[0m16.7     \u001b[0m | \u001b[0m1.282    \u001b[0m | \u001b[0m-5.001   \u001b[0m |\n",
      "| \u001b[0m124      \u001b[0m | \u001b[0m-162.3   \u001b[0m | \u001b[0m18.0     \u001b[0m | \u001b[0m2.276    \u001b[0m | \u001b[0m-7.425   \u001b[0m |\n",
      "| \u001b[0m125      \u001b[0m | \u001b[0m-171.7   \u001b[0m | \u001b[0m16.48    \u001b[0m | \u001b[0m2.072    \u001b[0m | \u001b[0m-5.894   \u001b[0m |\n",
      "| \u001b[0m126      \u001b[0m | \u001b[0m-188.3   \u001b[0m | \u001b[0m16.93    \u001b[0m | \u001b[0m1.737    \u001b[0m | \u001b[0m-5.497   \u001b[0m |\n",
      "| \u001b[0m127      \u001b[0m | \u001b[0m-151.0   \u001b[0m | \u001b[0m17.5     \u001b[0m | \u001b[0m1.816    \u001b[0m | \u001b[0m-7.141   \u001b[0m |\n",
      "| \u001b[0m128      \u001b[0m | \u001b[0m-658.3   \u001b[0m | \u001b[0m20.0     \u001b[0m | \u001b[0m0.8702   \u001b[0m | \u001b[0m-7.708   \u001b[0m |\n",
      "| \u001b[0m129      \u001b[0m | \u001b[0m-442.6   \u001b[0m | \u001b[0m20.0     \u001b[0m | \u001b[0m2.612    \u001b[0m | \u001b[0m-6.58    \u001b[0m |\n",
      "| \u001b[0m130      \u001b[0m | \u001b[0m-341.8   \u001b[0m | \u001b[0m12.7     \u001b[0m | \u001b[0m3.646    \u001b[0m | \u001b[0m-3.0     \u001b[0m |\n",
      "| \u001b[0m131      \u001b[0m | \u001b[0m-193.3   \u001b[0m | \u001b[0m19.93    \u001b[0m | \u001b[0m2.661    \u001b[0m | \u001b[0m-8.654   \u001b[0m |\n",
      "| \u001b[0m132      \u001b[0m | \u001b[0m-413.4   \u001b[0m | \u001b[0m12.48    \u001b[0m | \u001b[0m5.0      \u001b[0m | \u001b[0m-6.861   \u001b[0m |\n",
      "| \u001b[0m133      \u001b[0m | \u001b[0m-196.2   \u001b[0m | \u001b[0m19.98    \u001b[0m | \u001b[0m2.39     \u001b[0m | \u001b[0m-8.199   \u001b[0m |\n",
      "| \u001b[0m134      \u001b[0m | \u001b[0m-486.0   \u001b[0m | \u001b[0m20.0     \u001b[0m | \u001b[0m1.546    \u001b[0m | \u001b[0m-4.806   \u001b[0m |\n",
      "| \u001b[0m135      \u001b[0m | \u001b[0m-333.7   \u001b[0m | \u001b[0m16.01    \u001b[0m | \u001b[0m3.164    \u001b[0m | \u001b[0m-6.131   \u001b[0m |\n",
      "| \u001b[0m136      \u001b[0m | \u001b[0m-184.3   \u001b[0m | \u001b[0m15.99    \u001b[0m | \u001b[0m1.999    \u001b[0m | \u001b[0m-5.228   \u001b[0m |\n",
      "| \u001b[0m137      \u001b[0m | \u001b[0m-192.2   \u001b[0m | \u001b[0m20.0     \u001b[0m | \u001b[0m3.653    \u001b[0m | \u001b[0m-10.0    \u001b[0m |\n",
      "| \u001b[0m138      \u001b[0m | \u001b[0m-187.1   \u001b[0m | \u001b[0m19.55    \u001b[0m | \u001b[0m3.549    \u001b[0m | \u001b[0m-9.265   \u001b[0m |\n",
      "| \u001b[0m139      \u001b[0m | \u001b[0m-185.7   \u001b[0m | \u001b[0m18.74    \u001b[0m | \u001b[0m2.473    \u001b[0m | \u001b[0m-7.443   \u001b[0m |\n",
      "| \u001b[0m140      \u001b[0m | \u001b[0m-325.4   \u001b[0m | \u001b[0m13.07    \u001b[0m | \u001b[0m2.821    \u001b[0m | \u001b[0m-4.263   \u001b[0m |\n",
      "| \u001b[0m141      \u001b[0m | \u001b[0m-525.8   \u001b[0m | \u001b[0m15.83    \u001b[0m | \u001b[0m5.0      \u001b[0m | \u001b[0m-10.0    \u001b[0m |\n",
      "| \u001b[0m142      \u001b[0m | \u001b[0m-505.4   \u001b[0m | \u001b[0m19.23    \u001b[0m | \u001b[0m3.707    \u001b[0m | \u001b[0m-10.0    \u001b[0m |\n",
      "| \u001b[0m143      \u001b[0m | \u001b[0m-195.2   \u001b[0m | \u001b[0m19.95    \u001b[0m | \u001b[0m3.482    \u001b[0m | \u001b[0m-9.184   \u001b[0m |\n",
      "| \u001b[0m144      \u001b[0m | \u001b[0m-370.4   \u001b[0m | \u001b[0m13.44    \u001b[0m | \u001b[0m1.297    \u001b[0m | \u001b[0m-3.031   \u001b[0m |\n",
      "| \u001b[0m145      \u001b[0m | \u001b[0m-838.0   \u001b[0m | \u001b[0m7.962    \u001b[0m | \u001b[0m0.2      \u001b[0m | \u001b[0m-10.0    \u001b[0m |\n",
      "| \u001b[0m146      \u001b[0m | \u001b[0m-327.8   \u001b[0m | \u001b[0m12.97    \u001b[0m | \u001b[0m4.92     \u001b[0m | \u001b[0m-4.427   \u001b[0m |\n",
      "| \u001b[0m147      \u001b[0m | \u001b[0m-360.5   \u001b[0m | \u001b[0m6.952    \u001b[0m | \u001b[0m1.851    \u001b[0m | \u001b[0m-3.003   \u001b[0m |\n",
      "| \u001b[95m148      \u001b[0m | \u001b[95m-144.8   \u001b[0m | \u001b[95m17.16    \u001b[0m | \u001b[95m1.39     \u001b[0m | \u001b[95m-6.426   \u001b[0m |\n",
      "| \u001b[0m149      \u001b[0m | \u001b[0m-382.9   \u001b[0m | \u001b[0m16.47    \u001b[0m | \u001b[0m5.0      \u001b[0m | \u001b[0m-4.707   \u001b[0m |\n",
      "| \u001b[0m150      \u001b[0m | \u001b[0m-158.3   \u001b[0m | \u001b[0m16.15    \u001b[0m | \u001b[0m1.68     \u001b[0m | \u001b[0m-5.686   \u001b[0m |\n",
      "| \u001b[0m151      \u001b[0m | \u001b[0m-179.1   \u001b[0m | \u001b[0m17.51    \u001b[0m | \u001b[0m1.568    \u001b[0m | \u001b[0m-6.569   \u001b[0m |\n",
      "| \u001b[0m152      \u001b[0m | \u001b[0m-316.7   \u001b[0m | \u001b[0m11.37    \u001b[0m | \u001b[0m3.123    \u001b[0m | \u001b[0m-3.474   \u001b[0m |\n",
      "| \u001b[0m153      \u001b[0m | \u001b[0m-739.2   \u001b[0m | \u001b[0m8.369    \u001b[0m | \u001b[0m4.913    \u001b[0m | \u001b[0m-9.98    \u001b[0m |\n",
      "| \u001b[0m154      \u001b[0m | \u001b[0m-520.8   \u001b[0m | \u001b[0m12.06    \u001b[0m | \u001b[0m2.631    \u001b[0m | \u001b[0m-7.214   \u001b[0m |\n",
      "| \u001b[0m155      \u001b[0m | \u001b[0m-188.2   \u001b[0m | \u001b[0m16.42    \u001b[0m | \u001b[0m1.378    \u001b[0m | \u001b[0m-6.495   \u001b[0m |\n",
      "| \u001b[0m156      \u001b[0m | \u001b[0m-429.1   \u001b[0m | \u001b[0m14.68    \u001b[0m | \u001b[0m0.2      \u001b[0m | \u001b[0m-3.0     \u001b[0m |\n",
      "| \u001b[0m157      \u001b[0m | \u001b[0m-676.7   \u001b[0m | \u001b[0m5.0      \u001b[0m | \u001b[0m0.2      \u001b[0m | \u001b[0m-6.791   \u001b[0m |\n",
      "| \u001b[0m158      \u001b[0m | \u001b[0m-320.1   \u001b[0m | \u001b[0m15.47    \u001b[0m | \u001b[0m5.0      \u001b[0m | \u001b[0m-7.095   \u001b[0m |\n",
      "| \u001b[0m159      \u001b[0m | \u001b[0m-262.9   \u001b[0m | \u001b[0m10.79    \u001b[0m | \u001b[0m1.555    \u001b[0m | \u001b[0m-3.009   \u001b[0m |\n",
      "| \u001b[0m160      \u001b[0m | \u001b[0m-322.9   \u001b[0m | \u001b[0m9.78     \u001b[0m | \u001b[0m1.766    \u001b[0m | \u001b[0m-3.0     \u001b[0m |\n",
      "| \u001b[0m161      \u001b[0m | \u001b[0m-182.4   \u001b[0m | \u001b[0m18.09    \u001b[0m | \u001b[0m1.517    \u001b[0m | \u001b[0m-6.988   \u001b[0m |\n"
     ]
    },
    {
     "name": "stdout",
     "output_type": "stream",
     "text": [
      "| \u001b[0m162      \u001b[0m | \u001b[0m-207.7   \u001b[0m | \u001b[0m16.0     \u001b[0m | \u001b[0m1.517    \u001b[0m | \u001b[0m-4.412   \u001b[0m |\n",
      "| \u001b[0m163      \u001b[0m | \u001b[0m-172.2   \u001b[0m | \u001b[0m17.0     \u001b[0m | \u001b[0m2.402    \u001b[0m | \u001b[0m-6.429   \u001b[0m |\n",
      "| \u001b[0m164      \u001b[0m | \u001b[0m-202.4   \u001b[0m | \u001b[0m17.01    \u001b[0m | \u001b[0m1.319    \u001b[0m | \u001b[0m-7.0     \u001b[0m |\n",
      "| \u001b[0m165      \u001b[0m | \u001b[0m-215.9   \u001b[0m | \u001b[0m18.93    \u001b[0m | \u001b[0m1.494    \u001b[0m | \u001b[0m-6.07    \u001b[0m |\n",
      "| \u001b[0m166      \u001b[0m | \u001b[0m-151.5   \u001b[0m | \u001b[0m16.76    \u001b[0m | \u001b[0m1.831    \u001b[0m | \u001b[0m-6.234   \u001b[0m |\n",
      "| \u001b[0m167      \u001b[0m | \u001b[0m-445.9   \u001b[0m | \u001b[0m17.95    \u001b[0m | \u001b[0m5.0      \u001b[0m | \u001b[0m-3.0     \u001b[0m |\n",
      "| \u001b[0m168      \u001b[0m | \u001b[0m-382.7   \u001b[0m | \u001b[0m15.08    \u001b[0m | \u001b[0m4.369    \u001b[0m | \u001b[0m-3.001   \u001b[0m |\n",
      "| \u001b[0m169      \u001b[0m | \u001b[0m-195.9   \u001b[0m | \u001b[0m19.97    \u001b[0m | \u001b[0m3.172    \u001b[0m | \u001b[0m-9.627   \u001b[0m |\n",
      "| \u001b[0m170      \u001b[0m | \u001b[0m-187.5   \u001b[0m | \u001b[0m19.1     \u001b[0m | \u001b[0m3.665    \u001b[0m | \u001b[0m-8.688   \u001b[0m |\n",
      "| \u001b[0m171      \u001b[0m | \u001b[0m-206.0   \u001b[0m | \u001b[0m19.54    \u001b[0m | \u001b[0m2.314    \u001b[0m | \u001b[0m-7.409   \u001b[0m |\n",
      "| \u001b[0m172      \u001b[0m | \u001b[0m-198.5   \u001b[0m | \u001b[0m18.58    \u001b[0m | \u001b[0m2.088    \u001b[0m | \u001b[0m-6.61    \u001b[0m |\n",
      "| \u001b[0m173      \u001b[0m | \u001b[0m-516.4   \u001b[0m | \u001b[0m20.0     \u001b[0m | \u001b[0m2.478    \u001b[0m | \u001b[0m-3.0     \u001b[0m |\n",
      "| \u001b[0m174      \u001b[0m | \u001b[0m-350.6   \u001b[0m | \u001b[0m11.81    \u001b[0m | \u001b[0m1.993    \u001b[0m | \u001b[0m-4.208   \u001b[0m |\n",
      "| \u001b[0m175      \u001b[0m | \u001b[0m-241.1   \u001b[0m | \u001b[0m17.46    \u001b[0m | \u001b[0m1.152    \u001b[0m | \u001b[0m-4.51    \u001b[0m |\n",
      "| \u001b[0m176      \u001b[0m | \u001b[0m-326.8   \u001b[0m | \u001b[0m11.71    \u001b[0m | \u001b[0m4.98     \u001b[0m | \u001b[0m-4.189   \u001b[0m |\n",
      "| \u001b[0m177      \u001b[0m | \u001b[0m-310.8   \u001b[0m | \u001b[0m14.73    \u001b[0m | \u001b[0m4.065    \u001b[0m | \u001b[0m-6.207   \u001b[0m |\n",
      "| \u001b[0m178      \u001b[0m | \u001b[0m-398.7   \u001b[0m | \u001b[0m7.748    \u001b[0m | \u001b[0m2.334    \u001b[0m | \u001b[0m-4.063   \u001b[0m |\n",
      "| \u001b[0m179      \u001b[0m | \u001b[0m-232.4   \u001b[0m | \u001b[0m18.14    \u001b[0m | \u001b[0m0.9142   \u001b[0m | \u001b[0m-5.489   \u001b[0m |\n",
      "| \u001b[0m180      \u001b[0m | \u001b[0m-175.8   \u001b[0m | \u001b[0m18.22    \u001b[0m | \u001b[0m3.186    \u001b[0m | \u001b[0m-8.105   \u001b[0m |\n",
      "| \u001b[0m181      \u001b[0m | \u001b[0m-350.0   \u001b[0m | \u001b[0m18.08    \u001b[0m | \u001b[0m3.888    \u001b[0m | \u001b[0m-7.699   \u001b[0m |\n",
      "| \u001b[0m182      \u001b[0m | \u001b[0m-221.2   \u001b[0m | \u001b[0m19.15    \u001b[0m | \u001b[0m3.115    \u001b[0m | \u001b[0m-7.485   \u001b[0m |\n",
      "| \u001b[0m183      \u001b[0m | \u001b[0m-467.9   \u001b[0m | \u001b[0m5.0      \u001b[0m | \u001b[0m3.264    \u001b[0m | \u001b[0m-4.352   \u001b[0m |\n",
      "| \u001b[0m184      \u001b[0m | \u001b[0m-342.0   \u001b[0m | \u001b[0m13.94    \u001b[0m | \u001b[0m3.897    \u001b[0m | \u001b[0m-4.161   \u001b[0m |\n",
      "| \u001b[0m185      \u001b[0m | \u001b[0m-332.1   \u001b[0m | \u001b[0m9.984    \u001b[0m | \u001b[0m3.983    \u001b[0m | \u001b[0m-3.952   \u001b[0m |\n",
      "| \u001b[0m186      \u001b[0m | \u001b[0m-318.2   \u001b[0m | \u001b[0m9.11     \u001b[0m | \u001b[0m3.296    \u001b[0m | \u001b[0m-3.0     \u001b[0m |\n",
      "| \u001b[0m187      \u001b[0m | \u001b[0m-554.8   \u001b[0m | \u001b[0m17.35    \u001b[0m | \u001b[0m0.2353   \u001b[0m | \u001b[0m-5.024   \u001b[0m |\n",
      "| \u001b[0m188      \u001b[0m | \u001b[0m-184.7   \u001b[0m | \u001b[0m16.16    \u001b[0m | \u001b[0m1.539    \u001b[0m | \u001b[0m-5.086   \u001b[0m |\n",
      "| \u001b[0m189      \u001b[0m | \u001b[0m-424.4   \u001b[0m | \u001b[0m9.449    \u001b[0m | \u001b[0m4.897    \u001b[0m | \u001b[0m-5.461   \u001b[0m |\n",
      "| \u001b[0m190      \u001b[0m | \u001b[0m-233.6   \u001b[0m | \u001b[0m16.38    \u001b[0m | \u001b[0m1.087    \u001b[0m | \u001b[0m-4.05    \u001b[0m |\n",
      "| \u001b[0m191      \u001b[0m | \u001b[0m-488.8   \u001b[0m | \u001b[0m18.4     \u001b[0m | \u001b[0m1.369    \u001b[0m | \u001b[0m-3.0     \u001b[0m |\n",
      "| \u001b[0m192      \u001b[0m | \u001b[0m-158.6   \u001b[0m | \u001b[0m15.92    \u001b[0m | \u001b[0m2.027    \u001b[0m | \u001b[0m-6.021   \u001b[0m |\n",
      "| \u001b[0m193      \u001b[0m | \u001b[0m-193.6   \u001b[0m | \u001b[0m18.39    \u001b[0m | \u001b[0m4.032    \u001b[0m | \u001b[0m-8.8     \u001b[0m |\n",
      "| \u001b[0m194      \u001b[0m | \u001b[0m-161.7   \u001b[0m | \u001b[0m18.09    \u001b[0m | \u001b[0m2.669    \u001b[0m | \u001b[0m-7.822   \u001b[0m |\n",
      "| \u001b[0m195      \u001b[0m | \u001b[0m-436.7   \u001b[0m | \u001b[0m17.72    \u001b[0m | \u001b[0m3.544    \u001b[0m | \u001b[0m-8.487   \u001b[0m |\n",
      "| \u001b[0m196      \u001b[0m | \u001b[0m-355.4   \u001b[0m | \u001b[0m18.71    \u001b[0m | \u001b[0m4.98     \u001b[0m | \u001b[0m-8.625   \u001b[0m |\n",
      "| \u001b[0m197      \u001b[0m | \u001b[0m-833.1   \u001b[0m | \u001b[0m17.14    \u001b[0m | \u001b[0m0.2      \u001b[0m | \u001b[0m-10.0    \u001b[0m |\n",
      "| \u001b[0m198      \u001b[0m | \u001b[0m-329.7   \u001b[0m | \u001b[0m14.48    \u001b[0m | \u001b[0m5.0      \u001b[0m | \u001b[0m-5.584   \u001b[0m |\n",
      "| \u001b[0m199      \u001b[0m | \u001b[0m-452.8   \u001b[0m | \u001b[0m14.54    \u001b[0m | \u001b[0m3.714    \u001b[0m | \u001b[0m-7.752   \u001b[0m |\n",
      "| \u001b[0m200      \u001b[0m | \u001b[0m-192.5   \u001b[0m | \u001b[0m18.6     \u001b[0m | \u001b[0m3.881    \u001b[0m | \u001b[0m-8.403   \u001b[0m |\n",
      "| \u001b[0m201      \u001b[0m | \u001b[0m-738.8   \u001b[0m | \u001b[0m12.9     \u001b[0m | \u001b[0m2.635    \u001b[0m | \u001b[0m-10.0    \u001b[0m |\n",
      "| \u001b[0m202      \u001b[0m | \u001b[0m-431.5   \u001b[0m | \u001b[0m20.0     \u001b[0m | \u001b[0m5.0      \u001b[0m | \u001b[0m-7.101   \u001b[0m |\n",
      "| \u001b[0m203      \u001b[0m | \u001b[0m-696.3   \u001b[0m | \u001b[0m12.38    \u001b[0m | \u001b[0m0.2268   \u001b[0m | \u001b[0m-7.278   \u001b[0m |\n",
      "| \u001b[0m204      \u001b[0m | \u001b[0m-377.3   \u001b[0m | \u001b[0m6.211    \u001b[0m | \u001b[0m3.977    \u001b[0m | \u001b[0m-3.043   \u001b[0m |\n",
      "| \u001b[0m205      \u001b[0m | \u001b[0m-381.4   \u001b[0m | \u001b[0m11.9     \u001b[0m | \u001b[0m2.987    \u001b[0m | \u001b[0m-5.407   \u001b[0m |\n",
      "| \u001b[0m206      \u001b[0m | \u001b[0m-407.7   \u001b[0m | \u001b[0m9.424    \u001b[0m | \u001b[0m1.32     \u001b[0m | \u001b[0m-4.147   \u001b[0m |\n",
      "| \u001b[0m207      \u001b[0m | \u001b[0m-408.8   \u001b[0m | \u001b[0m15.35    \u001b[0m | \u001b[0m1.293    \u001b[0m | \u001b[0m-3.187   \u001b[0m |\n",
      "| \u001b[0m208      \u001b[0m | \u001b[0m-456.5   \u001b[0m | \u001b[0m7.01     \u001b[0m | \u001b[0m3.758    \u001b[0m | \u001b[0m-4.893   \u001b[0m |\n",
      "| \u001b[0m209      \u001b[0m | \u001b[0m-148.9   \u001b[0m | \u001b[0m16.33    \u001b[0m | \u001b[0m2.171    \u001b[0m | \u001b[0m-6.573   \u001b[0m |\n",
      "| \u001b[0m210      \u001b[0m | \u001b[0m-196.1   \u001b[0m | \u001b[0m15.28    \u001b[0m | \u001b[0m1.963    \u001b[0m | \u001b[0m-4.805   \u001b[0m |\n",
      "| \u001b[0m211      \u001b[0m | \u001b[0m-178.1   \u001b[0m | \u001b[0m14.24    \u001b[0m | \u001b[0m1.781    \u001b[0m | \u001b[0m-4.604   \u001b[0m |\n",
      "| \u001b[0m212      \u001b[0m | \u001b[0m-341.0   \u001b[0m | \u001b[0m14.33    \u001b[0m | \u001b[0m2.463    \u001b[0m | \u001b[0m-4.632   \u001b[0m |\n",
      "| \u001b[0m213      \u001b[0m | \u001b[0m-183.6   \u001b[0m | \u001b[0m14.8     \u001b[0m | \u001b[0m1.342    \u001b[0m | \u001b[0m-4.407   \u001b[0m |\n",
      "| \u001b[0m214      \u001b[0m | \u001b[0m-188.3   \u001b[0m | \u001b[0m13.76    \u001b[0m | \u001b[0m1.616    \u001b[0m | \u001b[0m-4.109   \u001b[0m |\n",
      "| \u001b[0m215      \u001b[0m | \u001b[0m-163.1   \u001b[0m | \u001b[0m13.6     \u001b[0m | \u001b[0m1.479    \u001b[0m | \u001b[0m-4.635   \u001b[0m |\n",
      "| \u001b[0m216      \u001b[0m | \u001b[0m-193.0   \u001b[0m | \u001b[0m13.04    \u001b[0m | \u001b[0m1.608    \u001b[0m | \u001b[0m-4.121   \u001b[0m |\n",
      "| \u001b[95m217      \u001b[0m | \u001b[95m-134.7   \u001b[0m | \u001b[95m14.32    \u001b[0m | \u001b[95m1.41     \u001b[0m | \u001b[95m-5.01    \u001b[0m |\n",
      "| \u001b[0m218      \u001b[0m | \u001b[0m-163.2   \u001b[0m | \u001b[0m14.85    \u001b[0m | \u001b[0m1.428    \u001b[0m | \u001b[0m-4.913   \u001b[0m |\n",
      "| \u001b[0m219      \u001b[0m | \u001b[0m-140.2   \u001b[0m | \u001b[0m14.07    \u001b[0m | \u001b[0m1.135    \u001b[0m | \u001b[0m-4.493   \u001b[0m |\n",
      "| \u001b[0m220      \u001b[0m | \u001b[0m-142.3   \u001b[0m | \u001b[0m14.34    \u001b[0m | \u001b[0m1.105    \u001b[0m | \u001b[0m-4.754   \u001b[0m |\n",
      "| \u001b[0m221      \u001b[0m | \u001b[0m-162.5   \u001b[0m | \u001b[0m15.51    \u001b[0m | \u001b[0m1.697    \u001b[0m | \u001b[0m-5.406   \u001b[0m |\n",
      "| \u001b[0m222      \u001b[0m | \u001b[0m-839.5   \u001b[0m | \u001b[0m5.0      \u001b[0m | \u001b[0m0.2      \u001b[0m | \u001b[0m-10.0    \u001b[0m |\n",
      "| \u001b[0m223      \u001b[0m | \u001b[0m-471.0   \u001b[0m | \u001b[0m17.29    \u001b[0m | \u001b[0m4.925    \u001b[0m | \u001b[0m-9.811   \u001b[0m |\n",
      "| \u001b[0m224      \u001b[0m | \u001b[0m-664.7   \u001b[0m | \u001b[0m15.81    \u001b[0m | \u001b[0m3.284    \u001b[0m | \u001b[0m-10.0    \u001b[0m |\n",
      "| \u001b[95m225      \u001b[0m | \u001b[95m-134.5   \u001b[0m | \u001b[95m13.98    \u001b[0m | \u001b[95m1.274    \u001b[0m | \u001b[95m-4.696   \u001b[0m |\n",
      "| \u001b[0m226      \u001b[0m | \u001b[0m-319.5   \u001b[0m | \u001b[0m10.76    \u001b[0m | \u001b[0m2.476    \u001b[0m | \u001b[0m-3.01    \u001b[0m |\n",
      "| \u001b[0m227      \u001b[0m | \u001b[0m-172.4   \u001b[0m | \u001b[0m14.34    \u001b[0m | \u001b[0m1.381    \u001b[0m | \u001b[0m-4.616   \u001b[0m |\n",
      "| \u001b[0m228      \u001b[0m | \u001b[0m-429.2   \u001b[0m | \u001b[0m14.41    \u001b[0m | \u001b[0m1.166    \u001b[0m | \u001b[0m-5.388   \u001b[0m |\n",
      "| \u001b[0m229      \u001b[0m | \u001b[0m-207.9   \u001b[0m | \u001b[0m15.47    \u001b[0m | \u001b[0m0.7193   \u001b[0m | \u001b[0m-4.264   \u001b[0m |\n",
      "| \u001b[0m230      \u001b[0m | \u001b[0m-186.1   \u001b[0m | \u001b[0m15.38    \u001b[0m | \u001b[0m1.368    \u001b[0m | \u001b[0m-4.612   \u001b[0m |\n",
      "| \u001b[0m231      \u001b[0m | \u001b[0m-371.4   \u001b[0m | \u001b[0m13.98    \u001b[0m | \u001b[0m1.837    \u001b[0m | \u001b[0m-5.041   \u001b[0m |\n",
      "| \u001b[0m232      \u001b[0m | \u001b[0m-426.7   \u001b[0m | \u001b[0m13.2     \u001b[0m | \u001b[0m1.129    \u001b[0m | \u001b[0m-4.752   \u001b[0m |\n",
      "| \u001b[0m233      \u001b[0m | \u001b[0m-519.9   \u001b[0m | \u001b[0m10.6     \u001b[0m | \u001b[0m4.992    \u001b[0m | \u001b[0m-7.461   \u001b[0m |\n",
      "| \u001b[0m234      \u001b[0m | \u001b[0m-347.8   \u001b[0m | \u001b[0m13.08    \u001b[0m | \u001b[0m2.138    \u001b[0m | \u001b[0m-3.558   \u001b[0m |\n",
      "| \u001b[0m235      \u001b[0m | \u001b[0m-315.4   \u001b[0m | \u001b[0m16.2     \u001b[0m | \u001b[0m4.209    \u001b[0m | \u001b[0m-7.127   \u001b[0m |\n",
      "| \u001b[0m236      \u001b[0m | \u001b[0m-371.5   \u001b[0m | \u001b[0m16.81    \u001b[0m | \u001b[0m4.241    \u001b[0m | \u001b[0m-5.793   \u001b[0m |\n",
      "| \u001b[0m237      \u001b[0m | \u001b[0m-221.1   \u001b[0m | \u001b[0m11.81    \u001b[0m | \u001b[0m1.374    \u001b[0m | \u001b[0m-3.182   \u001b[0m |\n",
      "| \u001b[0m238      \u001b[0m | \u001b[0m-384.7   \u001b[0m | \u001b[0m11.07    \u001b[0m | \u001b[0m0.9494   \u001b[0m | \u001b[0m-3.628   \u001b[0m |\n",
      "| \u001b[0m239      \u001b[0m | \u001b[0m-379.0   \u001b[0m | \u001b[0m11.04    \u001b[0m | \u001b[0m5.0      \u001b[0m | \u001b[0m-5.526   \u001b[0m |\n",
      "| \u001b[0m240      \u001b[0m | \u001b[0m-197.2   \u001b[0m | \u001b[0m14.79    \u001b[0m | \u001b[0m0.7031   \u001b[0m | \u001b[0m-4.147   \u001b[0m |\n",
      "| \u001b[0m241      \u001b[0m | \u001b[0m-338.8   \u001b[0m | \u001b[0m12.47    \u001b[0m | \u001b[0m4.97     \u001b[0m | \u001b[0m-3.003   \u001b[0m |\n",
      "| \u001b[0m242      \u001b[0m | \u001b[0m-367.3   \u001b[0m | \u001b[0m9.104    \u001b[0m | \u001b[0m4.885    \u001b[0m | \u001b[0m-4.137   \u001b[0m |\n"
     ]
    },
    {
     "name": "stdout",
     "output_type": "stream",
     "text": [
      "| \u001b[0m243      \u001b[0m | \u001b[0m-210.1   \u001b[0m | \u001b[0m15.43    \u001b[0m | \u001b[0m2.551    \u001b[0m | \u001b[0m-5.518   \u001b[0m |\n",
      "| \u001b[0m244      \u001b[0m | \u001b[0m-494.0   \u001b[0m | \u001b[0m8.359    \u001b[0m | \u001b[0m0.2021   \u001b[0m | \u001b[0m-3.901   \u001b[0m |\n",
      "| \u001b[0m245      \u001b[0m | \u001b[0m-354.3   \u001b[0m | \u001b[0m9.531    \u001b[0m | \u001b[0m2.576    \u001b[0m | \u001b[0m-3.982   \u001b[0m |\n",
      "| \u001b[0m246      \u001b[0m | \u001b[0m-385.0   \u001b[0m | \u001b[0m5.763    \u001b[0m | \u001b[0m1.388    \u001b[0m | \u001b[0m-3.0     \u001b[0m |\n",
      "| \u001b[0m247      \u001b[0m | \u001b[0m-204.2   \u001b[0m | \u001b[0m12.47    \u001b[0m | \u001b[0m1.385    \u001b[0m | \u001b[0m-3.538   \u001b[0m |\n",
      "| \u001b[0m248      \u001b[0m | \u001b[0m-330.9   \u001b[0m | \u001b[0m13.31    \u001b[0m | \u001b[0m5.0      \u001b[0m | \u001b[0m-5.92    \u001b[0m |\n",
      "| \u001b[0m249      \u001b[0m | \u001b[0m-212.5   \u001b[0m | \u001b[0m17.76    \u001b[0m | \u001b[0m1.454    \u001b[0m | \u001b[0m-5.367   \u001b[0m |\n",
      "| \u001b[0m250      \u001b[0m | \u001b[0m-461.3   \u001b[0m | \u001b[0m16.46    \u001b[0m | \u001b[0m1.896    \u001b[0m | \u001b[0m-7.066   \u001b[0m |\n",
      "| \u001b[0m251      \u001b[0m | \u001b[0m-166.7   \u001b[0m | \u001b[0m15.91    \u001b[0m | \u001b[0m2.429    \u001b[0m | \u001b[0m-6.378   \u001b[0m |\n",
      "| \u001b[0m252      \u001b[0m | \u001b[0m-168.3   \u001b[0m | \u001b[0m16.39    \u001b[0m | \u001b[0m2.456    \u001b[0m | \u001b[0m-6.307   \u001b[0m |\n",
      "| \u001b[0m253      \u001b[0m | \u001b[0m-433.0   \u001b[0m | \u001b[0m6.387    \u001b[0m | \u001b[0m5.0      \u001b[0m | \u001b[0m-4.017   \u001b[0m |\n",
      "| \u001b[0m254      \u001b[0m | \u001b[0m-350.3   \u001b[0m | \u001b[0m8.289    \u001b[0m | \u001b[0m5.0      \u001b[0m | \u001b[0m-3.0     \u001b[0m |\n",
      "| \u001b[0m255      \u001b[0m | \u001b[0m-216.8   \u001b[0m | \u001b[0m19.66    \u001b[0m | \u001b[0m1.522    \u001b[0m | \u001b[0m-6.448   \u001b[0m |\n",
      "| \u001b[0m256      \u001b[0m | \u001b[0m-579.2   \u001b[0m | \u001b[0m16.78    \u001b[0m | \u001b[0m0.8388   \u001b[0m | \u001b[0m-6.345   \u001b[0m |\n",
      "| \u001b[0m257      \u001b[0m | \u001b[0m-351.9   \u001b[0m | \u001b[0m12.42    \u001b[0m | \u001b[0m1.436    \u001b[0m | \u001b[0m-3.0     \u001b[0m |\n",
      "| \u001b[0m258      \u001b[0m | \u001b[0m-175.7   \u001b[0m | \u001b[0m17.58    \u001b[0m | \u001b[0m2.51     \u001b[0m | \u001b[0m-6.793   \u001b[0m |\n",
      "| \u001b[0m259      \u001b[0m | \u001b[0m-405.4   \u001b[0m | \u001b[0m18.4     \u001b[0m | \u001b[0m5.0      \u001b[0m | \u001b[0m-6.107   \u001b[0m |\n",
      "| \u001b[0m260      \u001b[0m | \u001b[0m-604.2   \u001b[0m | \u001b[0m17.91    \u001b[0m | \u001b[0m1.464    \u001b[0m | \u001b[0m-7.685   \u001b[0m |\n",
      "| \u001b[0m261      \u001b[0m | \u001b[0m-221.8   \u001b[0m | \u001b[0m18.36    \u001b[0m | \u001b[0m1.152    \u001b[0m | \u001b[0m-6.403   \u001b[0m |\n",
      "| \u001b[0m262      \u001b[0m | \u001b[0m-173.9   \u001b[0m | \u001b[0m18.4     \u001b[0m | \u001b[0m1.961    \u001b[0m | \u001b[0m-7.035   \u001b[0m |\n",
      "| \u001b[0m263      \u001b[0m | \u001b[0m-148.2   \u001b[0m | \u001b[0m16.21    \u001b[0m | \u001b[0m1.765    \u001b[0m | \u001b[0m-6.287   \u001b[0m |\n",
      "| \u001b[0m264      \u001b[0m | \u001b[0m-403.8   \u001b[0m | \u001b[0m9.815    \u001b[0m | \u001b[0m3.437    \u001b[0m | \u001b[0m-5.151   \u001b[0m |\n",
      "| \u001b[0m265      \u001b[0m | \u001b[0m-397.3   \u001b[0m | \u001b[0m5.0      \u001b[0m | \u001b[0m3.689    \u001b[0m | \u001b[0m-3.0     \u001b[0m |\n",
      "| \u001b[0m266      \u001b[0m | \u001b[0m-320.4   \u001b[0m | \u001b[0m11.01    \u001b[0m | \u001b[0m4.145    \u001b[0m | \u001b[0m-4.044   \u001b[0m |\n",
      "| \u001b[0m267      \u001b[0m | \u001b[0m-322.7   \u001b[0m | \u001b[0m14.34    \u001b[0m | \u001b[0m3.699    \u001b[0m | \u001b[0m-5.385   \u001b[0m |\n",
      "| \u001b[0m268      \u001b[0m | \u001b[0m-426.1   \u001b[0m | \u001b[0m14.7     \u001b[0m | \u001b[0m4.948    \u001b[0m | \u001b[0m-8.109   \u001b[0m |\n",
      "| \u001b[0m269      \u001b[0m | \u001b[0m-343.6   \u001b[0m | \u001b[0m14.04    \u001b[0m | \u001b[0m5.0      \u001b[0m | \u001b[0m-4.226   \u001b[0m |\n",
      "| \u001b[0m270      \u001b[0m | \u001b[0m-316.9   \u001b[0m | \u001b[0m11.45    \u001b[0m | \u001b[0m1.899    \u001b[0m | \u001b[0m-3.359   \u001b[0m |\n",
      "| \u001b[0m271      \u001b[0m | \u001b[0m-391.1   \u001b[0m | \u001b[0m16.4     \u001b[0m | \u001b[0m3.72     \u001b[0m | \u001b[0m-4.384   \u001b[0m |\n",
      "| \u001b[0m272      \u001b[0m | \u001b[0m-577.0   \u001b[0m | \u001b[0m5.0      \u001b[0m | \u001b[0m3.412    \u001b[0m | \u001b[0m-6.076   \u001b[0m |\n",
      "| \u001b[0m273      \u001b[0m | \u001b[0m-183.0   \u001b[0m | \u001b[0m19.54    \u001b[0m | \u001b[0m3.045    \u001b[0m | \u001b[0m-9.057   \u001b[0m |\n",
      "| \u001b[0m274      \u001b[0m | \u001b[0m-374.4   \u001b[0m | \u001b[0m15.07    \u001b[0m | \u001b[0m3.117    \u001b[0m | \u001b[0m-6.46    \u001b[0m |\n",
      "| \u001b[0m275      \u001b[0m | \u001b[0m-600.0   \u001b[0m | \u001b[0m9.6      \u001b[0m | \u001b[0m0.2      \u001b[0m | \u001b[0m-5.532   \u001b[0m |\n",
      "| \u001b[0m276      \u001b[0m | \u001b[0m-427.8   \u001b[0m | \u001b[0m6.677    \u001b[0m | \u001b[0m0.2      \u001b[0m | \u001b[0m-3.0     \u001b[0m |\n",
      "| \u001b[0m277      \u001b[0m | \u001b[0m-384.7   \u001b[0m | \u001b[0m15.5     \u001b[0m | \u001b[0m0.227    \u001b[0m | \u001b[0m-3.695   \u001b[0m |\n",
      "| \u001b[0m278      \u001b[0m | \u001b[0m-364.6   \u001b[0m | \u001b[0m12.11    \u001b[0m | \u001b[0m1.099    \u001b[0m | \u001b[0m-3.779   \u001b[0m |\n",
      "| \u001b[0m279      \u001b[0m | \u001b[0m-208.2   \u001b[0m | \u001b[0m15.31    \u001b[0m | \u001b[0m1.308    \u001b[0m | \u001b[0m-4.066   \u001b[0m |\n",
      "| \u001b[0m280      \u001b[0m | \u001b[0m-197.5   \u001b[0m | \u001b[0m20.0     \u001b[0m | \u001b[0m4.042    \u001b[0m | \u001b[0m-9.572   \u001b[0m |\n",
      "| \u001b[0m281      \u001b[0m | \u001b[0m-358.8   \u001b[0m | \u001b[0m13.83    \u001b[0m | \u001b[0m4.037    \u001b[0m | \u001b[0m-3.042   \u001b[0m |\n",
      "| \u001b[0m282      \u001b[0m | \u001b[0m-791.3   \u001b[0m | \u001b[0m9.894    \u001b[0m | \u001b[0m1.742    \u001b[0m | \u001b[0m-9.995   \u001b[0m |\n",
      "| \u001b[0m283      \u001b[0m | \u001b[0m-417.7   \u001b[0m | \u001b[0m18.87    \u001b[0m | \u001b[0m3.073    \u001b[0m | \u001b[0m-6.373   \u001b[0m |\n",
      "| \u001b[0m284      \u001b[0m | \u001b[0m-307.0   \u001b[0m | \u001b[0m13.09    \u001b[0m | \u001b[0m3.324    \u001b[0m | \u001b[0m-4.975   \u001b[0m |\n",
      "| \u001b[0m285      \u001b[0m | \u001b[0m-434.6   \u001b[0m | \u001b[0m13.28    \u001b[0m | \u001b[0m3.998    \u001b[0m | \u001b[0m-7.178   \u001b[0m |\n",
      "| \u001b[0m286      \u001b[0m | \u001b[0m-212.5   \u001b[0m | \u001b[0m16.27    \u001b[0m | \u001b[0m0.8029   \u001b[0m | \u001b[0m-4.554   \u001b[0m |\n",
      "| \u001b[0m287      \u001b[0m | \u001b[0m-209.2   \u001b[0m | \u001b[0m18.82    \u001b[0m | \u001b[0m1.491    \u001b[0m | \u001b[0m-6.684   \u001b[0m |\n",
      "| \u001b[0m288      \u001b[0m | \u001b[0m-173.7   \u001b[0m | \u001b[0m14.67    \u001b[0m | \u001b[0m1.836    \u001b[0m | \u001b[0m-4.875   \u001b[0m |\n",
      "| \u001b[0m289      \u001b[0m | \u001b[0m-272.3   \u001b[0m | \u001b[0m12.5     \u001b[0m | \u001b[0m1.905    \u001b[0m | \u001b[0m-3.852   \u001b[0m |\n",
      "| \u001b[0m290      \u001b[0m | \u001b[0m-182.4   \u001b[0m | \u001b[0m13.56    \u001b[0m | \u001b[0m1.246    \u001b[0m | \u001b[0m-4.18    \u001b[0m |\n",
      "| \u001b[0m291      \u001b[0m | \u001b[0m-164.5   \u001b[0m | \u001b[0m17.6     \u001b[0m | \u001b[0m2.252    \u001b[0m | \u001b[0m-7.52    \u001b[0m |\n",
      "| \u001b[0m292      \u001b[0m | \u001b[0m-555.7   \u001b[0m | \u001b[0m5.011    \u001b[0m | \u001b[0m0.2139   \u001b[0m | \u001b[0m-4.742   \u001b[0m |\n",
      "| \u001b[0m293      \u001b[0m | \u001b[0m-397.9   \u001b[0m | \u001b[0m15.88    \u001b[0m | \u001b[0m5.0      \u001b[0m | \u001b[0m-3.0     \u001b[0m |\n",
      "| \u001b[0m294      \u001b[0m | \u001b[0m-440.7   \u001b[0m | \u001b[0m17.31    \u001b[0m | \u001b[0m3.186    \u001b[0m | \u001b[0m-3.015   \u001b[0m |\n",
      "| \u001b[0m295      \u001b[0m | \u001b[0m-343.9   \u001b[0m | \u001b[0m11.74    \u001b[0m | \u001b[0m4.12     \u001b[0m | \u001b[0m-5.23    \u001b[0m |\n",
      "| \u001b[0m296      \u001b[0m | \u001b[0m-253.8   \u001b[0m | \u001b[0m18.73    \u001b[0m | \u001b[0m1.312    \u001b[0m | \u001b[0m-5.105   \u001b[0m |\n",
      "| \u001b[0m297      \u001b[0m | \u001b[0m-459.4   \u001b[0m | \u001b[0m19.28    \u001b[0m | \u001b[0m4.922    \u001b[0m | \u001b[0m-4.336   \u001b[0m |\n",
      "| \u001b[0m298      \u001b[0m | \u001b[0m-320.9   \u001b[0m | \u001b[0m10.98    \u001b[0m | \u001b[0m3.895    \u001b[0m | \u001b[0m-3.0     \u001b[0m |\n",
      "| \u001b[0m299      \u001b[0m | \u001b[0m-407.5   \u001b[0m | \u001b[0m10.75    \u001b[0m | \u001b[0m2.205    \u001b[0m | \u001b[0m-5.002   \u001b[0m |\n",
      "| \u001b[0m300      \u001b[0m | \u001b[0m-175.7   \u001b[0m | \u001b[0m19.01    \u001b[0m | \u001b[0m3.268    \u001b[0m | \u001b[0m-8.908   \u001b[0m |\n",
      "| \u001b[0m301      \u001b[0m | \u001b[0m-834.8   \u001b[0m | \u001b[0m13.99    \u001b[0m | \u001b[0m0.2      \u001b[0m | \u001b[0m-10.0    \u001b[0m |\n",
      "| \u001b[0m302      \u001b[0m | \u001b[0m-330.4   \u001b[0m | \u001b[0m12.78    \u001b[0m | \u001b[0m4.225    \u001b[0m | \u001b[0m-3.76    \u001b[0m |\n",
      "| \u001b[0m303      \u001b[0m | \u001b[0m-193.1   \u001b[0m | \u001b[0m18.96    \u001b[0m | \u001b[0m1.945    \u001b[0m | \u001b[0m-7.557   \u001b[0m |\n",
      "| \u001b[0m304      \u001b[0m | \u001b[0m-311.7   \u001b[0m | \u001b[0m17.05    \u001b[0m | \u001b[0m4.148    \u001b[0m | \u001b[0m-7.65    \u001b[0m |\n",
      "| \u001b[0m305      \u001b[0m | \u001b[0m-352.8   \u001b[0m | \u001b[0m8.79     \u001b[0m | \u001b[0m1.25     \u001b[0m | \u001b[0m-3.0     \u001b[0m |\n",
      "| \u001b[0m306      \u001b[0m | \u001b[0m-191.7   \u001b[0m | \u001b[0m13.42    \u001b[0m | \u001b[0m1.878    \u001b[0m | \u001b[0m-4.37    \u001b[0m |\n",
      "| \u001b[0m307      \u001b[0m | \u001b[0m-170.3   \u001b[0m | \u001b[0m15.35    \u001b[0m | \u001b[0m2.039    \u001b[0m | \u001b[0m-5.369   \u001b[0m |\n",
      "| \u001b[0m308      \u001b[0m | \u001b[0m-373.1   \u001b[0m | \u001b[0m7.833    \u001b[0m | \u001b[0m4.084    \u001b[0m | \u001b[0m-3.75    \u001b[0m |\n",
      "| \u001b[0m309      \u001b[0m | \u001b[0m-169.2   \u001b[0m | \u001b[0m17.2     \u001b[0m | \u001b[0m1.485    \u001b[0m | \u001b[0m-5.766   \u001b[0m |\n",
      "| \u001b[0m310      \u001b[0m | \u001b[0m-221.6   \u001b[0m | \u001b[0m11.3     \u001b[0m | \u001b[0m1.017    \u001b[0m | \u001b[0m-3.0     \u001b[0m |\n",
      "| \u001b[0m311      \u001b[0m | \u001b[0m-165.4   \u001b[0m | \u001b[0m16.85    \u001b[0m | \u001b[0m1.57     \u001b[0m | \u001b[0m-6.504   \u001b[0m |\n",
      "| \u001b[0m312      \u001b[0m | \u001b[0m-157.9   \u001b[0m | \u001b[0m16.23    \u001b[0m | \u001b[0m2.148    \u001b[0m | \u001b[0m-6.299   \u001b[0m |\n",
      "| \u001b[0m313      \u001b[0m | \u001b[0m-174.4   \u001b[0m | \u001b[0m16.44    \u001b[0m | \u001b[0m2.894    \u001b[0m | \u001b[0m-6.824   \u001b[0m |\n",
      "| \u001b[0m314      \u001b[0m | \u001b[0m-296.6   \u001b[0m | \u001b[0m16.95    \u001b[0m | \u001b[0m3.082    \u001b[0m | \u001b[0m-6.626   \u001b[0m |\n",
      "| \u001b[0m315      \u001b[0m | \u001b[0m-387.5   \u001b[0m | \u001b[0m15.88    \u001b[0m | \u001b[0m3.15     \u001b[0m | \u001b[0m-6.927   \u001b[0m |\n",
      "| \u001b[0m316      \u001b[0m | \u001b[0m-375.7   \u001b[0m | \u001b[0m15.77    \u001b[0m | \u001b[0m2.64     \u001b[0m | \u001b[0m-4.703   \u001b[0m |\n",
      "| \u001b[0m317      \u001b[0m | \u001b[0m-165.5   \u001b[0m | \u001b[0m16.62    \u001b[0m | \u001b[0m2.524    \u001b[0m | \u001b[0m-6.708   \u001b[0m |\n",
      "| \u001b[0m318      \u001b[0m | \u001b[0m-167.1   \u001b[0m | \u001b[0m15.5     \u001b[0m | \u001b[0m2.238    \u001b[0m | \u001b[0m-5.953   \u001b[0m |\n",
      "| \u001b[0m319      \u001b[0m | \u001b[0m-168.2   \u001b[0m | \u001b[0m15.73    \u001b[0m | \u001b[0m2.059    \u001b[0m | \u001b[0m-5.611   \u001b[0m |\n",
      "| \u001b[0m320      \u001b[0m | \u001b[0m-166.7   \u001b[0m | \u001b[0m15.8     \u001b[0m | \u001b[0m1.491    \u001b[0m | \u001b[0m-5.995   \u001b[0m |\n",
      "| \u001b[0m321      \u001b[0m | \u001b[0m-483.3   \u001b[0m | \u001b[0m8.139    \u001b[0m | \u001b[0m2.983    \u001b[0m | \u001b[0m-5.594   \u001b[0m |\n",
      "| \u001b[0m322      \u001b[0m | \u001b[0m-351.7   \u001b[0m | \u001b[0m15.22    \u001b[0m | \u001b[0m4.562    \u001b[0m | \u001b[0m-4.953   \u001b[0m |\n",
      "| \u001b[0m323      \u001b[0m | \u001b[0m-184.7   \u001b[0m | \u001b[0m18.94    \u001b[0m | \u001b[0m3.364    \u001b[0m | \u001b[0m-8.346   \u001b[0m |\n"
     ]
    },
    {
     "name": "stdout",
     "output_type": "stream",
     "text": [
      "| \u001b[0m324      \u001b[0m | \u001b[0m-343.2   \u001b[0m | \u001b[0m16.26    \u001b[0m | \u001b[0m5.0      \u001b[0m | \u001b[0m-6.541   \u001b[0m |\n",
      "| \u001b[0m325      \u001b[0m | \u001b[0m-198.7   \u001b[0m | \u001b[0m19.94    \u001b[0m | \u001b[0m3.082    \u001b[0m | \u001b[0m-8.629   \u001b[0m |\n",
      "| \u001b[0m326      \u001b[0m | \u001b[0m-223.2   \u001b[0m | \u001b[0m16.65    \u001b[0m | \u001b[0m1.215    \u001b[0m | \u001b[0m-4.392   \u001b[0m |\n",
      "| \u001b[0m327      \u001b[0m | \u001b[0m-202.0   \u001b[0m | \u001b[0m14.33    \u001b[0m | \u001b[0m0.983    \u001b[0m | \u001b[0m-3.839   \u001b[0m |\n",
      "| \u001b[0m328      \u001b[0m | \u001b[0m-432.9   \u001b[0m | \u001b[0m15.7     \u001b[0m | \u001b[0m1.82     \u001b[0m | \u001b[0m-6.274   \u001b[0m |\n",
      "| \u001b[0m329      \u001b[0m | \u001b[0m-568.5   \u001b[0m | \u001b[0m13.89    \u001b[0m | \u001b[0m2.193    \u001b[0m | \u001b[0m-7.62    \u001b[0m |\n",
      "| \u001b[0m330      \u001b[0m | \u001b[0m-135.8   \u001b[0m | \u001b[0m16.2     \u001b[0m | \u001b[0m1.211    \u001b[0m | \u001b[0m-5.857   \u001b[0m |\n",
      "| \u001b[0m331      \u001b[0m | \u001b[0m-149.6   \u001b[0m | \u001b[0m16.32    \u001b[0m | \u001b[0m1.683    \u001b[0m | \u001b[0m-6.076   \u001b[0m |\n",
      "| \u001b[0m332      \u001b[0m | \u001b[0m-177.7   \u001b[0m | \u001b[0m15.92    \u001b[0m | \u001b[0m2.378    \u001b[0m | \u001b[0m-5.718   \u001b[0m |\n",
      "| \u001b[0m333      \u001b[0m | \u001b[0m-160.5   \u001b[0m | \u001b[0m15.91    \u001b[0m | \u001b[0m1.343    \u001b[0m | \u001b[0m-5.688   \u001b[0m |\n",
      "| \u001b[0m334      \u001b[0m | \u001b[0m-427.6   \u001b[0m | \u001b[0m17.89    \u001b[0m | \u001b[0m3.761    \u001b[0m | \u001b[0m-4.411   \u001b[0m |\n",
      "| \u001b[0m335      \u001b[0m | \u001b[0m-704.0   \u001b[0m | \u001b[0m14.65    \u001b[0m | \u001b[0m0.2142   \u001b[0m | \u001b[0m-7.44    \u001b[0m |\n",
      "| \u001b[0m336      \u001b[0m | \u001b[0m-831.5   \u001b[0m | \u001b[0m20.0     \u001b[0m | \u001b[0m0.2      \u001b[0m | \u001b[0m-10.0    \u001b[0m |\n",
      "| \u001b[0m337      \u001b[0m | \u001b[0m-135.2   \u001b[0m | \u001b[0m16.12    \u001b[0m | \u001b[0m1.411    \u001b[0m | \u001b[0m-6.178   \u001b[0m |\n",
      "| \u001b[0m338      \u001b[0m | \u001b[0m-328.1   \u001b[0m | \u001b[0m10.95    \u001b[0m | \u001b[0m5.0      \u001b[0m | \u001b[0m-3.57    \u001b[0m |\n",
      "| \u001b[0m339      \u001b[0m | \u001b[0m-373.0   \u001b[0m | \u001b[0m15.19    \u001b[0m | \u001b[0m3.739    \u001b[0m | \u001b[0m-3.872   \u001b[0m |\n",
      "| \u001b[0m340      \u001b[0m | \u001b[0m-436.7   \u001b[0m | \u001b[0m6.336    \u001b[0m | \u001b[0m1.908    \u001b[0m | \u001b[0m-4.173   \u001b[0m |\n",
      "| \u001b[0m341      \u001b[0m | \u001b[0m-308.1   \u001b[0m | \u001b[0m11.92    \u001b[0m | \u001b[0m3.073    \u001b[0m | \u001b[0m-4.286   \u001b[0m |\n",
      "| \u001b[0m342      \u001b[0m | \u001b[0m-175.0   \u001b[0m | \u001b[0m15.7     \u001b[0m | \u001b[0m2.607    \u001b[0m | \u001b[0m-6.061   \u001b[0m |\n",
      "| \u001b[0m343      \u001b[0m | \u001b[0m-647.6   \u001b[0m | \u001b[0m5.0      \u001b[0m | \u001b[0m5.0      \u001b[0m | \u001b[0m-7.288   \u001b[0m |\n",
      "| \u001b[0m344      \u001b[0m | \u001b[0m-592.6   \u001b[0m | \u001b[0m19.2     \u001b[0m | \u001b[0m0.222    \u001b[0m | \u001b[0m-4.061   \u001b[0m |\n",
      "| \u001b[0m345      \u001b[0m | \u001b[0m-185.7   \u001b[0m | \u001b[0m18.74    \u001b[0m | \u001b[0m3.706    \u001b[0m | \u001b[0m-9.028   \u001b[0m |\n",
      "| \u001b[0m346      \u001b[0m | \u001b[0m-320.6   \u001b[0m | \u001b[0m9.754    \u001b[0m | \u001b[0m4.088    \u001b[0m | \u001b[0m-3.025   \u001b[0m |\n",
      "| \u001b[0m347      \u001b[0m | \u001b[0m-187.7   \u001b[0m | \u001b[0m17.16    \u001b[0m | \u001b[0m2.284    \u001b[0m | \u001b[0m-5.902   \u001b[0m |\n",
      "| \u001b[0m348      \u001b[0m | \u001b[0m-256.9   \u001b[0m | \u001b[0m19.94    \u001b[0m | \u001b[0m1.594    \u001b[0m | \u001b[0m-5.856   \u001b[0m |\n",
      "| \u001b[0m349      \u001b[0m | \u001b[0m-428.3   \u001b[0m | \u001b[0m20.0     \u001b[0m | \u001b[0m3.633    \u001b[0m | \u001b[0m-7.36    \u001b[0m |\n",
      "| \u001b[0m350      \u001b[0m | \u001b[0m-392.9   \u001b[0m | \u001b[0m12.26    \u001b[0m | \u001b[0m4.069    \u001b[0m | \u001b[0m-6.199   \u001b[0m |\n",
      "| \u001b[0m351      \u001b[0m | \u001b[0m-324.1   \u001b[0m | \u001b[0m16.56    \u001b[0m | \u001b[0m5.0      \u001b[0m | \u001b[0m-7.604   \u001b[0m |\n",
      "| \u001b[0m352      \u001b[0m | \u001b[0m-339.6   \u001b[0m | \u001b[0m7.734    \u001b[0m | \u001b[0m2.407    \u001b[0m | \u001b[0m-3.0     \u001b[0m |\n",
      "| \u001b[0m353      \u001b[0m | \u001b[0m-395.1   \u001b[0m | \u001b[0m19.99    \u001b[0m | \u001b[0m4.944    \u001b[0m | \u001b[0m-8.745   \u001b[0m |\n",
      "| \u001b[0m354      \u001b[0m | \u001b[0m-196.9   \u001b[0m | \u001b[0m19.44    \u001b[0m | \u001b[0m2.727    \u001b[0m | \u001b[0m-7.856   \u001b[0m |\n",
      "| \u001b[0m355      \u001b[0m | \u001b[0m-202.2   \u001b[0m | \u001b[0m19.93    \u001b[0m | \u001b[0m2.235    \u001b[0m | \u001b[0m-7.707   \u001b[0m |\n",
      "| \u001b[0m356      \u001b[0m | \u001b[0m-233.2   \u001b[0m | \u001b[0m18.01    \u001b[0m | \u001b[0m1.003    \u001b[0m | \u001b[0m-4.893   \u001b[0m |\n",
      "| \u001b[0m357      \u001b[0m | \u001b[0m-180.0   \u001b[0m | \u001b[0m17.24    \u001b[0m | \u001b[0m1.488    \u001b[0m | \u001b[0m-6.814   \u001b[0m |\n",
      "| \u001b[0m358      \u001b[0m | \u001b[0m-705.3   \u001b[0m | \u001b[0m10.23    \u001b[0m | \u001b[0m5.0      \u001b[0m | \u001b[0m-10.0    \u001b[0m |\n",
      "| \u001b[0m359      \u001b[0m | \u001b[0m-335.5   \u001b[0m | \u001b[0m9.346    \u001b[0m | \u001b[0m5.0      \u001b[0m | \u001b[0m-3.0     \u001b[0m |\n",
      "| \u001b[0m360      \u001b[0m | \u001b[0m-457.0   \u001b[0m | \u001b[0m10.89    \u001b[0m | \u001b[0m0.2      \u001b[0m | \u001b[0m-3.0     \u001b[0m |\n",
      "| \u001b[0m361      \u001b[0m | \u001b[0m-188.5   \u001b[0m | \u001b[0m17.85    \u001b[0m | \u001b[0m1.266    \u001b[0m | \u001b[0m-6.46    \u001b[0m |\n",
      "| \u001b[0m362      \u001b[0m | \u001b[0m-470.0   \u001b[0m | \u001b[0m12.95    \u001b[0m | \u001b[0m4.975    \u001b[0m | \u001b[0m-7.886   \u001b[0m |\n",
      "| \u001b[0m363      \u001b[0m | \u001b[0m-439.0   \u001b[0m | \u001b[0m5.0      \u001b[0m | \u001b[0m1.62     \u001b[0m | \u001b[0m-3.818   \u001b[0m |\n",
      "| \u001b[0m364      \u001b[0m | \u001b[0m-200.4   \u001b[0m | \u001b[0m18.35    \u001b[0m | \u001b[0m1.353    \u001b[0m | \u001b[0m-5.766   \u001b[0m |\n",
      "| \u001b[0m365      \u001b[0m | \u001b[0m-197.3   \u001b[0m | \u001b[0m19.07    \u001b[0m | \u001b[0m4.22     \u001b[0m | \u001b[0m-9.019   \u001b[0m |\n",
      "| \u001b[0m366      \u001b[0m | \u001b[0m-321.1   \u001b[0m | \u001b[0m11.96    \u001b[0m | \u001b[0m3.74     \u001b[0m | \u001b[0m-3.653   \u001b[0m |\n",
      "| \u001b[0m367      \u001b[0m | \u001b[0m-197.2   \u001b[0m | \u001b[0m12.97    \u001b[0m | \u001b[0m1.262    \u001b[0m | \u001b[0m-3.653   \u001b[0m |\n",
      "| \u001b[0m368      \u001b[0m | \u001b[0m-323.2   \u001b[0m | \u001b[0m14.91    \u001b[0m | \u001b[0m5.0      \u001b[0m | \u001b[0m-6.406   \u001b[0m |\n",
      "| \u001b[0m369      \u001b[0m | \u001b[0m-210.1   \u001b[0m | \u001b[0m15.86    \u001b[0m | \u001b[0m1.092    \u001b[0m | \u001b[0m-4.319   \u001b[0m |\n",
      "| \u001b[0m370      \u001b[0m | \u001b[0m-180.3   \u001b[0m | \u001b[0m13.83    \u001b[0m | \u001b[0m1.465    \u001b[0m | \u001b[0m-4.445   \u001b[0m |\n",
      "| \u001b[0m371      \u001b[0m | \u001b[0m-324.1   \u001b[0m | \u001b[0m13.85    \u001b[0m | \u001b[0m4.376    \u001b[0m | \u001b[0m-6.145   \u001b[0m |\n",
      "| \u001b[0m372      \u001b[0m | \u001b[0m-166.9   \u001b[0m | \u001b[0m17.35    \u001b[0m | \u001b[0m2.213    \u001b[0m | \u001b[0m-6.705   \u001b[0m |\n",
      "| \u001b[0m373      \u001b[0m | \u001b[0m-381.8   \u001b[0m | \u001b[0m17.22    \u001b[0m | \u001b[0m4.995    \u001b[0m | \u001b[0m-5.755   \u001b[0m |\n",
      "| \u001b[0m374      \u001b[0m | \u001b[0m-658.5   \u001b[0m | \u001b[0m7.321    \u001b[0m | \u001b[0m5.0      \u001b[0m | \u001b[0m-8.272   \u001b[0m |\n",
      "| \u001b[0m375      \u001b[0m | \u001b[0m-182.9   \u001b[0m | \u001b[0m18.18    \u001b[0m | \u001b[0m2.651    \u001b[0m | \u001b[0m-7.042   \u001b[0m |\n",
      "| \u001b[0m376      \u001b[0m | \u001b[0m-403.5   \u001b[0m | \u001b[0m15.85    \u001b[0m | \u001b[0m3.585    \u001b[0m | \u001b[0m-3.0     \u001b[0m |\n",
      "| \u001b[0m377      \u001b[0m | \u001b[0m-381.0   \u001b[0m | \u001b[0m16.92    \u001b[0m | \u001b[0m2.85     \u001b[0m | \u001b[0m-5.614   \u001b[0m |\n",
      "| \u001b[0m378      \u001b[0m | \u001b[0m-373.9   \u001b[0m | \u001b[0m14.19    \u001b[0m | \u001b[0m1.65     \u001b[0m | \u001b[0m-3.492   \u001b[0m |\n",
      "| \u001b[0m379      \u001b[0m | \u001b[0m-168.7   \u001b[0m | \u001b[0m16.32    \u001b[0m | \u001b[0m2.629    \u001b[0m | \u001b[0m-6.665   \u001b[0m |\n",
      "| \u001b[0m380      \u001b[0m | \u001b[0m-367.6   \u001b[0m | \u001b[0m14.51    \u001b[0m | \u001b[0m4.961    \u001b[0m | \u001b[0m-3.163   \u001b[0m |\n",
      "| \u001b[0m381      \u001b[0m | \u001b[0m-185.6   \u001b[0m | \u001b[0m15.77    \u001b[0m | \u001b[0m1.695    \u001b[0m | \u001b[0m-4.898   \u001b[0m |\n",
      "| \u001b[0m382      \u001b[0m | \u001b[0m-147.3   \u001b[0m | \u001b[0m16.55    \u001b[0m | \u001b[0m2.007    \u001b[0m | \u001b[0m-6.471   \u001b[0m |\n",
      "| \u001b[0m383      \u001b[0m | \u001b[0m-165.5   \u001b[0m | \u001b[0m17.7     \u001b[0m | \u001b[0m2.078    \u001b[0m | \u001b[0m-7.241   \u001b[0m |\n",
      "| \u001b[0m384      \u001b[0m | \u001b[0m-173.6   \u001b[0m | \u001b[0m17.8     \u001b[0m | \u001b[0m2.791    \u001b[0m | \u001b[0m-7.326   \u001b[0m |\n",
      "| \u001b[0m385      \u001b[0m | \u001b[0m-466.2   \u001b[0m | \u001b[0m18.7     \u001b[0m | \u001b[0m2.108    \u001b[0m | \u001b[0m-4.132   \u001b[0m |\n",
      "| \u001b[0m386      \u001b[0m | \u001b[0m-475.5   \u001b[0m | \u001b[0m11.56    \u001b[0m | \u001b[0m1.832    \u001b[0m | \u001b[0m-6.106   \u001b[0m |\n",
      "| \u001b[0m387      \u001b[0m | \u001b[0m-354.6   \u001b[0m | \u001b[0m12.53    \u001b[0m | \u001b[0m2.375    \u001b[0m | \u001b[0m-4.793   \u001b[0m |\n",
      "| \u001b[0m388      \u001b[0m | \u001b[0m-170.7   \u001b[0m | \u001b[0m16.07    \u001b[0m | \u001b[0m1.365    \u001b[0m | \u001b[0m-5.926   \u001b[0m |\n",
      "| \u001b[0m389      \u001b[0m | \u001b[0m-178.6   \u001b[0m | \u001b[0m16.48    \u001b[0m | \u001b[0m1.169    \u001b[0m | \u001b[0m-5.415   \u001b[0m |\n",
      "| \u001b[0m390      \u001b[0m | \u001b[0m-556.2   \u001b[0m | \u001b[0m15.92    \u001b[0m | \u001b[0m1.03     \u001b[0m | \u001b[0m-6.351   \u001b[0m |\n",
      "| \u001b[0m391      \u001b[0m | \u001b[0m-679.8   \u001b[0m | \u001b[0m11.34    \u001b[0m | \u001b[0m1.966    \u001b[0m | \u001b[0m-8.352   \u001b[0m |\n",
      "| \u001b[0m392      \u001b[0m | \u001b[0m-187.0   \u001b[0m | \u001b[0m19.57    \u001b[0m | \u001b[0m1.806    \u001b[0m | \u001b[0m-7.677   \u001b[0m |\n",
      "| \u001b[95m393      \u001b[0m | \u001b[95m-131.3   \u001b[0m | \u001b[95m16.43    \u001b[0m | \u001b[95m1.37     \u001b[0m | \u001b[95m-6.199   \u001b[0m |\n",
      "| \u001b[0m394      \u001b[0m | \u001b[0m-312.6   \u001b[0m | \u001b[0m9.741    \u001b[0m | \u001b[0m2.633    \u001b[0m | \u001b[0m-3.0     \u001b[0m |\n",
      "| \u001b[0m395      \u001b[0m | \u001b[0m-182.8   \u001b[0m | \u001b[0m18.57    \u001b[0m | \u001b[0m2.941    \u001b[0m | \u001b[0m-7.654   \u001b[0m |\n",
      "| \u001b[0m396      \u001b[0m | \u001b[0m-317.9   \u001b[0m | \u001b[0m12.8     \u001b[0m | \u001b[0m4.302    \u001b[0m | \u001b[0m-5.191   \u001b[0m |\n",
      "| \u001b[0m397      \u001b[0m | \u001b[0m-163.1   \u001b[0m | \u001b[0m17.21    \u001b[0m | \u001b[0m1.875    \u001b[0m | \u001b[0m-7.388   \u001b[0m |\n",
      "| \u001b[0m398      \u001b[0m | \u001b[0m-212.9   \u001b[0m | \u001b[0m17.26    \u001b[0m | \u001b[0m1.533    \u001b[0m | \u001b[0m-4.997   \u001b[0m |\n",
      "| \u001b[0m399      \u001b[0m | \u001b[0m-801.5   \u001b[0m | \u001b[0m5.035    \u001b[0m | \u001b[0m2.94     \u001b[0m | \u001b[0m-9.985   \u001b[0m |\n",
      "| \u001b[0m400      \u001b[0m | \u001b[0m-199.3   \u001b[0m | \u001b[0m20.0     \u001b[0m | \u001b[0m4.228    \u001b[0m | \u001b[0m-10.0    \u001b[0m |\n",
      "| \u001b[0m401      \u001b[0m | \u001b[0m-318.5   \u001b[0m | \u001b[0m10.4     \u001b[0m | \u001b[0m3.181    \u001b[0m | \u001b[0m-3.832   \u001b[0m |\n",
      "| \u001b[0m402      \u001b[0m | \u001b[0m-493.0   \u001b[0m | \u001b[0m6.902    \u001b[0m | \u001b[0m5.0      \u001b[0m | \u001b[0m-5.379   \u001b[0m |\n",
      "| \u001b[0m403      \u001b[0m | \u001b[0m-348.6   \u001b[0m | \u001b[0m8.412    \u001b[0m | \u001b[0m3.054    \u001b[0m | \u001b[0m-3.567   \u001b[0m |\n",
      "| \u001b[0m404      \u001b[0m | \u001b[0m-436.5   \u001b[0m | \u001b[0m16.53    \u001b[0m | \u001b[0m1.793    \u001b[0m | \u001b[0m-3.004   \u001b[0m |\n"
     ]
    },
    {
     "name": "stdout",
     "output_type": "stream",
     "text": [
      "| \u001b[0m405      \u001b[0m | \u001b[0m-187.6   \u001b[0m | \u001b[0m17.92    \u001b[0m | \u001b[0m2.321    \u001b[0m | \u001b[0m-6.416   \u001b[0m |\n",
      "| \u001b[0m406      \u001b[0m | \u001b[0m-579.1   \u001b[0m | \u001b[0m6.915    \u001b[0m | \u001b[0m3.191    \u001b[0m | \u001b[0m-6.589   \u001b[0m |\n",
      "| \u001b[0m407      \u001b[0m | \u001b[0m-217.3   \u001b[0m | \u001b[0m19.57    \u001b[0m | \u001b[0m1.903    \u001b[0m | \u001b[0m-6.846   \u001b[0m |\n",
      "| \u001b[0m408      \u001b[0m | \u001b[0m-412.9   \u001b[0m | \u001b[0m17.2     \u001b[0m | \u001b[0m5.0      \u001b[0m | \u001b[0m-3.94    \u001b[0m |\n",
      "| \u001b[0m409      \u001b[0m | \u001b[0m-339.8   \u001b[0m | \u001b[0m15.71    \u001b[0m | \u001b[0m4.26     \u001b[0m | \u001b[0m-6.007   \u001b[0m |\n",
      "| \u001b[0m410      \u001b[0m | \u001b[0m-202.6   \u001b[0m | \u001b[0m16.53    \u001b[0m | \u001b[0m1.936    \u001b[0m | \u001b[0m-5.092   \u001b[0m |\n",
      "| \u001b[0m411      \u001b[0m | \u001b[0m-148.9   \u001b[0m | \u001b[0m14.25    \u001b[0m | \u001b[0m0.9028   \u001b[0m | \u001b[0m-4.372   \u001b[0m |\n",
      "| \u001b[0m412      \u001b[0m | \u001b[0m-393.1   \u001b[0m | \u001b[0m16.43    \u001b[0m | \u001b[0m0.2372   \u001b[0m | \u001b[0m-4.159   \u001b[0m |\n",
      "| \u001b[0m413      \u001b[0m | \u001b[0m-291.1   \u001b[0m | \u001b[0m17.82    \u001b[0m | \u001b[0m1.131    \u001b[0m | \u001b[0m-3.87    \u001b[0m |\n",
      "| \u001b[0m414      \u001b[0m | \u001b[0m-243.1   \u001b[0m | \u001b[0m19.29    \u001b[0m | \u001b[0m1.741    \u001b[0m | \u001b[0m-5.551   \u001b[0m |\n",
      "| \u001b[0m415      \u001b[0m | \u001b[0m-487.4   \u001b[0m | \u001b[0m19.95    \u001b[0m | \u001b[0m3.899    \u001b[0m | \u001b[0m-4.025   \u001b[0m |\n",
      "| \u001b[0m416      \u001b[0m | \u001b[0m-211.3   \u001b[0m | \u001b[0m19.64    \u001b[0m | \u001b[0m2.038    \u001b[0m | \u001b[0m-8.403   \u001b[0m |\n",
      "| \u001b[0m417      \u001b[0m | \u001b[0m-164.0   \u001b[0m | \u001b[0m14.9     \u001b[0m | \u001b[0m0.9453   \u001b[0m | \u001b[0m-4.548   \u001b[0m |\n",
      "| \u001b[0m418      \u001b[0m | \u001b[0m-178.8   \u001b[0m | \u001b[0m16.41    \u001b[0m | \u001b[0m1.243    \u001b[0m | \u001b[0m-5.773   \u001b[0m |\n",
      "| \u001b[0m419      \u001b[0m | \u001b[0m-153.5   \u001b[0m | \u001b[0m16.29    \u001b[0m | \u001b[0m0.8539   \u001b[0m | \u001b[0m-5.25    \u001b[0m |\n",
      "| \u001b[0m420      \u001b[0m | \u001b[0m-192.9   \u001b[0m | \u001b[0m16.05    \u001b[0m | \u001b[0m0.9854   \u001b[0m | \u001b[0m-5.144   \u001b[0m |\n",
      "| \u001b[0m421      \u001b[0m | \u001b[0m-171.4   \u001b[0m | \u001b[0m17.16    \u001b[0m | \u001b[0m1.51     \u001b[0m | \u001b[0m-6.12    \u001b[0m |\n",
      "| \u001b[0m422      \u001b[0m | \u001b[0m-167.0   \u001b[0m | \u001b[0m16.38    \u001b[0m | \u001b[0m1.561    \u001b[0m | \u001b[0m-6.312   \u001b[0m |\n",
      "| \u001b[0m423      \u001b[0m | \u001b[0m-787.6   \u001b[0m | \u001b[0m7.813    \u001b[0m | \u001b[0m2.34     \u001b[0m | \u001b[0m-9.959   \u001b[0m |\n",
      "| \u001b[0m424      \u001b[0m | \u001b[0m-702.0   \u001b[0m | \u001b[0m17.39    \u001b[0m | \u001b[0m2.44     \u001b[0m | \u001b[0m-10.0    \u001b[0m |\n",
      "| \u001b[0m425      \u001b[0m | \u001b[0m-520.3   \u001b[0m | \u001b[0m11.77    \u001b[0m | \u001b[0m3.964    \u001b[0m | \u001b[0m-7.678   \u001b[0m |\n",
      "| \u001b[0m426      \u001b[0m | \u001b[0m-195.6   \u001b[0m | \u001b[0m13.36    \u001b[0m | \u001b[0m1.523    \u001b[0m | \u001b[0m-3.819   \u001b[0m |\n",
      "| \u001b[0m427      \u001b[0m | \u001b[0m-372.9   \u001b[0m | \u001b[0m10.56    \u001b[0m | \u001b[0m4.174    \u001b[0m | \u001b[0m-5.125   \u001b[0m |\n",
      "| \u001b[0m428      \u001b[0m | \u001b[0m-385.0   \u001b[0m | \u001b[0m8.514    \u001b[0m | \u001b[0m1.761    \u001b[0m | \u001b[0m-3.812   \u001b[0m |\n",
      "| \u001b[0m429      \u001b[0m | \u001b[0m-656.1   \u001b[0m | \u001b[0m5.0      \u001b[0m | \u001b[0m1.966    \u001b[0m | \u001b[0m-7.096   \u001b[0m |\n",
      "| \u001b[0m430      \u001b[0m | \u001b[0m-329.6   \u001b[0m | \u001b[0m11.32    \u001b[0m | \u001b[0m4.997    \u001b[0m | \u001b[0m-3.006   \u001b[0m |\n",
      "| \u001b[0m431      \u001b[0m | \u001b[0m-397.3   \u001b[0m | \u001b[0m16.79    \u001b[0m | \u001b[0m4.961    \u001b[0m | \u001b[0m-8.749   \u001b[0m |\n",
      "| \u001b[0m432      \u001b[0m | \u001b[0m-179.9   \u001b[0m | \u001b[0m16.14    \u001b[0m | \u001b[0m0.9302   \u001b[0m | \u001b[0m-5.49    \u001b[0m |\n",
      "| \u001b[0m433      \u001b[0m | \u001b[0m-672.8   \u001b[0m | \u001b[0m10.75    \u001b[0m | \u001b[0m0.2      \u001b[0m | \u001b[0m-6.802   \u001b[0m |\n",
      "| \u001b[0m434      \u001b[0m | \u001b[0m-190.8   \u001b[0m | \u001b[0m17.49    \u001b[0m | \u001b[0m1.94     \u001b[0m | \u001b[0m-5.875   \u001b[0m |\n",
      "| \u001b[0m435      \u001b[0m | \u001b[0m-356.9   \u001b[0m | \u001b[0m7.127    \u001b[0m | \u001b[0m4.015    \u001b[0m | \u001b[0m-3.0     \u001b[0m |\n",
      "| \u001b[0m436      \u001b[0m | \u001b[0m-205.9   \u001b[0m | \u001b[0m16.55    \u001b[0m | \u001b[0m0.9075   \u001b[0m | \u001b[0m-4.927   \u001b[0m |\n",
      "| \u001b[0m437      \u001b[0m | \u001b[0m-357.0   \u001b[0m | \u001b[0m13.37    \u001b[0m | \u001b[0m3.032    \u001b[0m | \u001b[0m-3.0     \u001b[0m |\n",
      "| \u001b[0m438      \u001b[0m | \u001b[0m-395.0   \u001b[0m | \u001b[0m6.109    \u001b[0m | \u001b[0m5.0      \u001b[0m | \u001b[0m-3.0     \u001b[0m |\n",
      "| \u001b[0m439      \u001b[0m | \u001b[0m-435.2   \u001b[0m | \u001b[0m8.488    \u001b[0m | \u001b[0m4.233    \u001b[0m | \u001b[0m-5.18    \u001b[0m |\n",
      "| \u001b[0m440      \u001b[0m | \u001b[0m-369.7   \u001b[0m | \u001b[0m6.022    \u001b[0m | \u001b[0m2.385    \u001b[0m | \u001b[0m-3.0     \u001b[0m |\n",
      "| \u001b[0m441      \u001b[0m | \u001b[0m-156.7   \u001b[0m | \u001b[0m17.02    \u001b[0m | \u001b[0m2.061    \u001b[0m | \u001b[0m-6.545   \u001b[0m |\n",
      "| \u001b[0m442      \u001b[0m | \u001b[0m-426.9   \u001b[0m | \u001b[0m9.0      \u001b[0m | \u001b[0m2.25     \u001b[0m | \u001b[0m-4.871   \u001b[0m |\n",
      "| \u001b[0m443      \u001b[0m | \u001b[0m-196.7   \u001b[0m | \u001b[0m19.97    \u001b[0m | \u001b[0m2.872    \u001b[0m | \u001b[0m-9.306   \u001b[0m |\n",
      "| \u001b[0m444      \u001b[0m | \u001b[0m-177.9   \u001b[0m | \u001b[0m17.0     \u001b[0m | \u001b[0m1.936    \u001b[0m | \u001b[0m-5.964   \u001b[0m |\n",
      "| \u001b[0m445      \u001b[0m | \u001b[0m-430.8   \u001b[0m | \u001b[0m13.98    \u001b[0m | \u001b[0m1.053    \u001b[0m | \u001b[0m-4.837   \u001b[0m |\n",
      "| \u001b[0m446      \u001b[0m | \u001b[0m-343.8   \u001b[0m | \u001b[0m13.26    \u001b[0m | \u001b[0m0.2197   \u001b[0m | \u001b[0m-3.011   \u001b[0m |\n",
      "| \u001b[0m447      \u001b[0m | \u001b[0m-602.7   \u001b[0m | \u001b[0m9.27     \u001b[0m | \u001b[0m5.0      \u001b[0m | \u001b[0m-8.083   \u001b[0m |\n",
      "| \u001b[0m448      \u001b[0m | \u001b[0m-204.2   \u001b[0m | \u001b[0m13.63    \u001b[0m | \u001b[0m0.9695   \u001b[0m | \u001b[0m-3.641   \u001b[0m |\n",
      "| \u001b[0m449      \u001b[0m | \u001b[0m-160.1   \u001b[0m | \u001b[0m14.54    \u001b[0m | \u001b[0m0.9951   \u001b[0m | \u001b[0m-4.381   \u001b[0m |\n",
      "| \u001b[0m450      \u001b[0m | \u001b[0m-184.3   \u001b[0m | \u001b[0m13.98    \u001b[0m | \u001b[0m1.07     \u001b[0m | \u001b[0m-4.084   \u001b[0m |\n",
      "| \u001b[0m451      \u001b[0m | \u001b[0m-673.5   \u001b[0m | \u001b[0m8.15     \u001b[0m | \u001b[0m0.2      \u001b[0m | \u001b[0m-6.779   \u001b[0m |\n",
      "| \u001b[0m452      \u001b[0m | \u001b[0m-387.5   \u001b[0m | \u001b[0m14.95    \u001b[0m | \u001b[0m3.093    \u001b[0m | \u001b[0m-3.0     \u001b[0m |\n",
      "| \u001b[0m453      \u001b[0m | \u001b[0m-379.3   \u001b[0m | \u001b[0m15.41    \u001b[0m | \u001b[0m1.877    \u001b[0m | \u001b[0m-4.218   \u001b[0m |\n",
      "| \u001b[0m454      \u001b[0m | \u001b[0m-354.5   \u001b[0m | \u001b[0m13.84    \u001b[0m | \u001b[0m2.205    \u001b[0m | \u001b[0m-3.879   \u001b[0m |\n",
      "| \u001b[0m455      \u001b[0m | \u001b[0m-204.9   \u001b[0m | \u001b[0m14.99    \u001b[0m | \u001b[0m1.055    \u001b[0m | \u001b[0m-4.027   \u001b[0m |\n",
      "| \u001b[0m456      \u001b[0m | \u001b[0m-331.9   \u001b[0m | \u001b[0m12.7     \u001b[0m | \u001b[0m3.22     \u001b[0m | \u001b[0m-3.664   \u001b[0m |\n",
      "| \u001b[0m457      \u001b[0m | \u001b[0m-440.4   \u001b[0m | \u001b[0m10.83    \u001b[0m | \u001b[0m2.947    \u001b[0m | \u001b[0m-5.918   \u001b[0m |\n",
      "| \u001b[0m458      \u001b[0m | \u001b[0m-730.1   \u001b[0m | \u001b[0m11.33    \u001b[0m | \u001b[0m3.359    \u001b[0m | \u001b[0m-10.0    \u001b[0m |\n",
      "| \u001b[0m459      \u001b[0m | \u001b[0m-352.4   \u001b[0m | \u001b[0m14.84    \u001b[0m | \u001b[0m4.301    \u001b[0m | \u001b[0m-6.98    \u001b[0m |\n",
      "| \u001b[0m460      \u001b[0m | \u001b[0m-350.9   \u001b[0m | \u001b[0m10.28    \u001b[0m | \u001b[0m1.061    \u001b[0m | \u001b[0m-3.0     \u001b[0m |\n",
      "| \u001b[0m461      \u001b[0m | \u001b[0m-173.6   \u001b[0m | \u001b[0m18.33    \u001b[0m | \u001b[0m2.263    \u001b[0m | \u001b[0m-7.731   \u001b[0m |\n",
      "| \u001b[0m462      \u001b[0m | \u001b[0m-203.1   \u001b[0m | \u001b[0m19.97    \u001b[0m | \u001b[0m2.105    \u001b[0m | \u001b[0m-8.847   \u001b[0m |\n",
      "| \u001b[0m463      \u001b[0m | \u001b[0m-408.7   \u001b[0m | \u001b[0m11.59    \u001b[0m | \u001b[0m4.957    \u001b[0m | \u001b[0m-6.324   \u001b[0m |\n",
      "| \u001b[0m464      \u001b[0m | \u001b[0m-658.5   \u001b[0m | \u001b[0m18.37    \u001b[0m | \u001b[0m0.2      \u001b[0m | \u001b[0m-3.0     \u001b[0m |\n",
      "| \u001b[0m465      \u001b[0m | \u001b[0m-421.1   \u001b[0m | \u001b[0m8.672    \u001b[0m | \u001b[0m0.2      \u001b[0m | \u001b[0m-3.0     \u001b[0m |\n",
      "| \u001b[0m466      \u001b[0m | \u001b[0m-762.2   \u001b[0m | \u001b[0m6.46     \u001b[0m | \u001b[0m0.2      \u001b[0m | \u001b[0m-8.431   \u001b[0m |\n",
      "| \u001b[0m467      \u001b[0m | \u001b[0m-206.6   \u001b[0m | \u001b[0m19.56    \u001b[0m | \u001b[0m3.316    \u001b[0m | \u001b[0m-7.987   \u001b[0m |\n",
      "| \u001b[0m468      \u001b[0m | \u001b[0m-231.7   \u001b[0m | \u001b[0m19.44    \u001b[0m | \u001b[0m1.301    \u001b[0m | \u001b[0m-5.885   \u001b[0m |\n",
      "| \u001b[0m469      \u001b[0m | \u001b[0m-339.2   \u001b[0m | \u001b[0m9.971    \u001b[0m | \u001b[0m4.964    \u001b[0m | \u001b[0m-3.764   \u001b[0m |\n",
      "| \u001b[0m470      \u001b[0m | \u001b[0m-433.9   \u001b[0m | \u001b[0m18.77    \u001b[0m | \u001b[0m4.105    \u001b[0m | \u001b[0m-5.254   \u001b[0m |\n",
      "| \u001b[0m471      \u001b[0m | \u001b[0m-192.8   \u001b[0m | \u001b[0m17.55    \u001b[0m | \u001b[0m2.458    \u001b[0m | \u001b[0m-6.187   \u001b[0m |\n",
      "| \u001b[0m472      \u001b[0m | \u001b[0m-208.1   \u001b[0m | \u001b[0m19.27    \u001b[0m | \u001b[0m1.5      \u001b[0m | \u001b[0m-7.182   \u001b[0m |\n",
      "| \u001b[0m473      \u001b[0m | \u001b[0m-374.4   \u001b[0m | \u001b[0m13.08    \u001b[0m | \u001b[0m1.731    \u001b[0m | \u001b[0m-4.649   \u001b[0m |\n",
      "| \u001b[0m474      \u001b[0m | \u001b[0m-419.3   \u001b[0m | \u001b[0m12.65    \u001b[0m | \u001b[0m2.705    \u001b[0m | \u001b[0m-6.019   \u001b[0m |\n",
      "| \u001b[0m475      \u001b[0m | \u001b[0m-199.2   \u001b[0m | \u001b[0m19.52    \u001b[0m | \u001b[0m4.355    \u001b[0m | \u001b[0m-9.434   \u001b[0m |\n",
      "| \u001b[0m476      \u001b[0m | \u001b[0m-231.4   \u001b[0m | \u001b[0m13.96    \u001b[0m | \u001b[0m0.6691   \u001b[0m | \u001b[0m-3.306   \u001b[0m |\n",
      "| \u001b[0m477      \u001b[0m | \u001b[0m-146.2   \u001b[0m | \u001b[0m15.77    \u001b[0m | \u001b[0m1.672    \u001b[0m | \u001b[0m-5.725   \u001b[0m |\n",
      "| \u001b[0m478      \u001b[0m | \u001b[0m-765.9   \u001b[0m | \u001b[0m6.71     \u001b[0m | \u001b[0m5.0      \u001b[0m | \u001b[0m-10.0    \u001b[0m |\n",
      "| \u001b[0m479      \u001b[0m | \u001b[0m-192.4   \u001b[0m | \u001b[0m19.5     \u001b[0m | \u001b[0m3.923    \u001b[0m | \u001b[0m-9.148   \u001b[0m |\n",
      "| \u001b[0m480      \u001b[0m | \u001b[0m-330.4   \u001b[0m | \u001b[0m11.85    \u001b[0m | \u001b[0m3.34     \u001b[0m | \u001b[0m-3.0     \u001b[0m |\n",
      "| \u001b[0m481      \u001b[0m | \u001b[0m-162.2   \u001b[0m | \u001b[0m14.09    \u001b[0m | \u001b[0m1.469    \u001b[0m | \u001b[0m-4.765   \u001b[0m |\n",
      "| \u001b[0m482      \u001b[0m | \u001b[0m-155.9   \u001b[0m | \u001b[0m14.59    \u001b[0m | \u001b[0m1.528    \u001b[0m | \u001b[0m-5.044   \u001b[0m |\n",
      "| \u001b[0m483      \u001b[0m | \u001b[0m-349.7   \u001b[0m | \u001b[0m7.064    \u001b[0m | \u001b[0m2.882    \u001b[0m | \u001b[0m-3.003   \u001b[0m |\n",
      "| \u001b[0m484      \u001b[0m | \u001b[0m-136.3   \u001b[0m | \u001b[0m14.5     \u001b[0m | \u001b[0m1.184    \u001b[0m | \u001b[0m-4.821   \u001b[0m |\n",
      "| \u001b[0m485      \u001b[0m | \u001b[0m-334.5   \u001b[0m | \u001b[0m9.33     \u001b[0m | \u001b[0m3.561    \u001b[0m | \u001b[0m-3.704   \u001b[0m |\n"
     ]
    },
    {
     "name": "stdout",
     "output_type": "stream",
     "text": [
      "| \u001b[0m486      \u001b[0m | \u001b[0m-330.2   \u001b[0m | \u001b[0m12.42    \u001b[0m | \u001b[0m5.0      \u001b[0m | \u001b[0m-3.8     \u001b[0m |\n",
      "| \u001b[0m487      \u001b[0m | \u001b[0m-188.5   \u001b[0m | \u001b[0m19.53    \u001b[0m | \u001b[0m3.293    \u001b[0m | \u001b[0m-8.852   \u001b[0m |\n",
      "| \u001b[0m488      \u001b[0m | \u001b[0m-169.6   \u001b[0m | \u001b[0m15.18    \u001b[0m | \u001b[0m1.702    \u001b[0m | \u001b[0m-5.091   \u001b[0m |\n",
      "| \u001b[0m489      \u001b[0m | \u001b[0m-203.0   \u001b[0m | \u001b[0m20.0     \u001b[0m | \u001b[0m3.012    \u001b[0m | \u001b[0m-8.131   \u001b[0m |\n",
      "| \u001b[0m490      \u001b[0m | \u001b[0m-447.3   \u001b[0m | \u001b[0m15.8     \u001b[0m | \u001b[0m3.796    \u001b[0m | \u001b[0m-8.156   \u001b[0m |\n",
      "| \u001b[0m491      \u001b[0m | \u001b[0m-281.1   \u001b[0m | \u001b[0m20.0     \u001b[0m | \u001b[0m0.9696   \u001b[0m | \u001b[0m-6.291   \u001b[0m |\n",
      "| \u001b[0m492      \u001b[0m | \u001b[0m-836.9   \u001b[0m | \u001b[0m9.885    \u001b[0m | \u001b[0m0.2      \u001b[0m | \u001b[0m-10.0    \u001b[0m |\n",
      "| \u001b[0m493      \u001b[0m | \u001b[0m-509.4   \u001b[0m | \u001b[0m9.989    \u001b[0m | \u001b[0m0.2      \u001b[0m | \u001b[0m-4.147   \u001b[0m |\n",
      "| \u001b[0m494      \u001b[0m | \u001b[0m-323.9   \u001b[0m | \u001b[0m13.17    \u001b[0m | \u001b[0m3.975    \u001b[0m | \u001b[0m-4.452   \u001b[0m |\n",
      "| \u001b[0m495      \u001b[0m | \u001b[0m-197.4   \u001b[0m | \u001b[0m16.69    \u001b[0m | \u001b[0m3.529    \u001b[0m | \u001b[0m-7.165   \u001b[0m |\n",
      "| \u001b[0m496      \u001b[0m | \u001b[0m-346.7   \u001b[0m | \u001b[0m16.83    \u001b[0m | \u001b[0m4.001    \u001b[0m | \u001b[0m-6.798   \u001b[0m |\n",
      "| \u001b[0m497      \u001b[0m | \u001b[0m-476.8   \u001b[0m | \u001b[0m6.252    \u001b[0m | \u001b[0m2.862    \u001b[0m | \u001b[0m-4.882   \u001b[0m |\n",
      "| \u001b[0m498      \u001b[0m | \u001b[0m-324.0   \u001b[0m | \u001b[0m11.34    \u001b[0m | \u001b[0m1.509    \u001b[0m | \u001b[0m-3.0     \u001b[0m |\n",
      "| \u001b[0m499      \u001b[0m | \u001b[0m-366.9   \u001b[0m | \u001b[0m16.07    \u001b[0m | \u001b[0m4.166    \u001b[0m | \u001b[0m-5.148   \u001b[0m |\n",
      "| \u001b[0m500      \u001b[0m | \u001b[0m-454.7   \u001b[0m | \u001b[0m10.11    \u001b[0m | \u001b[0m5.0      \u001b[0m | \u001b[0m-6.284   \u001b[0m |\n",
      "=============================================================\n",
      "CPU times: user 12min 59s, sys: 10min 17s, total: 23min 17s\n",
      "Wall time: 3min 43s\n"
     ]
    }
   ],
   "source": [
    "%%time\n",
    "\n",
    "cost_model_list  = [-100000]\n",
    "X_model_list = [-100000]\n",
    "\n",
    "set_seed(0)\n",
    "optimizer = BayesianOptimization(f=black_box_function_BO, pbounds=pbounds, random_state=0)\n",
    "optimizer.maximize(init_points=50, n_iter=450, kappa=100)"
   ]
  },
  {
   "cell_type": "code",
   "execution_count": 43,
   "metadata": {},
   "outputs": [
    {
     "name": "stdout",
     "output_type": "stream",
     "text": [
      "{'target': -131.33411674670518, 'params': {'J': 16.43257949542188, 'delta': 1.3699976564745766, 'eta': -6.199250014337757}}\n"
     ]
    }
   ],
   "source": [
    "print(optimizer.max)"
   ]
  },
  {
   "cell_type": "code",
   "execution_count": 44,
   "metadata": {},
   "outputs": [
    {
     "data": {
      "text/plain": [
       "131.33411674670518"
      ]
     },
     "execution_count": 44,
     "metadata": {},
     "output_type": "execute_result"
    }
   ],
   "source": [
    "np.sqrt(np.sum((X_model_list[np.argmax(cost_model_list)] - X_obs)**2))"
   ]
  },
  {
   "cell_type": "code",
   "execution_count": 45,
   "metadata": {},
   "outputs": [
    {
     "data": {
      "text/plain": [
       "array([ 1.36999766, -6.19925001, 16.4325795 ])"
      ]
     },
     "execution_count": 45,
     "metadata": {},
     "output_type": "execute_result"
    }
   ],
   "source": [
    "cost_final = -optimizer.max['target']\n",
    "params_opt = optimizer.max['params']\n",
    "params_est = np.array([params_opt[prm] for prm in ['delta', 'eta', 'J']])\n",
    "params_est"
   ]
  },
  {
   "cell_type": "code",
   "execution_count": 46,
   "metadata": {},
   "outputs": [
    {
     "data": {
      "text/plain": [
       "1.499039800913219"
      ]
     },
     "execution_count": 46,
     "metadata": {},
     "output_type": "execute_result"
    }
   ],
   "source": [
    "rmse_prms = RMSE(params_est, params_true)\n",
    "rmse_prms"
   ]
  },
  {
   "cell_type": "code",
   "execution_count": 47,
   "metadata": {},
   "outputs": [],
   "source": [
    "v_fit, r_fit = X_model_list[np.argmax(cost_model_list)]"
   ]
  },
  {
   "cell_type": "markdown",
   "metadata": {},
   "source": [
    "New simulation with optimal parameters:"
   ]
  },
  {
   "cell_type": "code",
   "execution_count": 48,
   "metadata": {},
   "outputs": [],
   "source": [
    "set_seed(0)\n",
    "Sim_est = Montbrio_SDEmodel(params_est, inits, I_input, sigma_noise, dt, ts)"
   ]
  },
  {
   "cell_type": "code",
   "execution_count": 49,
   "metadata": {},
   "outputs": [],
   "source": [
    "v_sim_est = Sim_est[0]\n",
    "r_sim_est = Sim_est[1]"
   ]
  },
  {
   "cell_type": "code",
   "execution_count": 50,
   "metadata": {},
   "outputs": [],
   "source": [
    "res_dict = {'v_sim': list(v_sim_est), 'r_sim': list(r_sim_est), \n",
    "            'v_fit': list(v_fit), 'r_fit': list(r_fit),\n",
    "            'delta': params_est[0], 'eta': params_est[1], 'J': params_est[2],\n",
    "            'sigma': sigma_noise, \n",
    "            'rmse_prms': rmse_prms, 'cost': cost_final}\n",
    "\n",
    "json_object = json.dumps(res_dict, indent=4)\n",
    "with open(\"results/bayesopt_simODE_output.json\", \"w\") as outfile:\n",
    "    outfile.write(json_object)"
   ]
  },
  {
   "cell_type": "code",
   "execution_count": null,
   "metadata": {},
   "outputs": [],
   "source": []
  },
  {
   "cell_type": "markdown",
   "metadata": {},
   "source": [
    "## MAP"
   ]
  },
  {
   "cell_type": "code",
   "execution_count": 11,
   "metadata": {},
   "outputs": [],
   "source": [
    "import cmdstanpy"
   ]
  },
  {
   "cell_type": "code",
   "execution_count": null,
   "metadata": {},
   "outputs": [],
   "source": [
    "stan_models_dir = cwd + '/stan_models/'"
   ]
  },
  {
   "cell_type": "code",
   "execution_count": 12,
   "metadata": {
    "scrolled": true
   },
   "outputs": [],
   "source": [
    "model='uniform_fixedsig'\n",
    "cmdModel = cmdstanpy.CmdStanModel(stan_file= stan_models_dir  + model + '.stan')\n",
    "cmdModel.compile()"
   ]
  },
  {
   "cell_type": "code",
   "execution_count": 13,
   "metadata": {},
   "outputs": [
    {
     "name": "stderr",
     "output_type": "stream",
     "text": [
      "12:13:23 - cmdstanpy - INFO - Chain [1] start processing\n",
      "12:15:51 - cmdstanpy - INFO - Chain [1] done processing\n"
     ]
    },
    {
     "name": "stdout",
     "output_type": "stream",
     "text": [
      "CPU times: user 1.47 s, sys: 117 ms, total: 1.58 s\n",
      "Wall time: 2min 29s\n"
     ]
    }
   ],
   "source": [
    "%%time\n",
    "\n",
    "data = data_input.copy()\n",
    "data['rs'] = X_obs[1, :]\n",
    "data['vs'] = X_obs[0, :]\n",
    "data['ds'] = 1 #no downsampling\n",
    "\n",
    "fit = cmdModel.optimize(data=data, seed=0)"
   ]
  },
  {
   "cell_type": "code",
   "execution_count": 14,
   "metadata": {},
   "outputs": [],
   "source": [
    "fit_vars = fit.stan_variables()"
   ]
  },
  {
   "cell_type": "code",
   "execution_count": 15,
   "metadata": {},
   "outputs": [],
   "source": [
    "params_est = np.array([fit_vars['delta'], fit_vars['eta'], fit_vars['J']])"
   ]
  },
  {
   "cell_type": "code",
   "execution_count": 16,
   "metadata": {},
   "outputs": [
    {
     "data": {
      "text/plain": [
       "3.978480816831973"
      ]
     },
     "execution_count": 16,
     "metadata": {},
     "output_type": "execute_result"
    }
   ],
   "source": [
    "rmse_prms = RMSE(params_est, params_true)\n",
    "rmse_prms"
   ]
  },
  {
   "cell_type": "code",
   "execution_count": 17,
   "metadata": {},
   "outputs": [
    {
     "data": {
      "text/plain": [
       "0.0012856420968787798"
      ]
     },
     "execution_count": 17,
     "metadata": {},
     "output_type": "execute_result"
    }
   ],
   "source": [
    "X_est = np.vstack((fit_vars['v'], fit_vars['r']))\n",
    "cost_final = np.sqrt(np.sum((X_est - X_obs)**2))\n",
    "cost_final"
   ]
  },
  {
   "cell_type": "markdown",
   "metadata": {},
   "source": [
    "New simulation with optimal parameters:"
   ]
  },
  {
   "cell_type": "code",
   "execution_count": 19,
   "metadata": {},
   "outputs": [],
   "source": [
    "set_seed(0)\n",
    "Sim_est = Montbrio_SDEmodel(params_est, inits, I_input, sigma_noise, dt, ts)"
   ]
  },
  {
   "cell_type": "code",
   "execution_count": 20,
   "metadata": {},
   "outputs": [],
   "source": [
    "v_sim_est = Sim_est[0]\n",
    "r_sim_est = Sim_est[1]"
   ]
  },
  {
   "cell_type": "code",
   "execution_count": 21,
   "metadata": {},
   "outputs": [],
   "source": [
    "res_dict = {'v_sim': list(v_sim_est), 'r_sim': list(r_sim_est), \n",
    "            'v_fit': list(fit_vars['v']), 'r_fit': list(fit_vars['r']), \n",
    "            'delta': params_est[0], 'eta': params_est[1], 'J': params_est[2],\n",
    "            'eps': fit_vars['eps'],\n",
    "            'sigma': sigma_noise, \n",
    "            'rmse_prms': rmse_prms, 'cost': cost_final}\n",
    "json_object = json.dumps(res_dict, indent=4)\n",
    "with open(\"results/map_simODE_output.json\", \"w\") as outfile:\n",
    "    outfile.write(json_object)"
   ]
  },
  {
   "cell_type": "code",
   "execution_count": null,
   "metadata": {},
   "outputs": [],
   "source": []
  }
 ],
 "metadata": {
  "kernelspec": {
   "display_name": "Python 3 (ipykernel)",
   "language": "python",
   "name": "python3"
  },
  "language_info": {
   "codemirror_mode": {
    "name": "ipython",
    "version": 3
   },
   "file_extension": ".py",
   "mimetype": "text/x-python",
   "name": "python",
   "nbconvert_exporter": "python",
   "pygments_lexer": "ipython3",
   "version": "3.10.12"
  }
 },
 "nbformat": 4,
 "nbformat_minor": 4
}
